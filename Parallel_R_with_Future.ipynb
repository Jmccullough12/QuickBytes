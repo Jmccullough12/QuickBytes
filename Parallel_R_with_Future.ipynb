{
 "cells": [
  {
   "cell_type": "markdown",
   "metadata": {},
   "source": [
    "# Parallelization of R code using the future package\n",
    "\n",
    "In R, numerous packages can be used to parallelize code (parallel, snow, foreach, etc.), but each of  these packages use unique syntaxes and none of them work for all cases of parallelization. Instead, the [future package](https://github.com/HenrikBengtsson/future) solves this problem! Briefly (seet the [future package](https://github.com/HenrikBengtsson/future) for details), the future package works in three steps:\n",
    "\n",
    "1. Choose how you want to parallelize your code\n",
    "    - set the type of parallelization with the plan() object.  \n",
    "2. Choose which part of the code you would like to run in parallel\n",
    "    - place the part of the code that will be iterated within the future({}) object. \n",
    "3. Evaluate the code. \n",
    "    - run the iterations using the value() object. \n",
    "\n",
    "The power of the future package is it separates the planning for the parallelization (steps 1 and 2) and then executes the code aftward. This allows the user to control how and where to parallelize their own code. Thus, by learning the framework you can extend it to any iterative process.\n",
    "\n",
    "Here are a few examples to demonstrate some common iterative problems in R: \n",
    "\n",
    "1. For-loop Example and basic structure\n",
    "2. Tidyverse example using the furrr package\n",
    "3. Bayesian example using multiple nodes via the future.batchtools package\n",
    "4. Appendix: Testing speed of Future\n",
    "\n",
    "Final note:\n",
    "make sure you are on a node with 8 cores on an interactive node or logged into Jupyter before running the code. "
   ]
  },
  {
   "cell_type": "markdown",
   "metadata": {},
   "source": [
    "## Packages \n",
    "\n",
    "All the packages needed to run this quickbyte. I placed all of my packages within the ~/R/Jupyter directory, but choose your a directory for your code. If you have issues loading the packages due to conflicts in the dependencies, try to install these packages in the terminal. "
   ]
  },
  {
   "cell_type": "code",
   "execution_count": 1,
   "metadata": {},
   "outputs": [],
   "source": [
    "# make sure to make the folder prior to installing packages or else it won't work!\n",
    "dir.create(\"~/R/Jupyter\", recursive = TRUE)\n",
    "path_to_packages <- \"~/R/Jupyter\""
   ]
  },
  {
   "cell_type": "code",
   "execution_count": 2,
   "metadata": {},
   "outputs": [
    {
     "name": "stderr",
     "output_type": "stream",
     "text": [
      "also installing the dependencies ‘globals’, ‘listenv’, ‘parallelly’\n",
      "\n",
      "also installing the dependencies ‘base64url’, ‘batchtools’\n",
      "\n",
      "also installing the dependencies ‘dotCall64’, ‘spam’, ‘maps’, ‘mcmc’, ‘coda’, ‘ape’, ‘BayesLogit’, ‘fields’, ‘FNN’, ‘matrixStats’, ‘MCMCpack’, ‘pracma’, ‘pROC’, ‘statmod’, ‘truncnorm’\n",
      "\n",
      "also installing the dependencies ‘ellipsis’, ‘glue’, ‘lifecycle’, ‘rlang’, ‘tidyselect’, ‘vctrs’, ‘pillar’\n",
      "\n",
      "also installing the dependency ‘cpp11’\n",
      "\n",
      "also installing the dependency ‘isoband’\n",
      "\n"
     ]
    }
   ],
   "source": [
    "# double check you have multiple cores available\n",
    "install.packages(\"future\", lib = path_to_packages, repos='http://cran.us.r-project.org', Ncpus = 8)\n",
    "install.packages(\"future.batchtools\", lib = path_to_packages, repos='http://cran.us.r-project.org', Ncpus = 8)\n",
    "install.packages(\"repurrrsive\", lib = path_to_packages, repos='http://cran.us.r-project.org', Ncpus = 8)\n",
    "install.packages(\"future.batchtools\", lib = path_to_packages, repos='http://cran.us.r-project.org', Ncpus = 8)\n",
    "install.packages(\"Hmsc\", lib = path_to_packages, repos='http://cran.us.r-project.org', Ncpus = 8) \n",
    "install.packages(\"purrr\", lib = path_to_packages, repos='http://cran.us.r-project.org', Ncpus = 8)\n",
    "install.packages(\"dplyr\", lib = path_to_packages, repos='http://cran.us.r-project.org', Ncpus = 8)\n",
    "install.packages(\"furrr\", lib = path_to_packages, repos='http://cran.us.r-project.org', Ncpus = 8)\n",
    "install.packages(\"tidyr\", lib = path_to_packages, repos='http://cran.us.r-project.org', Ncpus = 8)\n",
    "install.packages(\"snow\", lib =  path_to_packages, repos='http://cran.us.r-project.org', Ncpus = 8)\n",
    "install.packages(\"ggplot2\", lib =  path_to_packages, repos='http://cran.us.r-project.org', Ncpus = 8)\n",
    "install.packages(\"tibble\", lib =  path_to_packages, repos='http://cran.us.r-project.org', Ncpus = 8)\n",
    "install.packages(\"labeling\", lib =  path_to_packages, repos='http://cran.us.r-project.org', Ncpus = 8)\n",
    "install.packages(\"farver\", lib =  path_to_packages, repos='http://cran.us.r-project.org', Ncpus = 8)"
   ]
  },
  {
   "cell_type": "code",
   "execution_count": 3,
   "metadata": {},
   "outputs": [
    {
     "name": "stderr",
     "output_type": "stream",
     "text": [
      "\n",
      "Attaching package: ‘dplyr’\n",
      "\n",
      "The following objects are masked from ‘package:stats’:\n",
      "\n",
      "    filter, lag\n",
      "\n",
      "The following objects are masked from ‘package:base’:\n",
      "\n",
      "    intersect, setdiff, setequal, union\n",
      "\n"
     ]
    },
    {
     "data": {
      "text/html": [
       "<strong>system:</strong> 8"
      ],
      "text/latex": [
       "\\textbf{system:} 8"
      ],
      "text/markdown": [
       "**system:** 8"
      ],
      "text/plain": [
       "system \n",
       "     8 "
      ]
     },
     "metadata": {},
     "output_type": "display_data"
    },
    {
     "data": {
      "text/html": [
       "TRUE"
      ],
      "text/latex": [
       "TRUE"
      ],
      "text/markdown": [
       "TRUE"
      ],
      "text/plain": [
       "[1] TRUE"
      ]
     },
     "metadata": {},
     "output_type": "display_data"
    }
   ],
   "source": [
    "library(future, lib.loc = path_to_packages) # needed for all examples\n",
    "library(purrr, lib.loc = path_to_packages) # needed for tidyvese example\n",
    "library(dplyr, lib.loc = path_to_packages) # needed for tidyverse example\n",
    "library(furrr, lib.loc = path_to_packages) # needed for tidyverse example\n",
    "library(repurrrsive, lib.loc = path_to_packages) # loads in data for tidyverse example\n",
    "library(future.batchtools, lib.loc = path_to_packages) # needed for bayesian example\n",
    "library(coda, lib.loc = path_to_packages) # needed to load Hmsc for bayesian example\n",
    "library(Hmsc, lib.loc = path_to_packages) # needed for bayesian example\n",
    "library(tidyr, lib.loc = path_to_packages) # needed for tidyverse examaple\n",
    "library(snow, lib.loc = path_to_packages) # needed to load Hmsc for bayesian example\n",
    "library(ggplot2, lib.loc = path_to_packages) # needed to plot functions\n",
    "library(labeling, lib.loc = path_to_packages) # needed to plot functions\n",
    "library(farver, lib.loc = path_to_packages) # needed to plot functions\n",
    "\n",
    "# double-check you have access to mulitple cores \n",
    "availableCores()\n",
    "\n",
    "# check that you can run multicore (will fail for R-studio and windows!)\n",
    "supportsMulticore()"
   ]
  },
  {
   "cell_type": "markdown",
   "metadata": {},
   "source": [
    "<a id=’section_1’></a>\n",
    "## 1. For-loop example and basic structure\n",
    "\n",
    "This examaple shows how the future package can be helpful for running a for-loop that iterates over a very slow function."
   ]
  },
  {
   "cell_type": "markdown",
   "metadata": {},
   "source": [
    "### Setting up and running loop in serial\n",
    "First, we will create a function thta pauses for 0.5 seconds. \n",
    "At the end, we will print the lenght of time it took to run. "
   ]
  },
  {
   "cell_type": "code",
   "execution_count": 4,
   "metadata": {},
   "outputs": [
    {
     "data": {
      "text/html": [
       "<ol class=list-inline>\n",
       "\t<li>'Step 1 completed'</li>\n",
       "\t<li>'Step 2 completed'</li>\n",
       "\t<li>'Step 3 completed'</li>\n",
       "\t<li>'Step 4 completed'</li>\n",
       "\t<li>'Step 5 completed'</li>\n",
       "\t<li>'Step 6 completed'</li>\n",
       "</ol>\n"
      ],
      "text/latex": [
       "\\begin{enumerate*}\n",
       "\\item 'Step 1 completed'\n",
       "\\item 'Step 2 completed'\n",
       "\\item 'Step 3 completed'\n",
       "\\item 'Step 4 completed'\n",
       "\\item 'Step 5 completed'\n",
       "\\item 'Step 6 completed'\n",
       "\\end{enumerate*}\n"
      ],
      "text/markdown": [
       "1. 'Step 1 completed'\n",
       "2. 'Step 2 completed'\n",
       "3. 'Step 3 completed'\n",
       "4. 'Step 4 completed'\n",
       "5. 'Step 5 completed'\n",
       "6. 'Step 6 completed'\n",
       "\n",
       "\n"
      ],
      "text/plain": [
       "[1] \"Step 1 completed\" \"Step 2 completed\" \"Step 3 completed\" \"Step 4 completed\"\n",
       "[5] \"Step 5 completed\" \"Step 6 completed\""
      ]
     },
     "metadata": {},
     "output_type": "display_data"
    },
    {
     "name": "stdout",
     "output_type": "stream",
     "text": [
      "[1] \"Elapsed time (seconds) for for-loop\"\n"
     ]
    },
    {
     "data": {
      "text/html": [
       "25.06"
      ],
      "text/latex": [
       "25.06"
      ],
      "text/markdown": [
       "25.06"
      ],
      "text/plain": [
       "[1] 25.06"
      ]
     },
     "metadata": {},
     "output_type": "display_data"
    }
   ],
   "source": [
    "# custom function that waits a half a second and then prints current step value\n",
    "slow_function <- function(step){\n",
    "  \n",
    "  # wait half a second\n",
    "  Sys.sleep(.5)\n",
    "    paste0(\"Step \", step, \" completed\")\n",
    "\n",
    "}\n",
    "\n",
    "\n",
    "#### running loop in serial ####\n",
    "# timestamp before loop \n",
    "t1 <- proc.time()\n",
    "# pre-allocate output \n",
    "output <- rep(NA, 50)\n",
    "\n",
    "# for-loop\n",
    "for (i in 1:50){\n",
    "  output[i] <- slow_function(i)\n",
    "\n",
    "}\n",
    "\n",
    "# print the output for first 6 steps\n",
    "head(output)\n",
    "\n",
    "# timestampe after loop \n",
    "t2 <- proc.time()\n",
    "\n",
    "\n",
    "print(\"Elapsed time (seconds) for for-loop\")\n",
    "# length of time\n",
    "time_Elapsed <- t2[[3]] - t1[[3]]\n",
    "round(time_Elapsed, 2)"
   ]
  },
  {
   "cell_type": "markdown",
   "metadata": {},
   "source": [
    "###  Rerunning for-loop in parallel\n",
    "Now we will re-write the for-loop so it is compatible with future. We will choose to run it across every core in the node we are using. \n",
    "\n",
    "WARNING: if you plan to run this example locally on R-studio, you will need to change it to plan(multisession). "
   ]
  },
  {
   "cell_type": "markdown",
   "metadata": {},
   "source": [
    "#### 1. Choose how you want to parallelize your code\n",
    "using the plan() object set to \"multicore\", we will establish we want to use all the cores available on the node. \n",
    "\n",
    "We will set the number of iterations to run to 50  and pre-allocate space for the future loop by creating the \"command_set\" object.  Since future puts every iterataion in a list, we will use vector to pre-allocate empty lists for every iteration."
   ]
  },
  {
   "cell_type": "code",
   "execution_count": 5,
   "metadata": {},
   "outputs": [],
   "source": [
    "#### rerunning loop in parallel using all available cores ####\n",
    "# going to send iterations to each cores\n",
    "# to run it only on specified number of cores, add the argument, workers. \n",
    "plan(multicore)\n",
    "\n",
    "iterations <- 50\n",
    "# rewrite loop so it works with future:\n",
    "# future requires the iterative step to be saved as its own list, \n",
    "# thus we will create a list object with 50 slots for each step. \n",
    "command_set <- vector(mode = \"list\", length = iterations)\n",
    "\n"
   ]
  },
  {
   "cell_type": "markdown",
   "metadata": {},
   "source": [
    "#### 2. Choose which part of the code you would like to run in parallel\n",
    "Here, we are rewriting the for-loop here to use with future.\n",
    "\n",
    "We will place the section we want to iterate within the curly-brackets of the future() object. The output is written to a separate list within the y object (it creates a list of lists). When you run this code, it doesn't evalauate the loop but sets up the environments for each iteration to run in parallel. Thus, the time elapsed is all the time needed to plan the code. \n",
    "\n",
    "WARNING: Setting up the lists prior to evaluation can be slow. It is possible for an efficient for-loop with a minimal number of iterations to be faster in serial than running in parallel (see appendix)"
   ]
  },
  {
   "cell_type": "code",
   "execution_count": 6,
   "metadata": {},
   "outputs": [
    {
     "name": "stdout",
     "output_type": "stream",
     "text": [
      "[1] \"Elapsed time (seconds) for planning command set\"\n"
     ]
    },
    {
     "data": {
      "text/html": [
       "11.51"
      ],
      "text/latex": [
       "11.51"
      ],
      "text/markdown": [
       "11.51"
      ],
      "text/plain": [
       "[1] 11.51"
      ]
     },
     "metadata": {},
     "output_type": "display_data"
    }
   ],
   "source": [
    "\n",
    "t1 <- proc.time()\n",
    "for (i in 1:iterations){\n",
    "\n",
    "  command_set[[i]] <- future(\n",
    "    # code for each iteration within the curly brackets\n",
    "    {slow_function(i)}\n",
    "  ) \n",
    "}\n",
    "\n",
    "\n",
    "t2 <- proc.time()\n",
    "\n",
    "\n",
    "print(\"Elapsed time (seconds) for planning command set\")\n",
    "# length of time\n",
    "time_Elapsed <- t2[[3]] - t1[[3]]\n",
    "round(time_Elapsed, 2)\n"
   ]
  },
  {
   "cell_type": "markdown",
   "metadata": {},
   "source": [
    "Before Future evalautes the R code, it first writes the global environment to the \"command_set\" object. Each iteration is one list, thus extracting the first list will display what it will do for the first step in the loop. "
   ]
  },
  {
   "cell_type": "code",
   "execution_count": 7,
   "metadata": {},
   "outputs": [
    {
     "name": "stdout",
     "output_type": "stream",
     "text": [
      "[1] \"What one iteration looks like in the command set\"\n"
     ]
    },
    {
     "data": {
      "text/plain": [
       "MulticoreFuture:\n",
       "Label: ‘<none>’\n",
       "Expression:\n",
       "{\n",
       "    slow_function(i)\n",
       "}\n",
       "Lazy evaluation: FALSE\n",
       "Asynchronous evaluation: TRUE\n",
       "Local evaluation: TRUE\n",
       "Environment: R_GlobalEnv\n",
       "Capture standard output: TRUE\n",
       "Capture condition classes: ‘condition’\n",
       "Globals: <none>\n",
       "Packages: <none>\n",
       "L'Ecuyer-CMRG RNG seed: <none> (seed = FALSE)\n",
       "Resolved: TRUE\n",
       "Value: 136 bytes of class ‘character’\n",
       "Early signaling: FALSE\n",
       "Owner process: caa2f317-6e47-34e3-ce65-0791fae48b1b\n",
       "Class: ‘MulticoreFuture’, ‘MultiprocessFuture’, ‘Future’, ‘environment’"
      ]
     },
     "metadata": {},
     "output_type": "display_data"
    }
   ],
   "source": [
    "print(\"What one iteration looks like in the command set\")\n",
    "# prints first iteration\n",
    "command_set[[1]]"
   ]
  },
  {
   "cell_type": "markdown",
   "metadata": {},
   "source": [
    "####  3. Evaluate the code\n",
    "The value() object will take the list and run the code in parallel. Since the output is a list of lists, we can collapse it into an array with the unlist object. "
   ]
  },
  {
   "cell_type": "code",
   "execution_count": 8,
   "metadata": {},
   "outputs": [
    {
     "name": "stdout",
     "output_type": "stream",
     "text": [
      "[1] \"list output\"\n"
     ]
    },
    {
     "data": {
      "text/html": [
       "<ol>\n",
       "\t<li>'Step 1 completed'</li>\n",
       "\t<li>'Step 2 completed'</li>\n",
       "\t<li>'Step 3 completed'</li>\n",
       "\t<li>'Step 4 completed'</li>\n",
       "\t<li>'Step 5 completed'</li>\n",
       "\t<li>'Step 6 completed'</li>\n",
       "</ol>\n"
      ],
      "text/latex": [
       "\\begin{enumerate}\n",
       "\\item 'Step 1 completed'\n",
       "\\item 'Step 2 completed'\n",
       "\\item 'Step 3 completed'\n",
       "\\item 'Step 4 completed'\n",
       "\\item 'Step 5 completed'\n",
       "\\item 'Step 6 completed'\n",
       "\\end{enumerate}\n"
      ],
      "text/markdown": [
       "1. 'Step 1 completed'\n",
       "2. 'Step 2 completed'\n",
       "3. 'Step 3 completed'\n",
       "4. 'Step 4 completed'\n",
       "5. 'Step 5 completed'\n",
       "6. 'Step 6 completed'\n",
       "\n",
       "\n"
      ],
      "text/plain": [
       "[[1]]\n",
       "[1] \"Step 1 completed\"\n",
       "\n",
       "[[2]]\n",
       "[1] \"Step 2 completed\"\n",
       "\n",
       "[[3]]\n",
       "[1] \"Step 3 completed\"\n",
       "\n",
       "[[4]]\n",
       "[1] \"Step 4 completed\"\n",
       "\n",
       "[[5]]\n",
       "[1] \"Step 5 completed\"\n",
       "\n",
       "[[6]]\n",
       "[1] \"Step 6 completed\"\n"
      ]
     },
     "metadata": {},
     "output_type": "display_data"
    },
    {
     "name": "stdout",
     "output_type": "stream",
     "text": [
      "[1] \"array output\"\n"
     ]
    },
    {
     "data": {
      "text/html": [
       "<ol class=list-inline>\n",
       "\t<li>'Step 1 completed'</li>\n",
       "\t<li>'Step 2 completed'</li>\n",
       "\t<li>'Step 3 completed'</li>\n",
       "\t<li>'Step 4 completed'</li>\n",
       "\t<li>'Step 5 completed'</li>\n",
       "\t<li>'Step 6 completed'</li>\n",
       "</ol>\n"
      ],
      "text/latex": [
       "\\begin{enumerate*}\n",
       "\\item 'Step 1 completed'\n",
       "\\item 'Step 2 completed'\n",
       "\\item 'Step 3 completed'\n",
       "\\item 'Step 4 completed'\n",
       "\\item 'Step 5 completed'\n",
       "\\item 'Step 6 completed'\n",
       "\\end{enumerate*}\n"
      ],
      "text/markdown": [
       "1. 'Step 1 completed'\n",
       "2. 'Step 2 completed'\n",
       "3. 'Step 3 completed'\n",
       "4. 'Step 4 completed'\n",
       "5. 'Step 5 completed'\n",
       "6. 'Step 6 completed'\n",
       "\n",
       "\n"
      ],
      "text/plain": [
       "[1] \"Step 1 completed\" \"Step 2 completed\" \"Step 3 completed\" \"Step 4 completed\"\n",
       "[5] \"Step 5 completed\" \"Step 6 completed\""
      ]
     },
     "metadata": {},
     "output_type": "display_data"
    }
   ],
   "source": [
    "# evaluate, distribute each iteration here \n",
    "output <- value(command_set)\n",
    "\n",
    "# ouput is here but separates lists. \n",
    "print(\"list output\")\n",
    "head(output) # using head to limit output\n",
    "\n",
    "\n",
    "# we can combine them into a vector using unlist()\n",
    "print(\"array output\")\n",
    "head(unlist(output)) # using head to limit output"
   ]
  },
  {
   "cell_type": "markdown",
   "metadata": {},
   "source": [
    "all in one block:"
   ]
  },
  {
   "cell_type": "code",
   "execution_count": 9,
   "metadata": {},
   "outputs": [
    {
     "data": {
      "text/html": [
       "<ol class=list-inline>\n",
       "\t<li>'Step 1 completed'</li>\n",
       "\t<li>'Step 2 completed'</li>\n",
       "\t<li>'Step 3 completed'</li>\n",
       "\t<li>'Step 4 completed'</li>\n",
       "\t<li>'Step 5 completed'</li>\n",
       "\t<li>'Step 6 completed'</li>\n",
       "</ol>\n"
      ],
      "text/latex": [
       "\\begin{enumerate*}\n",
       "\\item 'Step 1 completed'\n",
       "\\item 'Step 2 completed'\n",
       "\\item 'Step 3 completed'\n",
       "\\item 'Step 4 completed'\n",
       "\\item 'Step 5 completed'\n",
       "\\item 'Step 6 completed'\n",
       "\\end{enumerate*}\n"
      ],
      "text/markdown": [
       "1. 'Step 1 completed'\n",
       "2. 'Step 2 completed'\n",
       "3. 'Step 3 completed'\n",
       "4. 'Step 4 completed'\n",
       "5. 'Step 5 completed'\n",
       "6. 'Step 6 completed'\n",
       "\n",
       "\n"
      ],
      "text/plain": [
       "[1] \"Step 1 completed\" \"Step 2 completed\" \"Step 3 completed\" \"Step 4 completed\"\n",
       "[5] \"Step 5 completed\" \"Step 6 completed\""
      ]
     },
     "metadata": {},
     "output_type": "display_data"
    },
    {
     "name": "stdout",
     "output_type": "stream",
     "text": [
      "[1] \"Elapsed time for future example:\"\n"
     ]
    },
    {
     "data": {
      "text/html": [
       "12.1"
      ],
      "text/latex": [
       "12.1"
      ],
      "text/markdown": [
       "12.1"
      ],
      "text/plain": [
       "[1] 12.1"
      ]
     },
     "metadata": {},
     "output_type": "display_data"
    }
   ],
   "source": [
    "# plan\n",
    "plan(multicore)\n",
    "\n",
    "command_set <- vector(mode = \"list\", length = 50)\n",
    "t1 <- proc.time()\n",
    "\n",
    "for (i in 1:50){\n",
    "  command_set[[i]] <- future(\n",
    "    # but code for each iteration with curly brackets\n",
    "    {slow_function(i)}\n",
    "  ) \n",
    "}\n",
    "\n",
    "# evaluate\n",
    "output <- value(command_set)\n",
    "\n",
    "# ouput is here\n",
    "head(unlist(output))\n",
    "\n",
    "\n",
    "# timestampe after loop \n",
    "t2 <- proc.time()\n",
    "\n",
    "\n",
    "print(\"Elapsed time for future example:\")\n",
    "# length of time\n",
    "time_Elapsed <- t2[[3]] - t1[[3]]\n",
    "round(time_Elapsed, 2)"
   ]
  },
  {
   "cell_type": "markdown",
   "metadata": {},
   "source": [
    "## 2. Tidyverse example using the furrr package\n",
    "\n",
    "To change [tidyverse code](https://www.tidyverse.org/), all that is needed is to set up the parallelization (plan object) and then replace the map object with future_map. The evaluation step is completed with the future_map object. "
   ]
  },
  {
   "cell_type": "markdown",
   "metadata": {},
   "source": [
    "### Setup\n",
    "This example uses the gapminder dataset and creates a linear model for each country. The datafame becomes a nested dataframe by country so we can use the purrr package to iterate over each country and compute the linear model. See this link to the [purrr package](https://purrr.tidyverse.org/) and the [repurrrsive](https://github.com/jennybc/repurrrsive) for more details. "
   ]
  },
  {
   "cell_type": "code",
   "execution_count": 10,
   "metadata": {},
   "outputs": [
    {
     "data": {
      "text/html": [
       "<table>\n",
       "<thead><tr><th scope=col>country</th><th scope=col>continent</th><th scope=col>year</th><th scope=col>lifeExp</th><th scope=col>pop</th><th scope=col>gdpPercap</th></tr></thead>\n",
       "<tbody>\n",
       "\t<tr><td>Afghanistan</td><td>Asia       </td><td>1952       </td><td>28.801     </td><td> 8425333   </td><td>779.4453   </td></tr>\n",
       "\t<tr><td>Afghanistan</td><td>Asia       </td><td>1957       </td><td>30.332     </td><td> 9240934   </td><td>820.8530   </td></tr>\n",
       "\t<tr><td>Afghanistan</td><td>Asia       </td><td>1962       </td><td>31.997     </td><td>10267083   </td><td>853.1007   </td></tr>\n",
       "\t<tr><td>Afghanistan</td><td>Asia       </td><td>1967       </td><td>34.020     </td><td>11537966   </td><td>836.1971   </td></tr>\n",
       "\t<tr><td>Afghanistan</td><td>Asia       </td><td>1972       </td><td>36.088     </td><td>13079460   </td><td>739.9811   </td></tr>\n",
       "\t<tr><td>Afghanistan</td><td>Asia       </td><td>1977       </td><td>38.438     </td><td>14880372   </td><td>786.1134   </td></tr>\n",
       "</tbody>\n",
       "</table>\n"
      ],
      "text/latex": [
       "\\begin{tabular}{r|llllll}\n",
       " country & continent & year & lifeExp & pop & gdpPercap\\\\\n",
       "\\hline\n",
       "\t Afghanistan & Asia        & 1952        & 28.801      &  8425333    & 779.4453   \\\\\n",
       "\t Afghanistan & Asia        & 1957        & 30.332      &  9240934    & 820.8530   \\\\\n",
       "\t Afghanistan & Asia        & 1962        & 31.997      & 10267083    & 853.1007   \\\\\n",
       "\t Afghanistan & Asia        & 1967        & 34.020      & 11537966    & 836.1971   \\\\\n",
       "\t Afghanistan & Asia        & 1972        & 36.088      & 13079460    & 739.9811   \\\\\n",
       "\t Afghanistan & Asia        & 1977        & 38.438      & 14880372    & 786.1134   \\\\\n",
       "\\end{tabular}\n"
      ],
      "text/markdown": [
       "\n",
       "| country | continent | year | lifeExp | pop | gdpPercap |\n",
       "|---|---|---|---|---|---|\n",
       "| Afghanistan | Asia        | 1952        | 28.801      |  8425333    | 779.4453    |\n",
       "| Afghanistan | Asia        | 1957        | 30.332      |  9240934    | 820.8530    |\n",
       "| Afghanistan | Asia        | 1962        | 31.997      | 10267083    | 853.1007    |\n",
       "| Afghanistan | Asia        | 1967        | 34.020      | 11537966    | 836.1971    |\n",
       "| Afghanistan | Asia        | 1972        | 36.088      | 13079460    | 739.9811    |\n",
       "| Afghanistan | Asia        | 1977        | 38.438      | 14880372    | 786.1134    |\n",
       "\n"
      ],
      "text/plain": [
       "  country     continent year lifeExp pop      gdpPercap\n",
       "1 Afghanistan Asia      1952 28.801   8425333 779.4453 \n",
       "2 Afghanistan Asia      1957 30.332   9240934 820.8530 \n",
       "3 Afghanistan Asia      1962 31.997  10267083 853.1007 \n",
       "4 Afghanistan Asia      1967 34.020  11537966 836.1971 \n",
       "5 Afghanistan Asia      1972 36.088  13079460 739.9811 \n",
       "6 Afghanistan Asia      1977 38.438  14880372 786.1134 "
      ]
     },
     "metadata": {},
     "output_type": "display_data"
    },
    {
     "name": "stdout",
     "output_type": "stream",
     "text": [
      "[1] \"Elapsed time for sequential purrr  example:\"\n"
     ]
    },
    {
     "data": {
      "text/html": [
       "28.86"
      ],
      "text/latex": [
       "28.86"
      ],
      "text/markdown": [
       "28.86"
      ],
      "text/plain": [
       "[1] 28.86"
      ]
     },
     "metadata": {},
     "output_type": "display_data"
    }
   ],
   "source": [
    "# create a nested dataframe with each country as a row \n",
    "# we will iterate using the map function from the purrr package\n",
    "head(gap_simple)\n",
    "\n",
    "\n",
    "country_nested <- \n",
    "  gap_simple %>%\n",
    "  group_by(country) %>%\n",
    "  nest() %>%\n",
    "  ungroup() # this is necessary or furrr will be slow\n",
    "\n",
    "\n",
    "\n",
    "# linear model we will run for each country. \n",
    "# in the real world, don't do this!! Always check model assumptions!\n",
    "custom_model <- \n",
    "  function(data){\n",
    "    # just to slow it down so its more obvious it's in parallel\n",
    "    Sys.sleep(.2)\n",
    "    lm(lifeExp ~ pop + gdpPercap + year, data = data)\n",
    "  }\n",
    "\n",
    "\n",
    "\n",
    "# Sequential form (normal purrr)\n",
    "t1 <- proc.time()\n",
    "model_done <- \n",
    "    country_nested %>%\n",
    "    mutate(lm_obj = map(data, custom_model))\n",
    "\n",
    "t2 <- proc.time()\n",
    "print(\"Elapsed time for sequential purrr  example:\")\n",
    "# length of time\n",
    "time_Elapsed <- t2[[3]] - t1[[3]]\n",
    "round(time_Elapsed, 2)"
   ]
  },
  {
   "cell_type": "markdown",
   "metadata": {},
   "source": [
    "###  Rerunning tidyverse in parallel via the furrr package \n",
    "To change the code to work with tidyverse, replace the map object with future_map."
   ]
  },
  {
   "cell_type": "code",
   "execution_count": 11,
   "metadata": {},
   "outputs": [
    {
     "name": "stdout",
     "output_type": "stream",
     "text": [
      "[1] \"Elapsed time for furrr example:\"\n"
     ]
    },
    {
     "data": {
      "text/html": [
       "4.23"
      ],
      "text/latex": [
       "4.23"
      ],
      "text/markdown": [
       "4.23"
      ],
      "text/plain": [
       "[1] 4.23"
      ]
     },
     "metadata": {},
     "output_type": "display_data"
    }
   ],
   "source": [
    "# using furrr package\n",
    "\n",
    "# use all cores available\n",
    "plan(multicore) \n",
    "\n",
    "# this time we do no not need to the evauluation step as it is included in the future_map function.\n",
    "t1 <- proc.time()\n",
    "model_done <- \n",
    "    country_nested %>%\n",
    "    mutate(lm_obj = future_map(data, custom_model)) # switched map to future_map!\n",
    "\n",
    "# switch back to one core\n",
    "plan(sequential)   \n",
    "t2 <- proc.time()\n",
    "\n",
    "print(\"Elapsed time for furrr example:\")\n",
    "time_Elapsed <- t2[[3]] - t1[[3]]\n",
    "round(time_Elapsed, 2)\n"
   ]
  },
  {
   "cell_type": "markdown",
   "metadata": {},
   "source": [
    "Example: model output for Bosnia and Herzegovina (proof the future code provided output). \n"
   ]
  },
  {
   "cell_type": "code",
   "execution_count": 12,
   "metadata": {},
   "outputs": [
    {
     "data": {
      "text/html": [
       "Bosnia and Herzegovina\n",
       "<details>\n",
       "\t<summary style=display:list-item;cursor:pointer>\n",
       "\t\t<strong>Levels</strong>:\n",
       "\t</summary>\n",
       "\t<ol class=list-inline>\n",
       "\t\t<li>'Afghanistan'</li>\n",
       "\t\t<li>'Albania'</li>\n",
       "\t\t<li>'Algeria'</li>\n",
       "\t\t<li>'Angola'</li>\n",
       "\t\t<li>'Argentina'</li>\n",
       "\t\t<li>'Australia'</li>\n",
       "\t\t<li>'Austria'</li>\n",
       "\t\t<li>'Bahrain'</li>\n",
       "\t\t<li>'Bangladesh'</li>\n",
       "\t\t<li>'Belgium'</li>\n",
       "\t\t<li>'Benin'</li>\n",
       "\t\t<li>'Bolivia'</li>\n",
       "\t\t<li>'Bosnia and Herzegovina'</li>\n",
       "\t\t<li>'Botswana'</li>\n",
       "\t\t<li>'Brazil'</li>\n",
       "\t\t<li>'Bulgaria'</li>\n",
       "\t\t<li>'Burkina Faso'</li>\n",
       "\t\t<li>'Burundi'</li>\n",
       "\t\t<li>'Cambodia'</li>\n",
       "\t\t<li>'Cameroon'</li>\n",
       "\t\t<li>'Canada'</li>\n",
       "\t\t<li>'Central African Republic'</li>\n",
       "\t\t<li>'Chad'</li>\n",
       "\t\t<li>'Chile'</li>\n",
       "\t\t<li>'China'</li>\n",
       "\t\t<li>'Colombia'</li>\n",
       "\t\t<li>'Comoros'</li>\n",
       "\t\t<li>'Congo, Dem. Rep.'</li>\n",
       "\t\t<li>'Congo, Rep.'</li>\n",
       "\t\t<li>'Costa Rica'</li>\n",
       "\t\t<li>'Cote d\\'Ivoire'</li>\n",
       "\t\t<li>'Croatia'</li>\n",
       "\t\t<li>'Cuba'</li>\n",
       "\t\t<li>'Czech Republic'</li>\n",
       "\t\t<li>'Denmark'</li>\n",
       "\t\t<li>'Djibouti'</li>\n",
       "\t\t<li>'Dominican Republic'</li>\n",
       "\t\t<li>'Ecuador'</li>\n",
       "\t\t<li>'Egypt'</li>\n",
       "\t\t<li>'El Salvador'</li>\n",
       "\t\t<li>'Equatorial Guinea'</li>\n",
       "\t\t<li>'Eritrea'</li>\n",
       "\t\t<li>'Ethiopia'</li>\n",
       "\t\t<li>'Finland'</li>\n",
       "\t\t<li>'France'</li>\n",
       "\t\t<li>'Gabon'</li>\n",
       "\t\t<li>'Gambia'</li>\n",
       "\t\t<li>'Germany'</li>\n",
       "\t\t<li>'Ghana'</li>\n",
       "\t\t<li>'Greece'</li>\n",
       "\t\t<li>'Guatemala'</li>\n",
       "\t\t<li>'Guinea'</li>\n",
       "\t\t<li>'Guinea-Bissau'</li>\n",
       "\t\t<li>'Haiti'</li>\n",
       "\t\t<li>'Honduras'</li>\n",
       "\t\t<li>'Hong Kong, China'</li>\n",
       "\t\t<li>'Hungary'</li>\n",
       "\t\t<li>'Iceland'</li>\n",
       "\t\t<li>'India'</li>\n",
       "\t\t<li>'Indonesia'</li>\n",
       "\t\t<li>'Iran'</li>\n",
       "\t\t<li>'Iraq'</li>\n",
       "\t\t<li>'Ireland'</li>\n",
       "\t\t<li>'Israel'</li>\n",
       "\t\t<li>'Italy'</li>\n",
       "\t\t<li>'Jamaica'</li>\n",
       "\t\t<li>'Japan'</li>\n",
       "\t\t<li>'Jordan'</li>\n",
       "\t\t<li>'Kenya'</li>\n",
       "\t\t<li>'Korea, Dem. Rep.'</li>\n",
       "\t\t<li>'Korea, Rep.'</li>\n",
       "\t\t<li>'Kuwait'</li>\n",
       "\t\t<li>'Lebanon'</li>\n",
       "\t\t<li>'Lesotho'</li>\n",
       "\t\t<li>'Liberia'</li>\n",
       "\t\t<li>'Libya'</li>\n",
       "\t\t<li>'Madagascar'</li>\n",
       "\t\t<li>'Malawi'</li>\n",
       "\t\t<li>'Malaysia'</li>\n",
       "\t\t<li>'Mali'</li>\n",
       "\t\t<li>'Mauritania'</li>\n",
       "\t\t<li>'Mauritius'</li>\n",
       "\t\t<li>'Mexico'</li>\n",
       "\t\t<li>'Mongolia'</li>\n",
       "\t\t<li>'Montenegro'</li>\n",
       "\t\t<li>'Morocco'</li>\n",
       "\t\t<li>'Mozambique'</li>\n",
       "\t\t<li>'Myanmar'</li>\n",
       "\t\t<li>'Namibia'</li>\n",
       "\t\t<li>'Nepal'</li>\n",
       "\t\t<li>'Netherlands'</li>\n",
       "\t\t<li>'New Zealand'</li>\n",
       "\t\t<li>'Nicaragua'</li>\n",
       "\t\t<li>'Niger'</li>\n",
       "\t\t<li>'Nigeria'</li>\n",
       "\t\t<li>'Norway'</li>\n",
       "\t\t<li>'Oman'</li>\n",
       "\t\t<li>'Pakistan'</li>\n",
       "\t\t<li>'Panama'</li>\n",
       "\t\t<li>'Paraguay'</li>\n",
       "\t\t<li>'Peru'</li>\n",
       "\t\t<li>'Philippines'</li>\n",
       "\t\t<li>'Poland'</li>\n",
       "\t\t<li>'Portugal'</li>\n",
       "\t\t<li>'Puerto Rico'</li>\n",
       "\t\t<li>'Reunion'</li>\n",
       "\t\t<li>'Romania'</li>\n",
       "\t\t<li>'Rwanda'</li>\n",
       "\t\t<li>'Sao Tome and Principe'</li>\n",
       "\t\t<li>'Saudi Arabia'</li>\n",
       "\t\t<li>'Senegal'</li>\n",
       "\t\t<li>'Serbia'</li>\n",
       "\t\t<li>'Sierra Leone'</li>\n",
       "\t\t<li>'Singapore'</li>\n",
       "\t\t<li>'Slovak Republic'</li>\n",
       "\t\t<li>'Slovenia'</li>\n",
       "\t\t<li>'Somalia'</li>\n",
       "\t\t<li>'South Africa'</li>\n",
       "\t\t<li>'Spain'</li>\n",
       "\t\t<li>'Sri Lanka'</li>\n",
       "\t\t<li>'Sudan'</li>\n",
       "\t\t<li>'Swaziland'</li>\n",
       "\t\t<li>'Sweden'</li>\n",
       "\t\t<li>'Switzerland'</li>\n",
       "\t\t<li>'Syria'</li>\n",
       "\t\t<li>'Taiwan'</li>\n",
       "\t\t<li>'Tanzania'</li>\n",
       "\t\t<li>'Thailand'</li>\n",
       "\t\t<li>'Togo'</li>\n",
       "\t\t<li>'Trinidad and Tobago'</li>\n",
       "\t\t<li>'Tunisia'</li>\n",
       "\t\t<li>'Turkey'</li>\n",
       "\t\t<li>'Uganda'</li>\n",
       "\t\t<li>'United Kingdom'</li>\n",
       "\t\t<li>'United States'</li>\n",
       "\t\t<li>'Uruguay'</li>\n",
       "\t\t<li>'Venezuela'</li>\n",
       "\t\t<li>'Vietnam'</li>\n",
       "\t\t<li>'West Bank and Gaza'</li>\n",
       "\t\t<li>'Yemen, Rep.'</li>\n",
       "\t\t<li>'Zambia'</li>\n",
       "\t\t<li>'Zimbabwe'</li>\n",
       "\t</ol>\n",
       "</details>"
      ],
      "text/latex": [
       "Bosnia and Herzegovina\n",
       "\\emph{Levels}: \\begin{enumerate*}\n",
       "\\item 'Afghanistan'\n",
       "\\item 'Albania'\n",
       "\\item 'Algeria'\n",
       "\\item 'Angola'\n",
       "\\item 'Argentina'\n",
       "\\item 'Australia'\n",
       "\\item 'Austria'\n",
       "\\item 'Bahrain'\n",
       "\\item 'Bangladesh'\n",
       "\\item 'Belgium'\n",
       "\\item 'Benin'\n",
       "\\item 'Bolivia'\n",
       "\\item 'Bosnia and Herzegovina'\n",
       "\\item 'Botswana'\n",
       "\\item 'Brazil'\n",
       "\\item 'Bulgaria'\n",
       "\\item 'Burkina Faso'\n",
       "\\item 'Burundi'\n",
       "\\item 'Cambodia'\n",
       "\\item 'Cameroon'\n",
       "\\item 'Canada'\n",
       "\\item 'Central African Republic'\n",
       "\\item 'Chad'\n",
       "\\item 'Chile'\n",
       "\\item 'China'\n",
       "\\item 'Colombia'\n",
       "\\item 'Comoros'\n",
       "\\item 'Congo, Dem. Rep.'\n",
       "\\item 'Congo, Rep.'\n",
       "\\item 'Costa Rica'\n",
       "\\item 'Cote d\\textbackslash{}'Ivoire'\n",
       "\\item 'Croatia'\n",
       "\\item 'Cuba'\n",
       "\\item 'Czech Republic'\n",
       "\\item 'Denmark'\n",
       "\\item 'Djibouti'\n",
       "\\item 'Dominican Republic'\n",
       "\\item 'Ecuador'\n",
       "\\item 'Egypt'\n",
       "\\item 'El Salvador'\n",
       "\\item 'Equatorial Guinea'\n",
       "\\item 'Eritrea'\n",
       "\\item 'Ethiopia'\n",
       "\\item 'Finland'\n",
       "\\item 'France'\n",
       "\\item 'Gabon'\n",
       "\\item 'Gambia'\n",
       "\\item 'Germany'\n",
       "\\item 'Ghana'\n",
       "\\item 'Greece'\n",
       "\\item 'Guatemala'\n",
       "\\item 'Guinea'\n",
       "\\item 'Guinea-Bissau'\n",
       "\\item 'Haiti'\n",
       "\\item 'Honduras'\n",
       "\\item 'Hong Kong, China'\n",
       "\\item 'Hungary'\n",
       "\\item 'Iceland'\n",
       "\\item 'India'\n",
       "\\item 'Indonesia'\n",
       "\\item 'Iran'\n",
       "\\item 'Iraq'\n",
       "\\item 'Ireland'\n",
       "\\item 'Israel'\n",
       "\\item 'Italy'\n",
       "\\item 'Jamaica'\n",
       "\\item 'Japan'\n",
       "\\item 'Jordan'\n",
       "\\item 'Kenya'\n",
       "\\item 'Korea, Dem. Rep.'\n",
       "\\item 'Korea, Rep.'\n",
       "\\item 'Kuwait'\n",
       "\\item 'Lebanon'\n",
       "\\item 'Lesotho'\n",
       "\\item 'Liberia'\n",
       "\\item 'Libya'\n",
       "\\item 'Madagascar'\n",
       "\\item 'Malawi'\n",
       "\\item 'Malaysia'\n",
       "\\item 'Mali'\n",
       "\\item 'Mauritania'\n",
       "\\item 'Mauritius'\n",
       "\\item 'Mexico'\n",
       "\\item 'Mongolia'\n",
       "\\item 'Montenegro'\n",
       "\\item 'Morocco'\n",
       "\\item 'Mozambique'\n",
       "\\item 'Myanmar'\n",
       "\\item 'Namibia'\n",
       "\\item 'Nepal'\n",
       "\\item 'Netherlands'\n",
       "\\item 'New Zealand'\n",
       "\\item 'Nicaragua'\n",
       "\\item 'Niger'\n",
       "\\item 'Nigeria'\n",
       "\\item 'Norway'\n",
       "\\item 'Oman'\n",
       "\\item 'Pakistan'\n",
       "\\item 'Panama'\n",
       "\\item 'Paraguay'\n",
       "\\item 'Peru'\n",
       "\\item 'Philippines'\n",
       "\\item 'Poland'\n",
       "\\item 'Portugal'\n",
       "\\item 'Puerto Rico'\n",
       "\\item 'Reunion'\n",
       "\\item 'Romania'\n",
       "\\item 'Rwanda'\n",
       "\\item 'Sao Tome and Principe'\n",
       "\\item 'Saudi Arabia'\n",
       "\\item 'Senegal'\n",
       "\\item 'Serbia'\n",
       "\\item 'Sierra Leone'\n",
       "\\item 'Singapore'\n",
       "\\item 'Slovak Republic'\n",
       "\\item 'Slovenia'\n",
       "\\item 'Somalia'\n",
       "\\item 'South Africa'\n",
       "\\item 'Spain'\n",
       "\\item 'Sri Lanka'\n",
       "\\item 'Sudan'\n",
       "\\item 'Swaziland'\n",
       "\\item 'Sweden'\n",
       "\\item 'Switzerland'\n",
       "\\item 'Syria'\n",
       "\\item 'Taiwan'\n",
       "\\item 'Tanzania'\n",
       "\\item 'Thailand'\n",
       "\\item 'Togo'\n",
       "\\item 'Trinidad and Tobago'\n",
       "\\item 'Tunisia'\n",
       "\\item 'Turkey'\n",
       "\\item 'Uganda'\n",
       "\\item 'United Kingdom'\n",
       "\\item 'United States'\n",
       "\\item 'Uruguay'\n",
       "\\item 'Venezuela'\n",
       "\\item 'Vietnam'\n",
       "\\item 'West Bank and Gaza'\n",
       "\\item 'Yemen, Rep.'\n",
       "\\item 'Zambia'\n",
       "\\item 'Zimbabwe'\n",
       "\\end{enumerate*}\n"
      ],
      "text/markdown": [
       "Bosnia and Herzegovina\n",
       "**Levels**: 1. 'Afghanistan'\n",
       "2. 'Albania'\n",
       "3. 'Algeria'\n",
       "4. 'Angola'\n",
       "5. 'Argentina'\n",
       "6. 'Australia'\n",
       "7. 'Austria'\n",
       "8. 'Bahrain'\n",
       "9. 'Bangladesh'\n",
       "10. 'Belgium'\n",
       "11. 'Benin'\n",
       "12. 'Bolivia'\n",
       "13. 'Bosnia and Herzegovina'\n",
       "14. 'Botswana'\n",
       "15. 'Brazil'\n",
       "16. 'Bulgaria'\n",
       "17. 'Burkina Faso'\n",
       "18. 'Burundi'\n",
       "19. 'Cambodia'\n",
       "20. 'Cameroon'\n",
       "21. 'Canada'\n",
       "22. 'Central African Republic'\n",
       "23. 'Chad'\n",
       "24. 'Chile'\n",
       "25. 'China'\n",
       "26. 'Colombia'\n",
       "27. 'Comoros'\n",
       "28. 'Congo, Dem. Rep.'\n",
       "29. 'Congo, Rep.'\n",
       "30. 'Costa Rica'\n",
       "31. 'Cote d\\'Ivoire'\n",
       "32. 'Croatia'\n",
       "33. 'Cuba'\n",
       "34. 'Czech Republic'\n",
       "35. 'Denmark'\n",
       "36. 'Djibouti'\n",
       "37. 'Dominican Republic'\n",
       "38. 'Ecuador'\n",
       "39. 'Egypt'\n",
       "40. 'El Salvador'\n",
       "41. 'Equatorial Guinea'\n",
       "42. 'Eritrea'\n",
       "43. 'Ethiopia'\n",
       "44. 'Finland'\n",
       "45. 'France'\n",
       "46. 'Gabon'\n",
       "47. 'Gambia'\n",
       "48. 'Germany'\n",
       "49. 'Ghana'\n",
       "50. 'Greece'\n",
       "51. 'Guatemala'\n",
       "52. 'Guinea'\n",
       "53. 'Guinea-Bissau'\n",
       "54. 'Haiti'\n",
       "55. 'Honduras'\n",
       "56. 'Hong Kong, China'\n",
       "57. 'Hungary'\n",
       "58. 'Iceland'\n",
       "59. 'India'\n",
       "60. 'Indonesia'\n",
       "61. 'Iran'\n",
       "62. 'Iraq'\n",
       "63. 'Ireland'\n",
       "64. 'Israel'\n",
       "65. 'Italy'\n",
       "66. 'Jamaica'\n",
       "67. 'Japan'\n",
       "68. 'Jordan'\n",
       "69. 'Kenya'\n",
       "70. 'Korea, Dem. Rep.'\n",
       "71. 'Korea, Rep.'\n",
       "72. 'Kuwait'\n",
       "73. 'Lebanon'\n",
       "74. 'Lesotho'\n",
       "75. 'Liberia'\n",
       "76. 'Libya'\n",
       "77. 'Madagascar'\n",
       "78. 'Malawi'\n",
       "79. 'Malaysia'\n",
       "80. 'Mali'\n",
       "81. 'Mauritania'\n",
       "82. 'Mauritius'\n",
       "83. 'Mexico'\n",
       "84. 'Mongolia'\n",
       "85. 'Montenegro'\n",
       "86. 'Morocco'\n",
       "87. 'Mozambique'\n",
       "88. 'Myanmar'\n",
       "89. 'Namibia'\n",
       "90. 'Nepal'\n",
       "91. 'Netherlands'\n",
       "92. 'New Zealand'\n",
       "93. 'Nicaragua'\n",
       "94. 'Niger'\n",
       "95. 'Nigeria'\n",
       "96. 'Norway'\n",
       "97. 'Oman'\n",
       "98. 'Pakistan'\n",
       "99. 'Panama'\n",
       "100. 'Paraguay'\n",
       "101. 'Peru'\n",
       "102. 'Philippines'\n",
       "103. 'Poland'\n",
       "104. 'Portugal'\n",
       "105. 'Puerto Rico'\n",
       "106. 'Reunion'\n",
       "107. 'Romania'\n",
       "108. 'Rwanda'\n",
       "109. 'Sao Tome and Principe'\n",
       "110. 'Saudi Arabia'\n",
       "111. 'Senegal'\n",
       "112. 'Serbia'\n",
       "113. 'Sierra Leone'\n",
       "114. 'Singapore'\n",
       "115. 'Slovak Republic'\n",
       "116. 'Slovenia'\n",
       "117. 'Somalia'\n",
       "118. 'South Africa'\n",
       "119. 'Spain'\n",
       "120. 'Sri Lanka'\n",
       "121. 'Sudan'\n",
       "122. 'Swaziland'\n",
       "123. 'Sweden'\n",
       "124. 'Switzerland'\n",
       "125. 'Syria'\n",
       "126. 'Taiwan'\n",
       "127. 'Tanzania'\n",
       "128. 'Thailand'\n",
       "129. 'Togo'\n",
       "130. 'Trinidad and Tobago'\n",
       "131. 'Tunisia'\n",
       "132. 'Turkey'\n",
       "133. 'Uganda'\n",
       "134. 'United Kingdom'\n",
       "135. 'United States'\n",
       "136. 'Uruguay'\n",
       "137. 'Venezuela'\n",
       "138. 'Vietnam'\n",
       "139. 'West Bank and Gaza'\n",
       "140. 'Yemen, Rep.'\n",
       "141. 'Zambia'\n",
       "142. 'Zimbabwe'\n",
       "\n",
       "\n"
      ],
      "text/plain": [
       "[1] Bosnia and Herzegovina\n",
       "142 Levels: Afghanistan Albania Algeria Angola Argentina Australia ... Zimbabwe"
      ]
     },
     "metadata": {},
     "output_type": "display_data"
    },
    {
     "data": {
      "text/plain": [
       "\n",
       "Call:\n",
       "lm(formula = lifeExp ~ pop + gdpPercap + year, data = data)\n",
       "\n",
       "Coefficients:\n",
       "(Intercept)          pop    gdpPercap         year  \n",
       " -4.950e+02    4.916e-06   -5.017e-04    2.757e-01  \n"
      ]
     },
     "metadata": {},
     "output_type": "display_data"
    }
   ],
   "source": [
    "model_done$country[[13]]\n",
    "model_done$lm_obj[[13]]"
   ]
  },
  {
   "cell_type": "markdown",
   "metadata": {},
   "source": [
    "<a id=’section_3’></a>\n",
    "## 3. Bayesian example using multiple nodes via the future.batchtools package\n",
    "This example runs multiple bayesian models in parallel by submitting each model (iteration) to a separate node. This is very useful because each model can already run in parallel, thus CARC enables you to run all of your bayesian parallelized models at once. the future.batchtools packages will use information in the batchtools.torque.tmpl file in your current directory to submit jobs. This file can be modified to change parameters such as length of walltime, number of cores, etc (see file below). \n",
    "\n",
    "These bayesian models are joint-species distribution models (jSDMs) which fit the distributions of bird species and determines how it relates to their habitat, phylogeny and traits. The code will run four bayesian models that differ in their thinning and then write the models to file. The data and model objects are pre-built and loaded with the hmsc_setup.RData file and are derived from the [bird example](https://www2.helsinki.fi/en/researchgroups/statistical-ecology/hmsc) from their book. \n",
    "\n",
    "For the sequential version, I already set up it using future. You can check your future code by running in sequentially by using plan(sequential)."
   ]
  },
  {
   "cell_type": "markdown",
   "metadata": {},
   "source": [
    "### batchtools.torque.tmpl"
   ]
  },
  {
   "cell_type": "markdown",
   "metadata": {},
   "source": [
    "batchtools.torque.tmpl file needed in the same directory (or specify path  in order to run across nodes. You will need this file created prior to running future. "
   ]
  },
  {
   "cell_type": "raw",
   "metadata": {},
   "source": [
    "#!/bin/bash\n",
    "\n",
    "## Job name:\n",
    "#PBS -q default\n",
    "#PBS -l nodes=1:ppn=4\n",
    "#PBS -l walltime=24:00:00\n",
    "#PBS -N x_big_model_test_parallel_4_cores_4_chains\n",
    "#PBS -j oe\n",
    "#PBS -m ae\n",
    "\n",
    "\n",
    "start=`date +%s`\n",
    "\n",
    "cd $PBS_O_WORKDIR\n",
    "\n",
    "\n",
    "module load r-4.0.4-gcc-10.2.0-python3-dghog6f\n",
    "## Launch R and evaluated the batchtools R job\n",
    "Rscript -e 'batchtools::doJobCollection(\"<%= uri %>\")'\n",
    "\n",
    "end=`date +%s`\n",
    "\n",
    "runtime=$((end-start))\n",
    "\n",
    "echo \"Runtime was $runtime seconds\""
   ]
  },
  {
   "cell_type": "markdown",
   "metadata": {},
   "source": [
    "## Setup "
   ]
  },
  {
   "cell_type": "code",
   "execution_count": 13,
   "metadata": {},
   "outputs": [],
   "source": [
    "# bring in data for model\n",
    "load(\"hmsc_setup.RData\")\n",
    "\n",
    "# Setting up the model\n",
    "studyDesign = data.frame(Route = XData$Route)\n",
    "rL = HmscRandomLevel(sData=xy)\n",
    "XFormula = ~ hab + poly(clim,degree = 2,raw = TRUE)\n",
    "TrFormula = ~Migration + LogMass\n",
    "\n",
    "# parameters for bayesian models. \n",
    "nChains = 4\n",
    "nParallel = 4 \n",
    "samples = 10 # i\n"
   ]
  },
  {
   "cell_type": "code",
   "execution_count": 14,
   "metadata": {},
   "outputs": [
    {
     "name": "stderr",
     "output_type": "stream",
     "text": [
      "setting updater$Gamma2=FALSE due to specified phylogeny matrix\n",
      "setting updater$Gamma2=FALSE due to specified phylogeny matrix\n",
      "setting updater$Gamma2=FALSE due to specified phylogeny matrix\n",
      "setting updater$Gamma2=FALSE due to specified phylogeny matrix\n"
     ]
    },
    {
     "data": {
      "text/html": [
       "907.35"
      ],
      "text/latex": [
       "907.35"
      ],
      "text/markdown": [
       "907.35"
      ],
      "text/plain": [
       "[1] 907.35"
      ]
     },
     "metadata": {},
     "output_type": "display_data"
    }
   ],
   "source": [
    "# set up that it will submit pbs scripts for each model\n",
    "plan(sequential)\n",
    "\n",
    "\n",
    "m = Hmsc(Y=Y, XData = XData, XFormula=XFormula, \n",
    "         phyloTree = phyloTree, TrData = TrData, \n",
    "         TrFormula = TrFormula,\n",
    "         distr=\"probit\", studyDesign=studyDesign, \n",
    "         ranLevels=list(Route=rL))\n",
    "y <- list()\n",
    "t1 <- proc.time()\n",
    "# running 4 models, each with a different thinning value\n",
    "for (thin in c(2,3,4,5)){\n",
    "  y[[thin]] <- future({\n",
    "  transient = 50*thin\n",
    "  m = sampleMcmc(m, thin = thin, samples = samples, transient = transient,\n",
    "                 nChains = nChains, initPar = \"fixed effects\",\n",
    "                 nParallel = nParallel)\n",
    "                 \n",
    "  # write model outputs to file               \n",
    "  filename=file.path(paste0(\"Big_model_torque_chains_\",as.character(nChains),\"_samples_\",as.character(samples),\"_thin_\",as.character(thin)))\n",
    "  save(m,file=filename)\n",
    "  }, seed = TRUE)\n",
    "}\n",
    "# evaluate expression\n",
    "y <- value(y) \n",
    "\n",
    "t2 <- proc.time()\n",
    "time_Elapsed <- t2[[3]] - t1[[3]]\n",
    "round(time_Elapsed, 2)"
   ]
  },
  {
   "cell_type": "markdown",
   "metadata": {},
   "source": [
    "###  Rerunning bayesian models in parallel using future.batchtools package \n"
   ]
  },
  {
   "cell_type": "code",
   "execution_count": 15,
   "metadata": {},
   "outputs": [
    {
     "name": "stderr",
     "output_type": "stream",
     "text": [
      "setting updater$Gamma2=FALSE due to specified phylogeny matrix\n",
      "setting updater$Gamma2=FALSE due to specified phylogeny matrix\n",
      "setting updater$Gamma2=FALSE due to specified phylogeny matrix\n",
      "setting updater$Gamma2=FALSE due to specified phylogeny matrix\n"
     ]
    },
    {
     "data": {
      "text/html": [
       "469.75"
      ],
      "text/latex": [
       "469.75"
      ],
      "text/markdown": [
       "469.75"
      ],
      "text/plain": [
       "[1] 469.75"
      ]
     },
     "metadata": {},
     "output_type": "display_data"
    }
   ],
   "source": [
    "# set up that it will submit pbs scripts for each model\n",
    "# calls upon the batchtools.torque.tmpl file to set the parameters for each job\n",
    "# you can \n",
    "plan(batchtools_torque)\n",
    "\n",
    "m = Hmsc(Y=Y, XData = XData, XFormula=XFormula, \n",
    "         phyloTree = phyloTree, TrData = TrData, \n",
    "         TrFormula = TrFormula,\n",
    "         distr=\"probit\", studyDesign=studyDesign, \n",
    "         ranLevels=list(Route=rL))\n",
    "\n",
    "y <- list()\n",
    "t1 <- proc.time()\n",
    "# running 4 models, each with a different thinning value\n",
    "for (thin in c(2,3,4,5)){\n",
    "  y[[thin]] <- future({\n",
    "  transient = 50*thin\n",
    "  m = sampleMcmc(m, thin = thin, samples = samples, transient = transient,\n",
    "                 nChains = nChains, initPar = \"fixed effects\",\n",
    "                 nParallel = nParallel)\n",
    "                 \n",
    "  # write model outputs to file               \n",
    "  filename=file.path(paste0(\"Big_model_torque_chains_\",as.character(nChains),\"_samples_\",as.character(samples),\"_thin_\",as.character(thin)))\n",
    "  save(m,file=filename)\n",
    "  }, seed = TRUE)\n",
    "}\n",
    "# evaluate expression\n",
    "y <- value(y) \n",
    "\n",
    "t2 <- proc.time()\n",
    "time_Elapsed <- t2[[3]] - t1[[3]]\n",
    "round(time_Elapsed, 2)\n",
    "\n"
   ]
  },
  {
   "cell_type": "markdown",
   "metadata": {},
   "source": [
    "<a id=’section_4’></a>\n",
    "## Appendix: Testing speedup with Future"
   ]
  },
  {
   "cell_type": "markdown",
   "metadata": {},
   "source": [
    "For some circumstances, writing your code in parallel with future package can make it slower! To illustrate this problem, I created a function called speedup_calc that allows you to play with the parameters and see what scenarios running the code in parallel. Essentially, it runs a for loop for different combinations of iterations, cores, and length of iterations (wait_time). Also you can see the cost of setting up the code with the \"evaluate\" argument. When it is done, it will generate two plots (unless evaluate == FALSE), a plot showing how long it took for each iteration and core combination to complete, and a plot showing the speedup when the number of cores is increased. \n",
    "\n",
    "Arguments:\n",
    "\n",
    "\\* iterations requires a value (total iterataions) or a vector. \n",
    "\n",
    "\\* cores requires numeric vector of cores you want to run. \n",
    "\n",
    "\\* wait_time requires a numeric value for how to wait for each iterative step. \n",
    "\n",
    "\\* evaluate requires a TRUE or FALSE. Allows you to turn off evaluation if you only want to measure setup time. It will also skip the speedup plot since setup time cannot be calculated for the serial version. \n"
   ]
  },
  {
   "cell_type": "markdown",
   "metadata": {},
   "source": [
    "speedup_calc function:"
   ]
  },
  {
   "cell_type": "code",
   "execution_count": 16,
   "metadata": {},
   "outputs": [],
   "source": [
    "speedup_calc <- \n",
    "    function(iterations, cores, wait_time, evaluate){\n",
    "        \n",
    "    try(if(cores[1] != 1) stop(\"Need to run the core as 1\"))\n",
    "\n",
    "    # set up arrays for storing for-loop data\n",
    "        times <- array(dim = c(length(iterations), length(cores)))\n",
    "        row.names(times) <- iterations\n",
    "        \n",
    "        \n",
    "       \n",
    "    # running the first set outside of the future loop. \n",
    "    # skips it if since there is no set up time for serial version. \n",
    "    if (evaluate == TRUE){    \n",
    "        \n",
    "        j <- 1\n",
    "        for (i in 1:length(iterations)){\n",
    "\n",
    "            current_step <- iterations[i]\n",
    "                    ### time point 1\n",
    "            t1 <- proc.time()\n",
    "            setup <- vector(mode = \"list\", length = length(iterations))\n",
    "\n",
    "                 for (k in 1:current_step){\n",
    "\n",
    "                        Sys.sleep(wait_time)\n",
    "                    }\n",
    "\n",
    "            \n",
    "            ### time point\n",
    "            t2 <- proc.time()\n",
    "\n",
    "            ## calculate difference in time and convert to minutes. Write to array\n",
    "            times[i, j] <- (t2[[3]] - t1[[3]]) \n",
    "\n",
    "                }\n",
    "\n",
    "\n",
    "    }\n",
    "        \n",
    "        # loop that first run through the number of cores\n",
    "        for (j in 2:length(cores)){\n",
    "\n",
    "            plan(multicore, workers = cores[j])\n",
    "            # figure out time it taakes for each iteration for j number of cores\n",
    "            for (i in 1:length(iterations)){\n",
    "\n",
    "                current_step <- iterations[i]\n",
    "                ### time point 1\n",
    "                t1 <- proc.time()\n",
    "                setup <- vector(mode = \"list\", length = length(iterations))\n",
    "\n",
    "                    for (k in 1:current_step){\n",
    "\n",
    "                        setup[[k]] <- future({Sys.sleep(wait_time)})\n",
    "                    }\n",
    "                \n",
    "                #  Allows you to run it without evaluating the code\n",
    "                if (evaluate == TRUE){evaluated <-  value(setup)}\n",
    "               \n",
    "                ### time point\n",
    "                t2 <- proc.time()\n",
    "\n",
    "                ## calculate difference in time and convert to minutes. Write to array\n",
    "                times[i, j] <- (t2[[3]] - t1[[3]]) \n",
    "            }\n",
    "\n",
    "            \n",
    "        }\n",
    "        \n",
    "        \n",
    "        ### clean and plot all of the data\n",
    "        options(repr.plot.width = 5, repr.plot.height = 2)  \n",
    "        # loop is finished so now cleanaing up data\n",
    "        times <- as.data.frame(times)\n",
    "        colnames(times) <- cores\n",
    "        times$iterations <- row.names(times)\n",
    "        \n",
    "        times$iterations <- factor(as.character(iterations), levels = iterations)\n",
    "        # plot time it takes for each core/iteratiaons combo\n",
    "   \n",
    "    if (evaluate == FALSE){\n",
    "        time_plot <- \n",
    "            times %>%\n",
    "            pivot_longer(cols = 1:length(cores), names_to = \"Cores\", values_to = \"Seconds\") %>%\n",
    "            filter(Cores != \"1\") %>%\n",
    "            ggplot(aes(x = iterations, y = Seconds, group =  Cores, color = Cores)) + \n",
    "            geom_line() + geom_point() + \n",
    "            ggtitle(\"Time Needed to Set Up Task\")\n",
    "        print(time_plot)\n",
    "        }\n",
    "        \n",
    "     \n",
    "        \n",
    "    if (evaluate == TRUE){   \n",
    "        \n",
    "         time_plot <- \n",
    "            times %>%\n",
    "            pivot_longer(cols = 1:length(cores), names_to = \"Cores\", values_to = \"Seconds\") %>%\n",
    "            ggplot(aes(x = iterations, y = Seconds, group =  Cores, color = Cores)) + \n",
    "            geom_line() + geom_point() + \n",
    "            ggtitle(\"Time Needed to Complete Task\")\n",
    "        print(time_plot)\n",
    "        \n",
    "        # speedup calcs\n",
    "        speedup_df <- 1/ (times[,1:length(cores)] /times[,1] )\n",
    "        speedup_df$iterations <- iterations\n",
    "\n",
    "    \n",
    "        speedup_plot <- \n",
    "            speedup_df %>%\n",
    "            pivot_longer(cols = 1:length(cores), names_to = \"Cores\", values_to = \"Speedup\") %>%\n",
    "            mutate(Cores = as.numeric(Cores)) %>%\n",
    "            ggplot(aes(x = Cores, y = Speedup, group =  iterations, color = iterations)) + \n",
    "            geom_line() + geom_point() + \n",
    "            ggtitle(\"Speedup Calculations\")\n",
    "\n",
    "        print(speedup_plot)\n",
    "        }\n",
    "        \n",
    "    }\n"
   ]
  },
  {
   "cell_type": "markdown",
   "metadata": {},
   "source": [
    "### Scenario 1 Cost of setup for many iterations \n",
    "This scenario plots how much time the setup takes. The cost for 100 iterations or more can be timely. The line with one core is omitted becauase it doesn't have setup time."
   ]
  },
  {
   "cell_type": "code",
   "execution_count": 17,
   "metadata": {},
   "outputs": [
    {
     "data": {
      "image/png": "[encoded data removed]",
      "text/plain": [
       "plot without title"
      ]
     },
     "metadata": {},
     "output_type": "display_data"
    }
   ],
   "source": [
    "speedup_calc(iterations = seq(from = 20, 100, by = 20), cores = c(1,2, 4, 8), wait_time = .25, evaluate = FALSE)"
   ]
  },
  {
   "cell_type": "markdown",
   "metadata": {},
   "source": [
    "## Scenario 2 running previous example\n",
    "Given the cost due to the setup time, parallelization offer very little improvement. "
   ]
  },
  {
   "cell_type": "code",
   "execution_count": 18,
   "metadata": {},
   "outputs": [
    {
     "data": {
      "image/png": "[encoded data removed]",
      "text/plain": [
       "plot without title"
      ]
     },
     "metadata": {},
     "output_type": "display_data"
    },
    {
     "data": {
      "image/png": "[encoded data removed]",
      "text/plain": [
       "plot without title"
      ]
     },
     "metadata": {},
     "output_type": "display_data"
    }
   ],
   "source": [
    "speedup_calc(iterations = seq(from = 20, 100, by = 20), cores = c(1,2, 4, 6, 8), wait_time = .25, evaluate = TRUE)"
   ]
  },
  {
   "cell_type": "markdown",
   "metadata": {},
   "source": [
    "### Scenario 2 Moderate speedup with a slower iteration\n",
    "When you incease the wait_time to 1 second, the increase in cores does provide a benefit. "
   ]
  },
  {
   "cell_type": "code",
   "execution_count": 19,
   "metadata": {},
   "outputs": [
    {
     "data": {
      "image/png": "[encoded data removed]",
      "text/plain": [
       "plot without title"
      ]
     },
     "metadata": {},
     "output_type": "display_data"
    },
    {
     "data": {
      "image/png": "[encoded data removed]",
      "text/plain": [
       "plot without title"
      ]
     },
     "metadata": {},
     "output_type": "display_data"
    }
   ],
   "source": [
    "speedup_calc(iterations = seq(from = 100, 300, by = 100), cores = c(1,2,4,6, 8), wait_time = 1, evaluate = TRUE)\n"
   ]
  },
  {
   "cell_type": "markdown",
   "metadata": {},
   "source": [
    "### Scenario 3 Best scenario for speedup\n",
    "The best case for future will be running the code with few iterations but very slow functions. "
   ]
  },
  {
   "cell_type": "code",
   "execution_count": 20,
   "metadata": {},
   "outputs": [
    {
     "data": {
      "image/png": "[encoded data removed]",
      "text/plain": [
       "plot without title"
      ]
     },
     "metadata": {},
     "output_type": "display_data"
    },
    {
     "data": {
      "image/png": "[encoded data removed]",
      "text/plain": [
       "plot without title"
      ]
     },
     "metadata": {},
     "output_type": "display_data"
    }
   ],
   "source": [
    "speedup_calc(iterations = seq(from = 10, 30, by = 10), cores = c(1,2,4,6, 8), wait_time = 15, evaluate = TRUE)"
   ]
  },
  {
   "cell_type": "markdown",
   "metadata": {},
   "source": [
    "## Conclusion\n",
    "The future package will offer the best performance when there are fewer iterations but each iteration is very slow. With your own code, try running one iteration to see how long it takes and then use that estimate with speedup_calc. Depending on the wait_time and number of iterations, the function should give an estimate on if parallelization is worthwhile (caveat: the code will be slower if the you have a large global environment). "
   ]
  }
 ],
 "metadata": {
  "kernelspec": {
   "display_name": "R",
   "language": "R",
   "name": "ir"
  },
  "language_info": {
   "codemirror_mode": "r",
   "file_extension": ".r",
   "mimetype": "text/x-r-source",
   "name": "R",
   "pygments_lexer": "r",
   "version": "3.6.1"
  }
 },
 "nbformat": 4,
 "nbformat_minor": 2
}
