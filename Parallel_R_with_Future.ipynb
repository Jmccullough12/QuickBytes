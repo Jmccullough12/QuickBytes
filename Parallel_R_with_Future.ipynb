{
 "cells": [
  {
   "cell_type": "markdown",
   "metadata": {},
   "source": [
    "# Parallelization of R code using the future package\n",
    "\n",
    "In R, numerous packages can be used to parallelize code (parallel, snow, foreach, etc.), but each of  these packages use unique syntaxes and none of them work for all cases of parallelization. Instead, the [future package](https://github.com/HenrikBengtsson/future) solves this problem by creating unified sty\n",
    "\n",
    "processors and multiple nodes for iterative processes. Briefly (see [future package](https://github.com/HenrikBengtsson/future) for details), the future package works in three steps:\n",
    "\n",
    "1. Choose how you want to parallelize your code\n",
    "    \\* set the type of parallelization with the plan() object.  \n",
    "2. Choose which part of the code you would like to run in parallel\n",
    "    \\* place the part of the code that will be iterated within the future({}) object. \n",
    "3. Evaluate the code. \n",
    "    \\* run the iterations using the value() object. \n",
    "\n",
    "Here are a few examples to demonstrate some common iterative problems in R. The last two examples use packages that extend the future framework to work with tidyverse code and running scripts on multiple nodes. \n",
    "\\* For-loop with a very slow function\n",
    "\\* calculate linear models within a tidyverse/purrr framework using the furrr package. \n",
    "\\* For-loop running multiple Bayesian models across multiple nodes using the future.batchtools package. \n",
    "\n",
    "make sure you are on a node with 8 cores via an interactive node or logged into Jupyter before running the code. "
   ]
  },
  {
   "cell_type": "markdown",
   "metadata": {},
   "source": [
    "## Table of Contents\n",
    "1. [For-loop Example and basic structure](#section_1).\n",
    "2. [Tidyverse example using the furrr package](#section_2).\n",
    "3. [Bayesian example using multiple nodes via the future.batchtools package](#section_3).\n",
    "4. [Appendix: Testing speed of Future](#section_3).\n",
    "\n"
   ]
  },
  {
   "cell_type": "markdown",
   "metadata": {},
   "source": [
    "## Packages \n",
    "\n",
    "All the packages needed to run this quickbyte. I placed all of my packages within the ~/R/Jupyter directory, but choose your a directory for your code. If you have issues loading the packages due to conflicts in the dependencies, try to install these packages in the terminal. "
   ]
  },
  {
   "cell_type": "code",
   "execution_count": 1,
   "metadata": {},
   "outputs": [],
   "source": [
    "# make sure to make the folder prior to installing packages\n",
    "path_to_packages <- \"~/R/Jupyter\""
   ]
  },
  {
   "cell_type": "code",
   "execution_count": 2,
   "metadata": {},
   "outputs": [
    {
     "name": "stderr",
     "output_type": "stream",
     "text": [
      "also installing the dependencies ‘globals’, ‘listenv’, ‘parallelly’\n",
      "\n",
      "also installing the dependencies ‘base64url’, ‘batchtools’\n",
      "\n",
      "also installing the dependencies ‘dotCall64’, ‘spam’, ‘maps’, ‘mcmc’, ‘coda’, ‘ape’, ‘BayesLogit’, ‘fields’, ‘FNN’, ‘matrixStats’, ‘MCMCpack’, ‘pracma’, ‘pROC’, ‘statmod’, ‘truncnorm’\n",
      "\n",
      "also installing the dependencies ‘ellipsis’, ‘glue’, ‘lifecycle’, ‘rlang’, ‘tidyselect’, ‘vctrs’, ‘pillar’\n",
      "\n",
      "also installing the dependency ‘cpp11’\n",
      "\n",
      "also installing the dependency ‘isoband’\n",
      "\n"
     ]
    }
   ],
   "source": [
    "# double check you have multiple cores available\n",
    "install.packages(\"future\", lib = path_to_packages, repos='http://cran.us.r-project.org', Ncpus = 8)\n",
    "install.packages(\"future.batchtools\", lib = path_to_packages, repos='http://cran.us.r-project.org', Ncpus = 8)\n",
    "install.packages(\"repurrrsive\", lib = path_to_packages, repos='http://cran.us.r-project.org', Ncpus = 8)\n",
    "install.packages(\"future.batchtools\", lib = path_to_packages, repos='http://cran.us.r-project.org', Ncpus = 8)\n",
    "install.packages(\"Hmsc\", lib = path_to_packages, repos='http://cran.us.r-project.org', Ncpus = 8) \n",
    "install.packages(\"purrr\", lib = path_to_packages, repos='http://cran.us.r-project.org', Ncpus = 8)\n",
    "install.packages(\"dplyr\", lib = path_to_packages, repos='http://cran.us.r-project.org', Ncpus = 8)\n",
    "install.packages(\"furrr\", lib = path_to_packages, repos='http://cran.us.r-project.org', Ncpus = 8)\n",
    "install.packages(\"tidyr\", lib = path_to_packages, repos='http://cran.us.r-project.org', Ncpus = 8)\n",
    "install.packages(\"snow\", lib =  path_to_packages, repos='http://cran.us.r-project.org', Ncpus = 8)\n",
    "install.packages(\"ggplot2\", lib =  path_to_packages, repos='http://cran.us.r-project.org', Ncpus = 8)\n",
    "install.packages(\"tibble\", lib =  path_to_packages, repos='http://cran.us.r-project.org', Ncpus = 8)"
   ]
  },
  {
   "cell_type": "code",
   "execution_count": 2,
   "metadata": {},
   "outputs": [
    {
     "name": "stderr",
     "output_type": "stream",
     "text": [
      "\n",
      "Attaching package: ‘dplyr’\n",
      "\n",
      "The following objects are masked from ‘package:stats’:\n",
      "\n",
      "    filter, lag\n",
      "\n",
      "The following objects are masked from ‘package:base’:\n",
      "\n",
      "    intersect, setdiff, setequal, union\n",
      "\n"
     ]
    },
    {
     "data": {
      "text/html": [
       "<strong>system:</strong> 8"
      ],
      "text/latex": [
       "\\textbf{system:} 8"
      ],
      "text/markdown": [
       "**system:** 8"
      ],
      "text/plain": [
       "system \n",
       "     8 "
      ]
     },
     "metadata": {},
     "output_type": "display_data"
    },
    {
     "data": {
      "text/html": [
       "TRUE"
      ],
      "text/latex": [
       "TRUE"
      ],
      "text/markdown": [
       "TRUE"
      ],
      "text/plain": [
       "[1] TRUE"
      ]
     },
     "metadata": {},
     "output_type": "display_data"
    }
   ],
   "source": [
    "library(future, lib.loc = path_to_packages) # needed for all examples\n",
    "library(purrr, lib.loc = path_to_packages) # needed for tidyvese example\n",
    "library(dplyr, lib.loc = path_to_packages) # needed for tidyverse examaple\n",
    "library(furrr, lib.loc = path_to_packages) # needed for tidyverse examaple\n",
    "library(repurrrsive, lib.loc = path_to_packages) # loads in data for tidyverse examaple\n",
    "library(future.batchtools, lib.loc = path_to_packages) # needed for bayesian example\n",
    "library(coda, lib.loc = path_to_packages) # needed to load Hmsc for bayesian example\n",
    "library(Hmsc, lib.loc = path_to_packages) # needed for bayesian example\n",
    "library(tidyr, lib.loc = path_to_packages) # needed for tidyverse examaple\n",
    "library(snow, lib.loc = path_to_packages) # needed to load Hmsc for bayesian example\n",
    "library(ggplot2, lib.loc = path_to_packages) # needed to plot functions\n",
    "\n",
    "# double-check you have access to mulitple cores \n",
    "availableCores()\n",
    "\n",
    "# check that you can run multicore (will fail for R-studio and windows!)\n",
    "supportsMulticore()"
   ]
  },
  {
   "cell_type": "markdown",
   "metadata": {},
   "source": [
    "<a id=’section_1’></a>\n",
    "## 1. For-loop example and basic structure\n",
    "\n",
    "This examaple shows how the future package can be helpful for running a for-loop that iterates over a very slow function."
   ]
  },
  {
   "cell_type": "markdown",
   "metadata": {},
   "source": [
    "### Setup and loop in serial\n",
    "First, we will create a function thta pauses for 0.5 seconds. \n",
    "At the end, we will print the lenght of time it took to run. "
   ]
  },
  {
   "cell_type": "code",
   "execution_count": 3,
   "metadata": {},
   "outputs": [
    {
     "data": {
      "text/html": [
       "<ol class=list-inline>\n",
       "\t<li>'Step 1 completed'</li>\n",
       "\t<li>'Step 2 completed'</li>\n",
       "\t<li>'Step 3 completed'</li>\n",
       "\t<li>'Step 4 completed'</li>\n",
       "\t<li>'Step 5 completed'</li>\n",
       "\t<li>'Step 6 completed'</li>\n",
       "</ol>\n"
      ],
      "text/latex": [
       "\\begin{enumerate*}\n",
       "\\item 'Step 1 completed'\n",
       "\\item 'Step 2 completed'\n",
       "\\item 'Step 3 completed'\n",
       "\\item 'Step 4 completed'\n",
       "\\item 'Step 5 completed'\n",
       "\\item 'Step 6 completed'\n",
       "\\end{enumerate*}\n"
      ],
      "text/markdown": [
       "1. 'Step 1 completed'\n",
       "2. 'Step 2 completed'\n",
       "3. 'Step 3 completed'\n",
       "4. 'Step 4 completed'\n",
       "5. 'Step 5 completed'\n",
       "6. 'Step 6 completed'\n",
       "\n",
       "\n"
      ],
      "text/plain": [
       "[1] \"Step 1 completed\" \"Step 2 completed\" \"Step 3 completed\" \"Step 4 completed\"\n",
       "[5] \"Step 5 completed\" \"Step 6 completed\""
      ]
     },
     "metadata": {},
     "output_type": "display_data"
    },
    {
     "name": "stdout",
     "output_type": "stream",
     "text": [
      "[1] \"Elapsed time (seconds) for for-loop\"\n"
     ]
    },
    {
     "data": {
      "text/html": [
       "25.06"
      ],
      "text/latex": [
       "25.06"
      ],
      "text/markdown": [
       "25.06"
      ],
      "text/plain": [
       "[1] 25.06"
      ]
     },
     "metadata": {},
     "output_type": "display_data"
    }
   ],
   "source": [
    "# custom function that waits a half a second and then prints current step value\n",
    "slow_function <- function(step){\n",
    "  \n",
    "  # wait half a second\n",
    "  Sys.sleep(.5)\n",
    "    paste0(\"Step \", step, \" completed\")\n",
    "\n",
    "}\n",
    "\n",
    "\n",
    "#### running loop in serial ####\n",
    "# timestampe before loop \n",
    "t1 <- proc.time()\n",
    "# pre-allocate output \n",
    "output <- rep(NA, 50)\n",
    "\n",
    "# for-loop\n",
    "for (i in 1:50){\n",
    "  output[i] <- slow_function(i)\n",
    "\n",
    "}\n",
    "\n",
    "# print the output for first 6 steps\n",
    "head(output)\n",
    "\n",
    "# timestampe after loop \n",
    "t2 <- proc.time()\n",
    "\n",
    "\n",
    "print(\"Elapsed time (seconds) for for-loop\")\n",
    "# length of time\n",
    "time_Elapsed <- t2[[3]] - t1[[3]]\n",
    "round(time_Elapsed, 2)"
   ]
  },
  {
   "cell_type": "markdown",
   "metadata": {},
   "source": [
    "###  Rerunning for-loop in parallel\n",
    "Now we will re-write the for-loop so it is compatible with future. We will choose to run it across every core in the node we are using. \n",
    "\n",
    "WARNING: if you plan to run this example locally on R-studio, you will need to change it to plan(multisession). "
   ]
  },
  {
   "cell_type": "markdown",
   "metadata": {},
   "source": [
    "#### 1. Choose how you want to parallelize your code\n",
    "using the plan() object set to \"multicore\", we will establish we want to use all the cores available on the node. \n",
    "\n",
    "We will set the number of iterations to run to 50  and pre-allocate space for the future loop by creating the \"command_set\" object.  Since future puts every iterataion in a list, we will use vector to pre-allocate empty lists for every iteration."
   ]
  },
  {
   "cell_type": "code",
   "execution_count": 4,
   "metadata": {},
   "outputs": [],
   "source": [
    "#### rerunning loop in parallel using all available cores ####\n",
    "# going to send iterations to each cores\n",
    "# to run it only on specified number of cores, add the argument, workers. \n",
    "plan(multicore)\n",
    "\n",
    "iterations <- 50\n",
    "# rewrite loop so it works with future:\n",
    "# future requires the iterative step to be saved as its own list, \n",
    "# thus we will create a list object with 50 slots for each step. \n",
    "command_set <- vector(mode = \"list\", length = iterations)\n",
    "\n"
   ]
  },
  {
   "cell_type": "markdown",
   "metadata": {},
   "source": [
    "#### 2. Choose which part of the code you would like to run in parallel\n",
    "we are rewriting the for-loop here. \n",
    "\n",
    "we place the section we want to iterate within curly-brackets of the future() object. The the output is written to each list of the y object. \n",
    "\n",
    "WARNING: Setting up the lists prior to evaluation can be slow. It is possible for an efficient for-loop with a minimal number of iterations to be faster in serial than running in parallel. "
   ]
  },
  {
   "cell_type": "code",
   "execution_count": 5,
   "metadata": {},
   "outputs": [
    {
     "name": "stdout",
     "output_type": "stream",
     "text": [
      "[1] \"Elapsed time (seconds) for for-loop\"\n"
     ]
    },
    {
     "data": {
      "text/html": [
       "11.52"
      ],
      "text/latex": [
       "11.52"
      ],
      "text/markdown": [
       "11.52"
      ],
      "text/plain": [
       "[1] 11.52"
      ]
     },
     "metadata": {},
     "output_type": "display_data"
    }
   ],
   "source": [
    "\n",
    "t1 <- proc.time()\n",
    "for (i in 1:iterations){\n",
    "\n",
    "  command_set[[i]] <- future(\n",
    "    # code for each iteration within the curly brackets\n",
    "    {slow_function(i)}\n",
    "  ) \n",
    "}\n",
    "\n",
    "\n",
    "t2 <- proc.time()\n",
    "\n",
    "\n",
    "print(\"Elapsed time (seconds) for for-loop\")\n",
    "# length of time\n",
    "time_Elapsed <- t2[[3]] - t1[[3]]\n",
    "round(time_Elapsed, 2)\n"
   ]
  },
  {
   "cell_type": "markdown",
   "metadata": {},
   "source": [
    "Before Future evalautes the R code, it first writes the global environment to the \"command_set\" object. Each iteration is one list, thus extracting the first list will display what it will do for the first step in the loop. "
   ]
  },
  {
   "cell_type": "code",
   "execution_count": 6,
   "metadata": {},
   "outputs": [
    {
     "name": "stdout",
     "output_type": "stream",
     "text": [
      "[1] \"What one iteration looks like in the command set\"\n"
     ]
    },
    {
     "data": {
      "text/plain": [
       "MulticoreFuture:\n",
       "Label: ‘<none>’\n",
       "Expression:\n",
       "{\n",
       "    slow_function(i)\n",
       "}\n",
       "Lazy evaluation: FALSE\n",
       "Asynchronous evaluation: TRUE\n",
       "Local evaluation: TRUE\n",
       "Environment: R_GlobalEnv\n",
       "Capture standard output: TRUE\n",
       "Capture condition classes: ‘condition’\n",
       "Globals: <none>\n",
       "Packages: <none>\n",
       "L'Ecuyer-CMRG RNG seed: <none> (seed = FALSE)\n",
       "Resolved: TRUE\n",
       "Value: 136 bytes of class ‘character’\n",
       "Early signaling: FALSE\n",
       "Owner process: 170c952f-e030-a5ad-8eec-0447b7938d1a\n",
       "Class: ‘MulticoreFuture’, ‘MultiprocessFuture’, ‘Future’, ‘environment’"
      ]
     },
     "metadata": {},
     "output_type": "display_data"
    }
   ],
   "source": [
    "print(\"What one iteration looks like in the command set\")\n",
    "# prints first iteration\n",
    "command_set[[1]]"
   ]
  },
  {
   "cell_type": "markdown",
   "metadata": {},
   "source": [
    "####  3. Evaluate the code\n",
    "The value() object will take the list and run the code in parallel. Since the output is a list of lists, we can collapse it into an array with the unlist object. "
   ]
  },
  {
   "cell_type": "code",
   "execution_count": 7,
   "metadata": {},
   "outputs": [
    {
     "name": "stdout",
     "output_type": "stream",
     "text": [
      "[1] \"list output\"\n"
     ]
    },
    {
     "data": {
      "text/html": [
       "<ol>\n",
       "\t<li>'Step 1 completed'</li>\n",
       "\t<li>'Step 2 completed'</li>\n",
       "\t<li>'Step 3 completed'</li>\n",
       "\t<li>'Step 4 completed'</li>\n",
       "\t<li>'Step 5 completed'</li>\n",
       "\t<li>'Step 6 completed'</li>\n",
       "</ol>\n"
      ],
      "text/latex": [
       "\\begin{enumerate}\n",
       "\\item 'Step 1 completed'\n",
       "\\item 'Step 2 completed'\n",
       "\\item 'Step 3 completed'\n",
       "\\item 'Step 4 completed'\n",
       "\\item 'Step 5 completed'\n",
       "\\item 'Step 6 completed'\n",
       "\\end{enumerate}\n"
      ],
      "text/markdown": [
       "1. 'Step 1 completed'\n",
       "2. 'Step 2 completed'\n",
       "3. 'Step 3 completed'\n",
       "4. 'Step 4 completed'\n",
       "5. 'Step 5 completed'\n",
       "6. 'Step 6 completed'\n",
       "\n",
       "\n"
      ],
      "text/plain": [
       "[[1]]\n",
       "[1] \"Step 1 completed\"\n",
       "\n",
       "[[2]]\n",
       "[1] \"Step 2 completed\"\n",
       "\n",
       "[[3]]\n",
       "[1] \"Step 3 completed\"\n",
       "\n",
       "[[4]]\n",
       "[1] \"Step 4 completed\"\n",
       "\n",
       "[[5]]\n",
       "[1] \"Step 5 completed\"\n",
       "\n",
       "[[6]]\n",
       "[1] \"Step 6 completed\"\n"
      ]
     },
     "metadata": {},
     "output_type": "display_data"
    },
    {
     "name": "stdout",
     "output_type": "stream",
     "text": [
      "[1] \"array output\"\n"
     ]
    },
    {
     "data": {
      "text/html": [
       "<ol class=list-inline>\n",
       "\t<li>'Step 1 completed'</li>\n",
       "\t<li>'Step 2 completed'</li>\n",
       "\t<li>'Step 3 completed'</li>\n",
       "\t<li>'Step 4 completed'</li>\n",
       "\t<li>'Step 5 completed'</li>\n",
       "\t<li>'Step 6 completed'</li>\n",
       "</ol>\n"
      ],
      "text/latex": [
       "\\begin{enumerate*}\n",
       "\\item 'Step 1 completed'\n",
       "\\item 'Step 2 completed'\n",
       "\\item 'Step 3 completed'\n",
       "\\item 'Step 4 completed'\n",
       "\\item 'Step 5 completed'\n",
       "\\item 'Step 6 completed'\n",
       "\\end{enumerate*}\n"
      ],
      "text/markdown": [
       "1. 'Step 1 completed'\n",
       "2. 'Step 2 completed'\n",
       "3. 'Step 3 completed'\n",
       "4. 'Step 4 completed'\n",
       "5. 'Step 5 completed'\n",
       "6. 'Step 6 completed'\n",
       "\n",
       "\n"
      ],
      "text/plain": [
       "[1] \"Step 1 completed\" \"Step 2 completed\" \"Step 3 completed\" \"Step 4 completed\"\n",
       "[5] \"Step 5 completed\" \"Step 6 completed\""
      ]
     },
     "metadata": {},
     "output_type": "display_data"
    }
   ],
   "source": [
    "# evaluate, distribute each iteration here \n",
    "output <- value(command_set)\n",
    "\n",
    "# ouput is here but separates lists. \n",
    "print(\"list output\")\n",
    "head(output) # using head to limit output\n",
    "\n",
    "\n",
    "# we can combine them into a vector using unlist()\n",
    "print(\"array output\")\n",
    "head(unlist(output)) # using head to limit output"
   ]
  },
  {
   "cell_type": "markdown",
   "metadata": {},
   "source": [
    "all in one block:"
   ]
  },
  {
   "cell_type": "code",
   "execution_count": 8,
   "metadata": {},
   "outputs": [
    {
     "data": {
      "text/html": [
       "<ol class=list-inline>\n",
       "\t<li>'Step 1 completed'</li>\n",
       "\t<li>'Step 2 completed'</li>\n",
       "\t<li>'Step 3 completed'</li>\n",
       "\t<li>'Step 4 completed'</li>\n",
       "\t<li>'Step 5 completed'</li>\n",
       "\t<li>'Step 6 completed'</li>\n",
       "</ol>\n"
      ],
      "text/latex": [
       "\\begin{enumerate*}\n",
       "\\item 'Step 1 completed'\n",
       "\\item 'Step 2 completed'\n",
       "\\item 'Step 3 completed'\n",
       "\\item 'Step 4 completed'\n",
       "\\item 'Step 5 completed'\n",
       "\\item 'Step 6 completed'\n",
       "\\end{enumerate*}\n"
      ],
      "text/markdown": [
       "1. 'Step 1 completed'\n",
       "2. 'Step 2 completed'\n",
       "3. 'Step 3 completed'\n",
       "4. 'Step 4 completed'\n",
       "5. 'Step 5 completed'\n",
       "6. 'Step 6 completed'\n",
       "\n",
       "\n"
      ],
      "text/plain": [
       "[1] \"Step 1 completed\" \"Step 2 completed\" \"Step 3 completed\" \"Step 4 completed\"\n",
       "[5] \"Step 5 completed\" \"Step 6 completed\""
      ]
     },
     "metadata": {},
     "output_type": "display_data"
    },
    {
     "name": "stdout",
     "output_type": "stream",
     "text": [
      "[1] \"Elapsed time for future example:\"\n"
     ]
    },
    {
     "data": {
      "text/html": [
       "12.23"
      ],
      "text/latex": [
       "12.23"
      ],
      "text/markdown": [
       "12.23"
      ],
      "text/plain": [
       "[1] 12.23"
      ]
     },
     "metadata": {},
     "output_type": "display_data"
    }
   ],
   "source": [
    "# plan\n",
    "plan(multicore)\n",
    "\n",
    "command_set <- vector(mode = \"list\", length = 50)\n",
    "t1 <- proc.time()\n",
    "\n",
    "for (i in 1:50){\n",
    "  command_set[[i]] <- future(\n",
    "    # but code for each iteration with curly brackets\n",
    "    {slow_function(i)}\n",
    "  ) \n",
    "}\n",
    "\n",
    "# evaluate\n",
    "output <- value(command_set)\n",
    "\n",
    "# ouput is here\n",
    "head(unlist(output))\n",
    "\n",
    "\n",
    "# timestampe after loop \n",
    "t2 <- proc.time()\n",
    "\n",
    "\n",
    "print(\"Elapsed time for future example:\")\n",
    "# length of time\n",
    "time_Elapsed <- t2[[3]] - t1[[3]]\n",
    "round(time_Elapsed, 2)"
   ]
  },
  {
   "cell_type": "markdown",
   "metadata": {},
   "source": [
    "<a id=’section_2’></a>\n",
    "## 2. Tidyverse example using the furrr package\n",
    "\n",
    "To change tidyverse code, all that is needed is to set up the parallelization (plan object) and then replace the map object with future_map. The evaluation step is completed with the future_map object. "
   ]
  },
  {
   "cell_type": "markdown",
   "metadata": {},
   "source": [
    "### Setup\n",
    "This example uses the gapminder dataset and creates a linear model for each country. The datafame becomes a nested dataframe by country so we can use the purrr package to iterate over each country and comput the linear model. See this link to the [purrr package](https://purrr.tidyverse.org/) and the [repurrrsive](https://github.com/jennybc/repurrrsive) for more details. "
   ]
  },
  {
   "cell_type": "code",
   "execution_count": 9,
   "metadata": {},
   "outputs": [
    {
     "data": {
      "text/html": [
       "<table>\n",
       "<thead><tr><th scope=col>country</th><th scope=col>continent</th><th scope=col>year</th><th scope=col>lifeExp</th><th scope=col>pop</th><th scope=col>gdpPercap</th></tr></thead>\n",
       "<tbody>\n",
       "\t<tr><td>Afghanistan</td><td>Asia       </td><td>1952       </td><td>28.801     </td><td> 8425333   </td><td>779.4453   </td></tr>\n",
       "\t<tr><td>Afghanistan</td><td>Asia       </td><td>1957       </td><td>30.332     </td><td> 9240934   </td><td>820.8530   </td></tr>\n",
       "\t<tr><td>Afghanistan</td><td>Asia       </td><td>1962       </td><td>31.997     </td><td>10267083   </td><td>853.1007   </td></tr>\n",
       "\t<tr><td>Afghanistan</td><td>Asia       </td><td>1967       </td><td>34.020     </td><td>11537966   </td><td>836.1971   </td></tr>\n",
       "\t<tr><td>Afghanistan</td><td>Asia       </td><td>1972       </td><td>36.088     </td><td>13079460   </td><td>739.9811   </td></tr>\n",
       "\t<tr><td>Afghanistan</td><td>Asia       </td><td>1977       </td><td>38.438     </td><td>14880372   </td><td>786.1134   </td></tr>\n",
       "</tbody>\n",
       "</table>\n"
      ],
      "text/latex": [
       "\\begin{tabular}{r|llllll}\n",
       " country & continent & year & lifeExp & pop & gdpPercap\\\\\n",
       "\\hline\n",
       "\t Afghanistan & Asia        & 1952        & 28.801      &  8425333    & 779.4453   \\\\\n",
       "\t Afghanistan & Asia        & 1957        & 30.332      &  9240934    & 820.8530   \\\\\n",
       "\t Afghanistan & Asia        & 1962        & 31.997      & 10267083    & 853.1007   \\\\\n",
       "\t Afghanistan & Asia        & 1967        & 34.020      & 11537966    & 836.1971   \\\\\n",
       "\t Afghanistan & Asia        & 1972        & 36.088      & 13079460    & 739.9811   \\\\\n",
       "\t Afghanistan & Asia        & 1977        & 38.438      & 14880372    & 786.1134   \\\\\n",
       "\\end{tabular}\n"
      ],
      "text/markdown": [
       "\n",
       "| country | continent | year | lifeExp | pop | gdpPercap |\n",
       "|---|---|---|---|---|---|\n",
       "| Afghanistan | Asia        | 1952        | 28.801      |  8425333    | 779.4453    |\n",
       "| Afghanistan | Asia        | 1957        | 30.332      |  9240934    | 820.8530    |\n",
       "| Afghanistan | Asia        | 1962        | 31.997      | 10267083    | 853.1007    |\n",
       "| Afghanistan | Asia        | 1967        | 34.020      | 11537966    | 836.1971    |\n",
       "| Afghanistan | Asia        | 1972        | 36.088      | 13079460    | 739.9811    |\n",
       "| Afghanistan | Asia        | 1977        | 38.438      | 14880372    | 786.1134    |\n",
       "\n"
      ],
      "text/plain": [
       "  country     continent year lifeExp pop      gdpPercap\n",
       "1 Afghanistan Asia      1952 28.801   8425333 779.4453 \n",
       "2 Afghanistan Asia      1957 30.332   9240934 820.8530 \n",
       "3 Afghanistan Asia      1962 31.997  10267083 853.1007 \n",
       "4 Afghanistan Asia      1967 34.020  11537966 836.1971 \n",
       "5 Afghanistan Asia      1972 36.088  13079460 739.9811 \n",
       "6 Afghanistan Asia      1977 38.438  14880372 786.1134 "
      ]
     },
     "metadata": {},
     "output_type": "display_data"
    },
    {
     "name": "stdout",
     "output_type": "stream",
     "text": [
      "[1] \"Elapsed time for sequential purrr  example:\"\n"
     ]
    },
    {
     "data": {
      "text/html": [
       "28.94"
      ],
      "text/latex": [
       "28.94"
      ],
      "text/markdown": [
       "28.94"
      ],
      "text/plain": [
       "[1] 28.94"
      ]
     },
     "metadata": {},
     "output_type": "display_data"
    }
   ],
   "source": [
    "# create a nested dataframe with each country as a row \n",
    "# we will iterate using the map function from the purrr package\n",
    "head(gap_simple)\n",
    "\n",
    "\n",
    "country_nested <- \n",
    "  gap_simple %>%\n",
    "  group_by(country) %>%\n",
    "  nest() %>%\n",
    "  ungroup() # this is necessary or furrr will be slow\n",
    "\n",
    "\n",
    "\n",
    "# linear model we will run for each country. \n",
    "# in the real world, don't do this!! Always check model assumptions!\n",
    "custom_model <- \n",
    "  function(data){\n",
    "    # just to slow it down so its more obvious it's in parallel\n",
    "    Sys.sleep(.2)\n",
    "    lm(lifeExp ~ pop + gdpPercap + year, data = data)\n",
    "  }\n",
    "\n",
    "\n",
    "\n",
    "# Sequential form (normal purrr)\n",
    "t1 <- proc.time()\n",
    "model_done <- \n",
    "    country_nested %>%\n",
    "    mutate(lm_obj = map(data, custom_model))\n",
    "\n",
    "t2 <- proc.time()\n",
    "print(\"Elapsed time for sequential purrr  example:\")\n",
    "# length of time\n",
    "time_Elapsed <- t2[[3]] - t1[[3]]\n",
    "round(time_Elapsed, 2)"
   ]
  },
  {
   "cell_type": "markdown",
   "metadata": {},
   "source": [
    "###  Rerunning tidyverse in parallel via the furrr package \n",
    "To change the code to work with tidyverse, replace the map object with future_map."
   ]
  },
  {
   "cell_type": "code",
   "execution_count": 10,
   "metadata": {},
   "outputs": [
    {
     "name": "stdout",
     "output_type": "stream",
     "text": [
      "[1] \"Elapsed time for furrr example:\"\n"
     ]
    },
    {
     "data": {
      "text/html": [
       "4.23"
      ],
      "text/latex": [
       "4.23"
      ],
      "text/markdown": [
       "4.23"
      ],
      "text/plain": [
       "[1] 4.23"
      ]
     },
     "metadata": {},
     "output_type": "display_data"
    }
   ],
   "source": [
    "# using furrr package\n",
    "\n",
    "# use all cores available\n",
    "plan(multicore) \n",
    "\n",
    "# this time we do no not need to the evauluation step. \n",
    "t1 <- proc.time()\n",
    "model_done <- \n",
    "    country_nested %>%\n",
    "    mutate(lm_obj = future_map(data, custom_model)) # switched map to future_map!\n",
    "\n",
    "# switch back to one core\n",
    "plan(sequential)   \n",
    "t2 <- proc.time()\n",
    "\n",
    "print(\"Elapsed time for furrr example:\")\n",
    "time_Elapsed <- t2[[3]] - t1[[3]]\n",
    "round(time_Elapsed, 2)\n"
   ]
  },
  {
   "cell_type": "markdown",
   "metadata": {},
   "source": [
    "Example: model output for Bosnia and Herzegovina (proof the future code provided output). \n"
   ]
  },
  {
   "cell_type": "code",
   "execution_count": 11,
   "metadata": {},
   "outputs": [
    {
     "data": {
      "text/html": [
       "Bosnia and Herzegovina\n",
       "<details>\n",
       "\t<summary style=display:list-item;cursor:pointer>\n",
       "\t\t<strong>Levels</strong>:\n",
       "\t</summary>\n",
       "\t<ol class=list-inline>\n",
       "\t\t<li>'Afghanistan'</li>\n",
       "\t\t<li>'Albania'</li>\n",
       "\t\t<li>'Algeria'</li>\n",
       "\t\t<li>'Angola'</li>\n",
       "\t\t<li>'Argentina'</li>\n",
       "\t\t<li>'Australia'</li>\n",
       "\t\t<li>'Austria'</li>\n",
       "\t\t<li>'Bahrain'</li>\n",
       "\t\t<li>'Bangladesh'</li>\n",
       "\t\t<li>'Belgium'</li>\n",
       "\t\t<li>'Benin'</li>\n",
       "\t\t<li>'Bolivia'</li>\n",
       "\t\t<li>'Bosnia and Herzegovina'</li>\n",
       "\t\t<li>'Botswana'</li>\n",
       "\t\t<li>'Brazil'</li>\n",
       "\t\t<li>'Bulgaria'</li>\n",
       "\t\t<li>'Burkina Faso'</li>\n",
       "\t\t<li>'Burundi'</li>\n",
       "\t\t<li>'Cambodia'</li>\n",
       "\t\t<li>'Cameroon'</li>\n",
       "\t\t<li>'Canada'</li>\n",
       "\t\t<li>'Central African Republic'</li>\n",
       "\t\t<li>'Chad'</li>\n",
       "\t\t<li>'Chile'</li>\n",
       "\t\t<li>'China'</li>\n",
       "\t\t<li>'Colombia'</li>\n",
       "\t\t<li>'Comoros'</li>\n",
       "\t\t<li>'Congo, Dem. Rep.'</li>\n",
       "\t\t<li>'Congo, Rep.'</li>\n",
       "\t\t<li>'Costa Rica'</li>\n",
       "\t\t<li>'Cote d\\'Ivoire'</li>\n",
       "\t\t<li>'Croatia'</li>\n",
       "\t\t<li>'Cuba'</li>\n",
       "\t\t<li>'Czech Republic'</li>\n",
       "\t\t<li>'Denmark'</li>\n",
       "\t\t<li>'Djibouti'</li>\n",
       "\t\t<li>'Dominican Republic'</li>\n",
       "\t\t<li>'Ecuador'</li>\n",
       "\t\t<li>'Egypt'</li>\n",
       "\t\t<li>'El Salvador'</li>\n",
       "\t\t<li>'Equatorial Guinea'</li>\n",
       "\t\t<li>'Eritrea'</li>\n",
       "\t\t<li>'Ethiopia'</li>\n",
       "\t\t<li>'Finland'</li>\n",
       "\t\t<li>'France'</li>\n",
       "\t\t<li>'Gabon'</li>\n",
       "\t\t<li>'Gambia'</li>\n",
       "\t\t<li>'Germany'</li>\n",
       "\t\t<li>'Ghana'</li>\n",
       "\t\t<li>'Greece'</li>\n",
       "\t\t<li>'Guatemala'</li>\n",
       "\t\t<li>'Guinea'</li>\n",
       "\t\t<li>'Guinea-Bissau'</li>\n",
       "\t\t<li>'Haiti'</li>\n",
       "\t\t<li>'Honduras'</li>\n",
       "\t\t<li>'Hong Kong, China'</li>\n",
       "\t\t<li>'Hungary'</li>\n",
       "\t\t<li>'Iceland'</li>\n",
       "\t\t<li>'India'</li>\n",
       "\t\t<li>'Indonesia'</li>\n",
       "\t\t<li>'Iran'</li>\n",
       "\t\t<li>'Iraq'</li>\n",
       "\t\t<li>'Ireland'</li>\n",
       "\t\t<li>'Israel'</li>\n",
       "\t\t<li>'Italy'</li>\n",
       "\t\t<li>'Jamaica'</li>\n",
       "\t\t<li>'Japan'</li>\n",
       "\t\t<li>'Jordan'</li>\n",
       "\t\t<li>'Kenya'</li>\n",
       "\t\t<li>'Korea, Dem. Rep.'</li>\n",
       "\t\t<li>'Korea, Rep.'</li>\n",
       "\t\t<li>'Kuwait'</li>\n",
       "\t\t<li>'Lebanon'</li>\n",
       "\t\t<li>'Lesotho'</li>\n",
       "\t\t<li>'Liberia'</li>\n",
       "\t\t<li>'Libya'</li>\n",
       "\t\t<li>'Madagascar'</li>\n",
       "\t\t<li>'Malawi'</li>\n",
       "\t\t<li>'Malaysia'</li>\n",
       "\t\t<li>'Mali'</li>\n",
       "\t\t<li>'Mauritania'</li>\n",
       "\t\t<li>'Mauritius'</li>\n",
       "\t\t<li>'Mexico'</li>\n",
       "\t\t<li>'Mongolia'</li>\n",
       "\t\t<li>'Montenegro'</li>\n",
       "\t\t<li>'Morocco'</li>\n",
       "\t\t<li>'Mozambique'</li>\n",
       "\t\t<li>'Myanmar'</li>\n",
       "\t\t<li>'Namibia'</li>\n",
       "\t\t<li>'Nepal'</li>\n",
       "\t\t<li>'Netherlands'</li>\n",
       "\t\t<li>'New Zealand'</li>\n",
       "\t\t<li>'Nicaragua'</li>\n",
       "\t\t<li>'Niger'</li>\n",
       "\t\t<li>'Nigeria'</li>\n",
       "\t\t<li>'Norway'</li>\n",
       "\t\t<li>'Oman'</li>\n",
       "\t\t<li>'Pakistan'</li>\n",
       "\t\t<li>'Panama'</li>\n",
       "\t\t<li>'Paraguay'</li>\n",
       "\t\t<li>'Peru'</li>\n",
       "\t\t<li>'Philippines'</li>\n",
       "\t\t<li>'Poland'</li>\n",
       "\t\t<li>'Portugal'</li>\n",
       "\t\t<li>'Puerto Rico'</li>\n",
       "\t\t<li>'Reunion'</li>\n",
       "\t\t<li>'Romania'</li>\n",
       "\t\t<li>'Rwanda'</li>\n",
       "\t\t<li>'Sao Tome and Principe'</li>\n",
       "\t\t<li>'Saudi Arabia'</li>\n",
       "\t\t<li>'Senegal'</li>\n",
       "\t\t<li>'Serbia'</li>\n",
       "\t\t<li>'Sierra Leone'</li>\n",
       "\t\t<li>'Singapore'</li>\n",
       "\t\t<li>'Slovak Republic'</li>\n",
       "\t\t<li>'Slovenia'</li>\n",
       "\t\t<li>'Somalia'</li>\n",
       "\t\t<li>'South Africa'</li>\n",
       "\t\t<li>'Spain'</li>\n",
       "\t\t<li>'Sri Lanka'</li>\n",
       "\t\t<li>'Sudan'</li>\n",
       "\t\t<li>'Swaziland'</li>\n",
       "\t\t<li>'Sweden'</li>\n",
       "\t\t<li>'Switzerland'</li>\n",
       "\t\t<li>'Syria'</li>\n",
       "\t\t<li>'Taiwan'</li>\n",
       "\t\t<li>'Tanzania'</li>\n",
       "\t\t<li>'Thailand'</li>\n",
       "\t\t<li>'Togo'</li>\n",
       "\t\t<li>'Trinidad and Tobago'</li>\n",
       "\t\t<li>'Tunisia'</li>\n",
       "\t\t<li>'Turkey'</li>\n",
       "\t\t<li>'Uganda'</li>\n",
       "\t\t<li>'United Kingdom'</li>\n",
       "\t\t<li>'United States'</li>\n",
       "\t\t<li>'Uruguay'</li>\n",
       "\t\t<li>'Venezuela'</li>\n",
       "\t\t<li>'Vietnam'</li>\n",
       "\t\t<li>'West Bank and Gaza'</li>\n",
       "\t\t<li>'Yemen, Rep.'</li>\n",
       "\t\t<li>'Zambia'</li>\n",
       "\t\t<li>'Zimbabwe'</li>\n",
       "\t</ol>\n",
       "</details>"
      ],
      "text/latex": [
       "Bosnia and Herzegovina\n",
       "\\emph{Levels}: \\begin{enumerate*}\n",
       "\\item 'Afghanistan'\n",
       "\\item 'Albania'\n",
       "\\item 'Algeria'\n",
       "\\item 'Angola'\n",
       "\\item 'Argentina'\n",
       "\\item 'Australia'\n",
       "\\item 'Austria'\n",
       "\\item 'Bahrain'\n",
       "\\item 'Bangladesh'\n",
       "\\item 'Belgium'\n",
       "\\item 'Benin'\n",
       "\\item 'Bolivia'\n",
       "\\item 'Bosnia and Herzegovina'\n",
       "\\item 'Botswana'\n",
       "\\item 'Brazil'\n",
       "\\item 'Bulgaria'\n",
       "\\item 'Burkina Faso'\n",
       "\\item 'Burundi'\n",
       "\\item 'Cambodia'\n",
       "\\item 'Cameroon'\n",
       "\\item 'Canada'\n",
       "\\item 'Central African Republic'\n",
       "\\item 'Chad'\n",
       "\\item 'Chile'\n",
       "\\item 'China'\n",
       "\\item 'Colombia'\n",
       "\\item 'Comoros'\n",
       "\\item 'Congo, Dem. Rep.'\n",
       "\\item 'Congo, Rep.'\n",
       "\\item 'Costa Rica'\n",
       "\\item 'Cote d\\textbackslash{}'Ivoire'\n",
       "\\item 'Croatia'\n",
       "\\item 'Cuba'\n",
       "\\item 'Czech Republic'\n",
       "\\item 'Denmark'\n",
       "\\item 'Djibouti'\n",
       "\\item 'Dominican Republic'\n",
       "\\item 'Ecuador'\n",
       "\\item 'Egypt'\n",
       "\\item 'El Salvador'\n",
       "\\item 'Equatorial Guinea'\n",
       "\\item 'Eritrea'\n",
       "\\item 'Ethiopia'\n",
       "\\item 'Finland'\n",
       "\\item 'France'\n",
       "\\item 'Gabon'\n",
       "\\item 'Gambia'\n",
       "\\item 'Germany'\n",
       "\\item 'Ghana'\n",
       "\\item 'Greece'\n",
       "\\item 'Guatemala'\n",
       "\\item 'Guinea'\n",
       "\\item 'Guinea-Bissau'\n",
       "\\item 'Haiti'\n",
       "\\item 'Honduras'\n",
       "\\item 'Hong Kong, China'\n",
       "\\item 'Hungary'\n",
       "\\item 'Iceland'\n",
       "\\item 'India'\n",
       "\\item 'Indonesia'\n",
       "\\item 'Iran'\n",
       "\\item 'Iraq'\n",
       "\\item 'Ireland'\n",
       "\\item 'Israel'\n",
       "\\item 'Italy'\n",
       "\\item 'Jamaica'\n",
       "\\item 'Japan'\n",
       "\\item 'Jordan'\n",
       "\\item 'Kenya'\n",
       "\\item 'Korea, Dem. Rep.'\n",
       "\\item 'Korea, Rep.'\n",
       "\\item 'Kuwait'\n",
       "\\item 'Lebanon'\n",
       "\\item 'Lesotho'\n",
       "\\item 'Liberia'\n",
       "\\item 'Libya'\n",
       "\\item 'Madagascar'\n",
       "\\item 'Malawi'\n",
       "\\item 'Malaysia'\n",
       "\\item 'Mali'\n",
       "\\item 'Mauritania'\n",
       "\\item 'Mauritius'\n",
       "\\item 'Mexico'\n",
       "\\item 'Mongolia'\n",
       "\\item 'Montenegro'\n",
       "\\item 'Morocco'\n",
       "\\item 'Mozambique'\n",
       "\\item 'Myanmar'\n",
       "\\item 'Namibia'\n",
       "\\item 'Nepal'\n",
       "\\item 'Netherlands'\n",
       "\\item 'New Zealand'\n",
       "\\item 'Nicaragua'\n",
       "\\item 'Niger'\n",
       "\\item 'Nigeria'\n",
       "\\item 'Norway'\n",
       "\\item 'Oman'\n",
       "\\item 'Pakistan'\n",
       "\\item 'Panama'\n",
       "\\item 'Paraguay'\n",
       "\\item 'Peru'\n",
       "\\item 'Philippines'\n",
       "\\item 'Poland'\n",
       "\\item 'Portugal'\n",
       "\\item 'Puerto Rico'\n",
       "\\item 'Reunion'\n",
       "\\item 'Romania'\n",
       "\\item 'Rwanda'\n",
       "\\item 'Sao Tome and Principe'\n",
       "\\item 'Saudi Arabia'\n",
       "\\item 'Senegal'\n",
       "\\item 'Serbia'\n",
       "\\item 'Sierra Leone'\n",
       "\\item 'Singapore'\n",
       "\\item 'Slovak Republic'\n",
       "\\item 'Slovenia'\n",
       "\\item 'Somalia'\n",
       "\\item 'South Africa'\n",
       "\\item 'Spain'\n",
       "\\item 'Sri Lanka'\n",
       "\\item 'Sudan'\n",
       "\\item 'Swaziland'\n",
       "\\item 'Sweden'\n",
       "\\item 'Switzerland'\n",
       "\\item 'Syria'\n",
       "\\item 'Taiwan'\n",
       "\\item 'Tanzania'\n",
       "\\item 'Thailand'\n",
       "\\item 'Togo'\n",
       "\\item 'Trinidad and Tobago'\n",
       "\\item 'Tunisia'\n",
       "\\item 'Turkey'\n",
       "\\item 'Uganda'\n",
       "\\item 'United Kingdom'\n",
       "\\item 'United States'\n",
       "\\item 'Uruguay'\n",
       "\\item 'Venezuela'\n",
       "\\item 'Vietnam'\n",
       "\\item 'West Bank and Gaza'\n",
       "\\item 'Yemen, Rep.'\n",
       "\\item 'Zambia'\n",
       "\\item 'Zimbabwe'\n",
       "\\end{enumerate*}\n"
      ],
      "text/markdown": [
       "Bosnia and Herzegovina\n",
       "**Levels**: 1. 'Afghanistan'\n",
       "2. 'Albania'\n",
       "3. 'Algeria'\n",
       "4. 'Angola'\n",
       "5. 'Argentina'\n",
       "6. 'Australia'\n",
       "7. 'Austria'\n",
       "8. 'Bahrain'\n",
       "9. 'Bangladesh'\n",
       "10. 'Belgium'\n",
       "11. 'Benin'\n",
       "12. 'Bolivia'\n",
       "13. 'Bosnia and Herzegovina'\n",
       "14. 'Botswana'\n",
       "15. 'Brazil'\n",
       "16. 'Bulgaria'\n",
       "17. 'Burkina Faso'\n",
       "18. 'Burundi'\n",
       "19. 'Cambodia'\n",
       "20. 'Cameroon'\n",
       "21. 'Canada'\n",
       "22. 'Central African Republic'\n",
       "23. 'Chad'\n",
       "24. 'Chile'\n",
       "25. 'China'\n",
       "26. 'Colombia'\n",
       "27. 'Comoros'\n",
       "28. 'Congo, Dem. Rep.'\n",
       "29. 'Congo, Rep.'\n",
       "30. 'Costa Rica'\n",
       "31. 'Cote d\\'Ivoire'\n",
       "32. 'Croatia'\n",
       "33. 'Cuba'\n",
       "34. 'Czech Republic'\n",
       "35. 'Denmark'\n",
       "36. 'Djibouti'\n",
       "37. 'Dominican Republic'\n",
       "38. 'Ecuador'\n",
       "39. 'Egypt'\n",
       "40. 'El Salvador'\n",
       "41. 'Equatorial Guinea'\n",
       "42. 'Eritrea'\n",
       "43. 'Ethiopia'\n",
       "44. 'Finland'\n",
       "45. 'France'\n",
       "46. 'Gabon'\n",
       "47. 'Gambia'\n",
       "48. 'Germany'\n",
       "49. 'Ghana'\n",
       "50. 'Greece'\n",
       "51. 'Guatemala'\n",
       "52. 'Guinea'\n",
       "53. 'Guinea-Bissau'\n",
       "54. 'Haiti'\n",
       "55. 'Honduras'\n",
       "56. 'Hong Kong, China'\n",
       "57. 'Hungary'\n",
       "58. 'Iceland'\n",
       "59. 'India'\n",
       "60. 'Indonesia'\n",
       "61. 'Iran'\n",
       "62. 'Iraq'\n",
       "63. 'Ireland'\n",
       "64. 'Israel'\n",
       "65. 'Italy'\n",
       "66. 'Jamaica'\n",
       "67. 'Japan'\n",
       "68. 'Jordan'\n",
       "69. 'Kenya'\n",
       "70. 'Korea, Dem. Rep.'\n",
       "71. 'Korea, Rep.'\n",
       "72. 'Kuwait'\n",
       "73. 'Lebanon'\n",
       "74. 'Lesotho'\n",
       "75. 'Liberia'\n",
       "76. 'Libya'\n",
       "77. 'Madagascar'\n",
       "78. 'Malawi'\n",
       "79. 'Malaysia'\n",
       "80. 'Mali'\n",
       "81. 'Mauritania'\n",
       "82. 'Mauritius'\n",
       "83. 'Mexico'\n",
       "84. 'Mongolia'\n",
       "85. 'Montenegro'\n",
       "86. 'Morocco'\n",
       "87. 'Mozambique'\n",
       "88. 'Myanmar'\n",
       "89. 'Namibia'\n",
       "90. 'Nepal'\n",
       "91. 'Netherlands'\n",
       "92. 'New Zealand'\n",
       "93. 'Nicaragua'\n",
       "94. 'Niger'\n",
       "95. 'Nigeria'\n",
       "96. 'Norway'\n",
       "97. 'Oman'\n",
       "98. 'Pakistan'\n",
       "99. 'Panama'\n",
       "100. 'Paraguay'\n",
       "101. 'Peru'\n",
       "102. 'Philippines'\n",
       "103. 'Poland'\n",
       "104. 'Portugal'\n",
       "105. 'Puerto Rico'\n",
       "106. 'Reunion'\n",
       "107. 'Romania'\n",
       "108. 'Rwanda'\n",
       "109. 'Sao Tome and Principe'\n",
       "110. 'Saudi Arabia'\n",
       "111. 'Senegal'\n",
       "112. 'Serbia'\n",
       "113. 'Sierra Leone'\n",
       "114. 'Singapore'\n",
       "115. 'Slovak Republic'\n",
       "116. 'Slovenia'\n",
       "117. 'Somalia'\n",
       "118. 'South Africa'\n",
       "119. 'Spain'\n",
       "120. 'Sri Lanka'\n",
       "121. 'Sudan'\n",
       "122. 'Swaziland'\n",
       "123. 'Sweden'\n",
       "124. 'Switzerland'\n",
       "125. 'Syria'\n",
       "126. 'Taiwan'\n",
       "127. 'Tanzania'\n",
       "128. 'Thailand'\n",
       "129. 'Togo'\n",
       "130. 'Trinidad and Tobago'\n",
       "131. 'Tunisia'\n",
       "132. 'Turkey'\n",
       "133. 'Uganda'\n",
       "134. 'United Kingdom'\n",
       "135. 'United States'\n",
       "136. 'Uruguay'\n",
       "137. 'Venezuela'\n",
       "138. 'Vietnam'\n",
       "139. 'West Bank and Gaza'\n",
       "140. 'Yemen, Rep.'\n",
       "141. 'Zambia'\n",
       "142. 'Zimbabwe'\n",
       "\n",
       "\n"
      ],
      "text/plain": [
       "[1] Bosnia and Herzegovina\n",
       "142 Levels: Afghanistan Albania Algeria Angola Argentina Australia ... Zimbabwe"
      ]
     },
     "metadata": {},
     "output_type": "display_data"
    },
    {
     "data": {
      "text/plain": [
       "\n",
       "Call:\n",
       "lm(formula = lifeExp ~ pop + gdpPercap + year, data = data)\n",
       "\n",
       "Coefficients:\n",
       "(Intercept)          pop    gdpPercap         year  \n",
       " -4.950e+02    4.916e-06   -5.017e-04    2.757e-01  \n"
      ]
     },
     "metadata": {},
     "output_type": "display_data"
    }
   ],
   "source": [
    "model_done$country[[13]]\n",
    "model_done$lm_obj[[13]]"
   ]
  },
  {
   "cell_type": "markdown",
   "metadata": {},
   "source": [
    "<a id=’section_3’></a>\n",
    "## 3. Bayesian example using multiple nodes via the future.batchtools package\n",
    "This example runs multiple bayesian models in parallel by submitting each model (iteration) to a separate node. This is very useful because each model can already run in parallel, thus CARC enables you to run all of your bayesian parallelized models at once. the future.batchtools packages will use information in the batchtools.torque.tmpl file in your current directory to submit jobs. This file can be modified to change parameters such as length of walltime, number of cores, etc (see file below). \n",
    "\n",
    "These bayesian models are joint-species distribution models (jSDMs) which fit the distributions of bird species and determines how it relates to their habitat, phylogeny and traits. The code will run four bayesian models that differ in their thinning and then write the models to file. The data and model objects are pre-built and loaded with the hmsc_setup.RData file and are derived from the [bird example](https://www2.helsinki.fi/en/researchgroups/statistical-ecology/hmsc) from their book. \n",
    "\n",
    "For the sequential version, I already set up it using future. You can check your future code by running in sequentially by using plan(sequential)."
   ]
  },
  {
   "cell_type": "markdown",
   "metadata": {},
   "source": [
    "### batchtools.torque.tmpl"
   ]
  },
  {
   "cell_type": "markdown",
   "metadata": {},
   "source": [
    "batchtools.torque.tmpl file needed in the same directory (or specify path  in order to run across nodes. You will need this file created prior to running future. "
   ]
  },
  {
   "cell_type": "raw",
   "metadata": {},
   "source": [
    "#!/bin/bash\n",
    "\n",
    "## Job name:\n",
    "#PBS -q default\n",
    "#PBS -l nodes=1:ppn=4\n",
    "#PBS -l walltime=24:00:00\n",
    "#PBS -N x_big_model_test_parallel_4_cores_4_chains\n",
    "#PBS -j oe\n",
    "#PBS -m ae\n",
    "\n",
    "\n",
    "start=`date +%s`\n",
    "\n",
    "cd $PBS_O_WORKDIR\n",
    "\n",
    "\n",
    "module load r-4.0.4-gcc-10.2.0-python3-dghog6f\n",
    "## Launch R and evaluated the batchtools R job\n",
    "Rscript -e 'batchtools::doJobCollection(\"<%= uri %>\")'\n",
    "\n",
    "end=`date +%s`\n",
    "\n",
    "runtime=$((end-start))\n",
    "\n",
    "echo \"Runtime was $runtime seconds\""
   ]
  },
  {
   "cell_type": "markdown",
   "metadata": {},
   "source": [
    "## Setup "
   ]
  },
  {
   "cell_type": "code",
   "execution_count": 12,
   "metadata": {},
   "outputs": [],
   "source": [
    "# bring in data for model\n",
    "load(\"hmsc_setup.RData\")\n",
    "\n",
    "# Setting up the model\n",
    "studyDesign = data.frame(Route = XData$Route)\n",
    "rL = HmscRandomLevel(sData=xy)\n",
    "XFormula = ~ hab + poly(clim,degree = 2,raw = TRUE)\n",
    "TrFormula = ~Migration + LogMass\n",
    "\n",
    "# parameters for bayesian models. \n",
    "nChains = 4\n",
    "nParallel = 4 \n",
    "samples = 10 # i\n"
   ]
  },
  {
   "cell_type": "code",
   "execution_count": 13,
   "metadata": {},
   "outputs": [
    {
     "name": "stderr",
     "output_type": "stream",
     "text": [
      "setting updater$Gamma2=FALSE due to specified phylogeny matrix\n",
      "setting updater$Gamma2=FALSE due to specified phylogeny matrix\n",
      "setting updater$Gamma2=FALSE due to specified phylogeny matrix\n",
      "setting updater$Gamma2=FALSE due to specified phylogeny matrix\n"
     ]
    },
    {
     "data": {
      "text/html": [
       "913.44"
      ],
      "text/latex": [
       "913.44"
      ],
      "text/markdown": [
       "913.44"
      ],
      "text/plain": [
       "[1] 913.44"
      ]
     },
     "metadata": {},
     "output_type": "display_data"
    }
   ],
   "source": [
    "# set up that it will submit pbs scripts for each model\n",
    "plan(sequential)\n",
    "\n",
    "\n",
    "m = Hmsc(Y=Y, XData = XData, XFormula=XFormula, \n",
    "         phyloTree = phyloTree, TrData = TrData, \n",
    "         TrFormula = TrFormula,\n",
    "         distr=\"probit\", studyDesign=studyDesign, \n",
    "         ranLevels=list(Route=rL))\n",
    "y <- list()\n",
    "t1 <- proc.time()\n",
    "# running 4 models, each with a different thinning value\n",
    "for (thin in c(2,3,4,5)){\n",
    "  y[[thin]] <- future({\n",
    "  transient = 50*thin\n",
    "  m = sampleMcmc(m, thin = thin, samples = samples, transient = transient,\n",
    "                 nChains = nChains, initPar = \"fixed effects\",\n",
    "                 nParallel = nParallel)\n",
    "                 \n",
    "  # write model outputs to file               \n",
    "  filename=file.path(paste0(\"Big_model_torque_chains_\",as.character(nChains),\"_samples_\",as.character(samples),\"_thin_\",as.character(thin)))\n",
    "  save(m,file=filename)\n",
    "  }, seed = TRUE)\n",
    "}\n",
    "# evaluate expression\n",
    "y <- value(y) \n",
    "\n",
    "t2 <- proc.time()\n",
    "time_Elapsed <- t2[[3]] - t1[[3]]\n",
    "round(time_Elapsed, 2)"
   ]
  },
  {
   "cell_type": "markdown",
   "metadata": {},
   "source": [
    "###  Rerunning bayesian models in parallel using future.batchtools package \n"
   ]
  },
  {
   "cell_type": "code",
   "execution_count": 14,
   "metadata": {},
   "outputs": [
    {
     "name": "stderr",
     "output_type": "stream",
     "text": [
      "setting updater$Gamma2=FALSE due to specified phylogeny matrix\n",
      "setting updater$Gamma2=FALSE due to specified phylogeny matrix\n",
      "setting updater$Gamma2=FALSE due to specified phylogeny matrix\n",
      "setting updater$Gamma2=FALSE due to specified phylogeny matrix\n"
     ]
    },
    {
     "data": {
      "text/html": [
       "375.84"
      ],
      "text/latex": [
       "375.84"
      ],
      "text/markdown": [
       "375.84"
      ],
      "text/plain": [
       "[1] 375.84"
      ]
     },
   "cell_type": "markdown",
   "metadata": {},
   "source": [
    "# set up that it will submit pbs scripts for each model\n",
    "# calls upon the batchtools.torque.tmpl file to set the parameters for each job\n",
    "# you can \n",
    "plan(batchtools_torque)\n",
    "\n",
    "m = Hmsc(Y=Y, XData = XData, XFormula=XFormula, \n",
    "         phyloTree = phyloTree, TrData = TrData, \n",
    "         TrFormula = TrFormula,\n",
    "         distr=\"probit\", studyDesign=studyDesign, \n",
    "         ranLevels=list(Route=rL))\n",
    "\n",
    "y <- list()\n",
    "t1 <- proc.time()\n",
    "# running 4 models, each with a different thinning value\n",
    "for (thin in c(2,3,4,5)){\n",
    "  y[[thin]] <- future({\n",
    "  transient = 50*thin\n",
    "  m = sampleMcmc(m, thin = thin, samples = samples, transient = transient,\n",
    "                 nChains = nChains, initPar = \"fixed effects\",\n",
    "                 nParallel = nParallel)\n",
    "                 \n",
    "  # write model outputs to file               \n",
    "  filename=file.path(paste0(\"Big_model_torque_chains_\",as.character(nChains),\"_samples_\",as.character(samples),\"_thin_\",as.character(thin)))\n",
    "  save(m,file=filename)\n",
    "  }, seed = TRUE)\n",
    "}\n",
    "# evaluate expression\n",
    "y <- value(y) \n",
    "\n",
    "t2 <- proc.time()\n",
    "time_Elapsed <- t2[[3]] - t1[[3]]\n",
    "round(time_Elapsed, 2)\n",
    "\n"
   ]
  },
  {
   "cell_type": "markdown",
   "metadata": {},
   "source": [
    "<a id=’section_4’></a>\n",
    "## Appendix: Testing speedup with Future"
   ]
  },
  {
   "cell_type": "markdown",
   "metadata": {},
   "source": [
    "For some circumstances, writing your code in parallel with future package can make it slower! To illustrate this problem, I created a function called speedup_calc that allows to play with the parameters and see what scenarios running the code in parallel. Essentially, it runs a for loop for different combinations of iterations, cores, and length of iterations (wait_time). Also you can see the cost of setting up the code with the \"evaluate\" argument. When it is done, it will generate two plots (unless evaluate == FALSE), a plot showing how long it took for each iteration and core combination to complete, and a plot showing the speedup when the number of cores is increased. \n",
    "\n",
    "Arguments:\n",
    "\\* iterations requires a value (total iterataions) or a vector. \n",
    "\n",
    "\\* cores requires numeric vector of cores you want to run. \n",
    "\n",
    "\\* wait_time requires a numeric value for how to wait for each iterative step. \n",
    "\n",
    "\\* evaluate requires a TRUE or FALSE. Allows you to turn off evaluation if you only want to measure setup time. It will also skip the speedup plot since setup time cannot be calculated for the serial version. \n"
   ]
  },
  {
   "cell_type": "markdown",
   "metadata": {},
   "source": [
    "speedup_calc function:"
   ]
  },
  {
   "cell_type": "code",
   "execution_count": 15,
   "metadata": {},
   "outputs": [],
   "source": [
    "speedup_calc <- \n",
    "    function(iterations, cores, wait_time, evaluate){\n",
    "        \n",
    "    try(if(cores[1] != 1) stop(\"Need to run the core as 1\"))\n",
    "\n",
    "    # set up arrays for storing for-loop data\n",
    "        times <- array(dim = c(length(iterations), length(cores)))\n",
    "        row.names(times) <- iterations\n",
    "        \n",
    "        \n",
    "       \n",
    "    # running the first set outside of the future loop. \n",
    "    # skips it if since there is no set up time for serial version. \n",
    "    if (evaluate == TRUE){    \n",
    "        \n",
    "        j <- 1\n",
    "        for (i in 1:length(iterations)){\n",
    "\n",
    "            current_step <- iterations[i]\n",
    "                    ### time point 1\n",
    "            t1 <- proc.time()\n",
    "            setup <- vector(mode = \"list\", length = length(iterations))\n",
    "\n",
    "                 for (k in 1:current_step){\n",
    "\n",
    "                        Sys.sleep(wait_time)\n",
    "                    }\n",
    "\n",
    "            \n",
    "            ### time point\n",
    "            t2 <- proc.time()\n",
    "\n",
    "            ## calculate difference in time and convert to minutes. Write to array\n",
    "            times[i, j] <- (t2[[3]] - t1[[3]]) \n",
    "\n",
    "                }\n",
    "\n",
    "\n",
    "    }\n",
    "        \n",
    "        # loop that first run through the number of cores\n",
    "        for (j in 2:length(cores)){\n",
    "\n",
    "            plan(multicore, workers = cores[j])\n",
    "            # figure out time it taakes for each iteration for j number of cores\n",
    "            for (i in 1:length(iterations)){\n",
    "\n",
    "                current_step <- iterations[i]\n",
    "                ### time point 1\n",
    "                t1 <- proc.time()\n",
    "                setup <- vector(mode = \"list\", length = length(iterations))\n",
    "\n",
    "                    for (k in 1:current_step){\n",
    "\n",
    "                        setup[[k]] <- future({Sys.sleep(wait_time)})\n",
    "                    }\n",
    "                \n",
    "                #  Allows you to run it without evaluating the code\n",
    "                if (evaluate == TRUE){evaluated <-  value(setup)}\n",
    "               \n",
    "                ### time point\n",
    "                t2 <- proc.time()\n",
    "\n",
    "                ## calculate difference in time and convert to minutes. Write to array\n",
    "                times[i, j] <- (t2[[3]] - t1[[3]]) \n",
    "            }\n",
    "\n",
    "            \n",
    "        }\n",
    "        \n",
    "        \n",
    "        ### clean and plot all of the data\n",
    "        options(repr.plot.width = 5, repr.plot.height = 2)  \n",
    "        # loop is finished so now cleanaing up data\n",
    "        times <- as.data.frame(times)\n",
    "        colnames(times) <- cores\n",
    "        times$iterations <- row.names(times)\n",
    "        \n",
    "        times$iterations <- factor(as.character(iterations), levels = iterations)\n",
    "        # plot time it takes for each core/iteratiaons combo\n",
    "   \n",
    "    if (evaluate == FALSE){\n",
    "        time_plot <- \n",
    "            times %>%\n",
    "            pivot_longer(cols = 1:length(cores), names_to = \"Cores\", values_to = \"Seconds\") %>%\n",
    "            filter(Cores != \"1\") %>%\n",
    "            ggplot(aes(x = iterations, y = Seconds, group =  Cores, color = Cores)) + \n",
    "            geom_line() + geom_point() + \n",
    "            ggtitle(\"Time Needed to Set Up Task\")\n",
    "        print(time_plot)\n",
    "        }\n",
    "        \n",
    "     \n",
    "        \n",
    "    if (evaluate == TRUE){   \n",
    "        \n",
    "         time_plot <- \n",
    "            times %>%\n",
    "            pivot_longer(cols = 1:length(cores), names_to = \"Cores\", values_to = \"Seconds\") %>%\n",
    "            ggplot(aes(x = iterations, y = Seconds, group =  Cores, color = Cores)) + \n",
    "            geom_line() + geom_point() + \n",
    "            ggtitle(\"Time Needed to Complete Task\")\n",
    "        print(time_plot)\n",
    "        \n",
    "        # speedup calcs\n",
    "        speedup_df <- 1/ (times[,1:length(cores)] /times[,1] )\n",
    "        speedup_df$iterations <- iterations\n",
    "\n",
    "    \n",
    "        speedup_plot <- \n",
    "            speedup_df %>%\n",
    "            pivot_longer(cols = 1:length(cores), names_to = \"Cores\", values_to = \"Speedup\") %>%\n",
    "            mutate(Cores = as.numeric(Cores)) %>%\n",
    "            ggplot(aes(x = Cores, y = Speedup, group =  iterations, color = iterations)) + \n",
    "            geom_line() + geom_point() + \n",
    "            ggtitle(\"Speedup Calculations\")\n",
    "\n",
    "        print(speedup_plot)\n",
    "        }\n",
    "        \n",
    "    }\n"
   ]
  },
  {
   "cell_type": "markdown",
   "metadata": {},
   "source": [
    "### Scenario 1 Cost of setup for many iterations \n",
    "This scenario plots how much time the setup takes. The cost for 100 iterations or more can be timely. "
   ]
  },
  {
   "cell_type": "code",
   "execution_count": 16,
   "metadata": {},
   "outputs": [
    {
     "data": {
      "image/png": "iVBORw0KGgoAAAANSUhEUgAAAlgAAADwCAIAAABT1I0hAAAACXBIWXMAABJ0AAASdAHeZh94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\nXYEvEAEAAAAASUVORK5CYII=",
      "text/plain": [
       "plot without title"
      ]
     },
     "metadata": {},
     "output_type": "display_data"
    }
   ],
   "source": [
    "speedup_calc(iterations = seq(from = 20, 100, by = 20), cores = c(1,2, 4, 8), wait_time = .25, evaluate = FALSE)"
   ]
  },
  {
   "cell_type": "markdown",
   "metadata": {},
   "source": [
    "## Scenario 2 running previous example\n",
    "Given the cost due to the setup time, parallelization offer very little improvement. "
   ]
  },
  {
   "cell_type": "code",
   "execution_count": 17,
   "metadata": {},
   "outputs": [
    {
     "data": {
      "image/png": "iVBORw0KGgoAAAANSUhEUgAAAlgAAADwCAIAAABT1I0hAAAACXBIWXMAABJ0AAASdAHeZh94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\n",
      "text/plain": [
       "plot without title"
      ]
     },
     "metadata": {},
     "output_type": "display_data"
    },
    {
     "data": {
      "image/png": "iVBORw0KGgoAAAANSUhEUgAAAlgAAADwCAIAAABT1I0hAAAACXBIWXMAABJ0AAASdAHeZh94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\nAJn2/wGSziHmTSpzBQAAAABJRU5ErkJggg==",
      "text/plain": [
       "plot without title"
      ]
     },
     "metadata": {},
     "output_type": "display_data"
    }
   ],
   "source": [
    "speedup_calc(iterations = seq(from = 20, 100, by = 20), cores = c(1,2, 4, 6, 8), wait_time = .25, evaluate = TRUE)"
   ]
  },
  {
   "cell_type": "markdown",
   "metadata": {},
   "source": [
    "### Scenario 2 Moderate speedup with a slower iteration\n",
    "When you incease the wait_time to 1 second, the increase in cores does provide a benefit. "
   ]
  },
  {
   "cell_type": "code",
   "execution_count": 18,
   "metadata": {},
   "outputs": [
    {
     "data": {
      "image/png": "iVBORw0KGgoAAAANSUhEUgAAAlgAAADwCAIAAABT1I0hAAAACXBIWXMAABJ0AAASdAHeZh94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\nnPY32Ga2lpyTXawAAAAASUVORK5CYII=",
      "text/plain": [
       "plot without title"
      ]
     },
     "metadata": {},
     "output_type": "display_data"
    },
    {
     "data": {
      "image/png": "iVBORw0KGgoAAAANSUhEUgAAAlgAAADwCAIAAABT1I0hAAAACXBIWXMAABJ0AAASdAHeZh94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\nIQQAAFZDIQQAAFZDIQQAAFb7H57AXOy5gSIOAAAAAElFTkSuQmCC",
      "text/plain": [
       "plot without title"
      ]
     },
     "metadata": {},
     "output_type": "display_data"
    }
   ],
   "source": [
    "speedup_calc(iterations = seq(from = 100, 300, by = 100), cores = c(1,2,4,6, 8), wait_time = 1, evaluate = TRUE)\n"
   ]
  },
  {
   "cell_type": "markdown",
   "metadata": {},
   "source": [
    "### Scenario 3 Best scenario for speedup\n",
    "The best case for future will be running the code with few iterations but very slow functions. "
   ]
  },
  {
   "cell_type": "code",
   "execution_count": 19,
   "metadata": {},
   "outputs": [
    {
     "data": {
      "image/png": "iVBORw0KGgoAAAANSUhEUgAAAlgAAADwCAIAAABT1I0hAAAACXBIWXMAABJ0AAASdAHeZh94\nAAAgAElEQVR4nOzdd3gU1doA8PdM2ZZtSSAVCC2EhEBCEYRLEQ1NsVByJRQV8cqnWJAi14qi\nF+9VREEughUBURADlisWLIgUpdeQQEIJJCRAsi3bppzvjwnLstlsNmQ3m2TP7+Hh2TkzO3N2\nM7vvzpn3nIMwxkAQBEEQ4YoKdQUIgiAIIpRIICQIgiDCGgmEBEEQRFgjgZAgCIIIayQQEgRB\nEGGNBEKCIAgirJFASBAEQYQ1EggJgiCIsNbsA6HBYED+eemll1q1aoUQslgsoa51ta5du0p1\nW79+fc21mZmZCKFvv/228SvG8zxCSKFQNPF93phvv/128uTJnTp1UqvVSqUyKSlp3Lhx69at\nczqdoa5arZrUqVuvD10Dj4UQYhgmELUmiFo1+zOMYZh+/fq5l1y6dKmoqEilUnXv3t29vE2b\nNo1btXp44YUXxo0bRz7wErVaXVVVZbPZAh41L168mJ2d/ccffwBAZGRkamqqXC6/cOFCbm5u\nbm7uCy+8sGPHjri4uMAeNOQC/n62jA8dQbg0+29etVq9e/du95JVq1ZNnTo1OTnZoxwABEGw\n2WxyubwRK1g3lUp18uTJDz/8cPr06aGuS0tWUVHxt7/9raioqGvXrosXLx4xYgRFVbeInD59\neunSpcuXL798+XLLC4QBV68PHUE0fc2+abRepk+fPnPmTJZlQ12R6zzxxBMAsGDBApvNFuq6\ntGSPPvpoUVFRWlrarl27Ro0a5YqCANChQ4e33nprx44dkZGRIawhQRAhEV6BsOaNFtcdiI8/\n/rh3794RERGxsbFTp04tLy8HAKfT+a9//atr165KpTIxMXHu3LkOh8Njn2azeeHChb1799Zq\ntUqlslu3bi+99JLZbPa/VrfddltWVlZJScnSpUvr3Nj/w/m/5YEDB+6+++6oqKiIiIhevXp9\n8MEHDT+6//t0t2LFCoRQVVUVACiVStetposXL7q2OX369PTp0zt06CCXyyMjI4cOHbpu3bo6\n91xQUPDFF18AwLvvvqvX671u06dPn8TExHodqIHnj/R0jPHKlSt79uypUqmio6PHjh175MgR\nf96uOv8c/ryfDT+Bvdq+ffvMmTN79erVunVrmUyWmJh477337t2712Ozs2fPPv7446mpqWq1\nWqPRtG/f/s477/T9B3U4HDk5OQihgQMHVlRUNLCeBAEAgFucjz/+GAAyMjJqroqOjgYAs9ns\nKgEAmqbnzZtHUVSPHj2GDRsWFRUFAN26dTObzbfccotCoejXr9+QIUOk+ysTJkxw3+Hp06eT\nk5MBIDo6+rbbbrv99ttjYmIAID09/cqVK3VWNSUlBQB++umnPXv2AEBkZGRlZaVrbUZGBgB8\n8803N3A4/7f88ccfpbbijIyMKVOmDB06lKIo6SJVLpcHe58e9uzZM3/+fOmS/bnnnpt/letP\n9vvvv2u1WgBo3779+PHjb7nlFikOTZkyRRRFH3tetGgRAHTq1MnHNu78PFADzx/p6TNmzKBp\n+rbbbps8eXJ6ejoAKJXK3377zX3LmqeuP3+OOt/PBp7ALjU/dL1796ZpOj09fdSoUXfddVeX\nLl0AgGXZzZs3u7Y5ceKETqcDgK5du2ZnZ0+YMGHgwIFqtXrIkCEeb5FrsaKiYvDgwQAwfvx4\nm83mfw0JwgcSCAEAWrVqtX37dqnk0qVLXbt2lb4LunfvXlhYKJUfOnRIqVQCwJEjR6QSQRB6\n9eoFAI888ojFYpEKLRbLvffeCwCTJ0+us6quQIgxHjduHAD885//dK31CIT+H87/LU0mU2xs\nLAAsXrzYVfjLL79I39ruQSsY+6xNREQEANT8mrNYLNINvNmzZ/M8LxXu27dP+rOuWLHCxz5z\ncnIAICcnp86j1+tADTl/XE9Xq9U7d+50Fb7yyisAkJiYaLVaXYUep269zr3a3s+Gn8AuNT90\nGzZsKCkpcd9m3bp1FEXFxMS4avLII48AwDPPPOO+mdVq3bVrl/tb5AqEp0+fTk1NBYCZM2cK\nguB/9QjCNxIIAQDeffdd982WLVsmle/Zs8e9/L777gOAJUuWSIu5ubkA0LdvX4/PpNlsbt26\nNU3Tdf6mdg+EJ06coGlapVK5vj48AqH/h/N/y/feew8A+vTp41Gxxx9/3CNoBWOftanti1va\nc+fOnV3BSbJkyRKp3Mc+s7KyAODJJ5+s8+j1OlBDzh/X091//WCMRVGUvu5XrVrlKvQ4det1\n7tX2fjb8BHbx8aFzJ/3a++GHH6TFsWPHAsCvv/7q4ymuQLh37964uDiKot566y0/a0UQfgqv\ne4S1GT16tPui1IwTGxvbp08f93IpbpWUlEiL3333HQCMHTvWPe0CANRqdb9+/QRB2Ldvn/91\nSElJeeCBB6xW64IFC7xu4P/h/N9y27ZtADBp0iSPY02ZMuWGj+7/PutL2vOUKVNomnYvf/DB\nBwHg1KlTFy5c8L0HhFAwDnRj54+Lx3uFEJo4cSIA/Pbbb7XVMCDnXmBP4JqcTucvv/yybNmy\nV1999aWXXnrppZekW6f5+fnSBn379gWAJ5988ttvv/WdKfa///1vyJAhBoNhw4YNM2fObEit\nCKImEgiBoij3FAkA0Gg0ANCuXTuPLaWbRna7XVosKioCgH/+8581+xFLveCvXLlSr5q89NJL\nCoXiww8/LCwsrLnW/8P5v+X58+cBoEOHDh7HqlkSjH3WlxR+Onbs6FGuVqulxlgfgbB169YA\nUFZWFvAD3fD541LznWnfvj1cfSe9Csi5F/AT2N0XX3zRtm3b22677fHHH3/hhRdefvnll19+\nefv27QBgMpmkbWbOnDlixIjDhw/feeedOp2uV69es2fPPnjwoMeuBEG4++67q6qqPv30U+ma\nkiACq9n3I2w46ZNfs9zjZ3JNgiAAwPjx47t16+Z1g7S0tHrVpE2bNjNmzHjzzTeff/75zz77\n7IYPV9+K+XOdFIx91hfGuLY946vNjLXp3bv3Z5999tdffwX8QDd8/tTJx3sYkHMv4Cewy759\n+yZMmCCXy5ctWzZ8+PDExEQpZ/XZZ5997bXXXO+hXC7//vvv//zzz++++27Hjh27d+8+cODA\n4sWLX3jhBfd2EZqmJ02atHr16meffbZfv34ePzsIouFIILxxbdu2BQAp3TxQ+3z22Wc/+OCD\n9evXz5s374YP5/+W0nfK6dOnPcrPnDnTCPusL2mYkpqXy1VVVVKbm4+vyNGjR8+dO7ewsPD3\n33+X0g6DdKAbcObMGY9QdPbsWQBISEio7SkBOfeCcQJL1qxZI4ri888/P2PGDPfykydP1ty4\nX79+0jg1Tqdz48aNDz744Kuvvnrvvfe6vyerVq1SqVQrVqwYPHjwzz//LF0xE0SgkKbRGzdq\n1CgA+OyzzwLYET4qKmrOnDkY42efffaGD+f/lkOGDAGAmt221q5d2wj7rI1MJgMAnue97nnt\n2rXSpYzLqlWrAKBz584+4lNKSsr48eMB4JFHHjEajV632bt3r9Tm2ZAD3QCP9wpjLLUH3HLL\nLbU9pV7nXm3vZzBOYIn0cyEpKcm98NKlS1u3bvVdz4kTJw4bNgxjfPjwYfdVCKF333131qxZ\nRUVFgwcP9hpQCeLGhS5PJ1huoB+hx2a7du0CgH79+nmUv/POO+CWechxnDSy4pgxY0pLS923\nPHnypHvngdq4Z426WCwW6UaUSqUCt6xR/w/n/5ZGo1G6eeaeyrht2zYp0d89wzMY+6yNdKDd\nu3d7lLt6NcybN8+V6Hj48GHpcL67T2CML1++LF1JpKambtmyxT1VsqioaObMmTKZTOrb4P+B\nGnL+4KsthBqNxv3FLly4EADi4+OrqqpchR6nbr3Ovdrez4afwC4eH7oXX3wRAG699Va73S6V\nmM3mO+64Q3q9r7zyilS4fPnygoIC9/2UlpZK18Gu/iQe7/Dzzz8PAHFxcUePHvW/egThGwmE\nDfoic3VsUqlU/fv3v/fee4cNG+ZKGqyzql4DoetAEo8O9X4ezv8tt2zZIl0xZGZmTpky5dZb\nb6UoymtXh2Ds0yvpazQyMjI7O3vatGnTpk0zGo3Sqt9//11KRencufOECROGDRsm9Ravs0O9\n5MKFC/3795fe2MjIyL59+w4cONCVq5KcnOyKB34eqOGB0NWhPisra8qUKVJkUigUP//8s/tz\nvXao9/PP4eP9bOAJ7OLxoSspKZF+NCQmJv79738fN25cdHR0XFzc1KlT3QOh1EEoOTl57Nix\n999//6hRo6Qff+7DDtR8h6UfCq1atTpw4ID/NSQIH0ggbNAXGcbYarUuWbJk0KBBkZGRLMvG\nx8f36dNnzpw5O3bsqLOqtQVCp9Pp+nZ2D4T1Opz/W+7du3f06NF6vV6pVGZkZLz77rscx3kN\nWsHYZ00Oh+OZZ55JTk6WoikAuF+vFBYW/uMf/0hKSmJZVqfTDRkyZO3atf5EQYkoil999VVO\nTk6HDh1UKpVcLm/Xrt24ceM+//xzp9PpvqU/BwpIIBRFcdmyZT169FAqlZGRkXfffffBgwc9\nnlvz1MV+/zl8v58NOYFdan7oiouL77///qSkJOkdfvjhh0tKSubPn+8eCL/55pv/+7//y8zM\nlIZha9eu3fDhw7/44gv3i3Wv7/CSJUsQQnq9vuZlLkHcAITrSrcjCCJIEEI0Tde8e0cQRGMi\nyTIEQRBEWCOBkCAIgghrJBASBEEQYY3cIyQIgiDCGrkiJAiCIMIaCYQEQRBEPTidzvfff3/Y\nsGFSv5dWrVplZWWtWLGi5oDyzQVpGiUIgiD8df78+TvvvPPgwYPJyckjR46Mj483mUy7d+/e\ntm3b0KFDf/7551BX8EaQQbcJgiAIv3AcJ0XBhQsXzps3z32KlePHjy9fvvyG92y1WqVxhUKC\nNI0SBEEQflm9evXBgwcnTZr0zDPPeEw0lpaWtmzZMteiwWCYPXt2hw4d5HJ5bGzspEmTTp06\n5Vq7ceNGhNCGDRtefvllacwj18RbPM8vXrw4MzNTqVRqNJpbbrnlxx9/dD2R5/nXX3+9e/fu\nGo1Go9EkJyc/8MADZrO5ga+LXBESBEEQfvniiy8AQBo32IeqqqrBgwcfOXJk0qRJAwYMOHny\n5Lvvvrtly5Zdu3ZJ40pK5s2bl5iYuHDhwri4OGksX0EQ7rrrrh9++CE7O/uhhx6y2+1r164d\nOXLkp59+mpOTAwDPPPPMokWLJk6c+MQTT1AUdfbs2W+//dZkMkkjA9+4EA/xRhAEQTQTCQkJ\nCCGO43xv9vLLLwPAv/71L1fJDz/8AAAjRoyQFqWA2qVLF49d/fe//wWAjz76yFXidDp79eoV\nGxsrbdmhQ4ehQ4cG7PVcRZpGCYIgCL+YTCaVSsUwdTQlfvnll2q1etasWa6S4cOH9+/f/6ef\nfjKZTK7CqVOneuxq9erVMTExOTk59qsEQcjJySkrKzt06BAA6PX6vLy8PXv2BPRlkXuEBEEQ\nhH+0Wq3Vaq1zmPiioqJOnTopFAr3wu7du4uieObMGVeJa44dl7y8vPLycuX15s6dC1dne160\naBHHcX379k1KSpo0adLHH39stVob/rpawj3CqqqqsBq/n6ZphULBcZzT6Qx1XYhr5HI5wzA2\nm00UxVDXhbhGpVJhjG02W6gr0qh0Ol0wdtu9e/eSkpL9+/f37dvXx2YYY4RQnXuTy+UeJaIo\nJicnr169uubGXbt2BYBbb7319OnT33///a+//rpt27Z169bNnz9/165diYmJ9XkdnlpCIOR5\nXprrLnwwDMNxXLi96iZOCoSCIITVz7Kmj2EYURTJhyUgsrOzf/jhh2XLlnmNVS6dOnU6deqU\n3W53vyg8evQoRVHt27f38cQuXbocPXo0PT1drVbXto1Go8nOzs7OzgaAzz//PCcnZ+nSpf/5\nz3/q/WLckKZRgiAIwi9TpkzJzMxcs2bNokWL8PWDseTn58+cOVN6PHbsWIvF8vbbb7vWbt26\ndefOnVlZWVqt1sf+77vvPqfTOWfOHI+dl5SUSA8qKircy2+++eaahTegJVwREgRB1IQcDnbv\nbv7SRYwoWUIbrldfTNOhrlTzJpPJvvnmm9GjR8+dO/ejjz4aNWpUXFycyWT6888/f/7551tu\nuUXabM6cORs3bnzmmWeOHTvm6j4RGRm5ZMkS3/ufMWPG1q1bV65ceeDAgbvvvrt169bFxcW7\ndu06dOiQdI8wISFh9OjRvXv3TkxMLC8v/+CDD2ianjJlSgNfV0sYYs1oNIZVuwfLsjqdzmaz\nVVVVhbouxDVqtVqhUBgMBtI02hQgu121+j3KaHCViAmJVRMegPCIha1atQrezh0OxyeffLJ+\n/fpDhw4ZjUaNRpORkTF+/PgHH3xQqVRK2xgMhgULFuTm5paUlOj1+qysrAULFnTu3Flau3Hj\nxuzs7E2bNt1zzz0eOxdF8f3331+1atXRo0d5no+Li8vMzBw3btzkyZMB4Lnnnvvtt98KCgqM\nRmNMTMxNN9309NNP9+/fv4GviATC5ocEwqaJBMImRbF1C3vAM8neMfg2Z7+/haQ+jSyogbDl\naQlNo3R4/MRzkXreUBQljcVANBHSiFMMw/iTL0cEG3PudM1C9txpPPCWRq8L0dS1hEDIMEyd\nHTxbEukLl6bpmsnHRAhJP8hYlg2rs7EpEgQ4eQJ5G3+SQoh8aoiaWsIn1uFwhFvTqEwm4ziO\nNI02KWq1mqZpm81GmkZDhS4rZY4eYvOOIpv3TtaO+DZOi6WRaxUSHp3ZCd9aQiAkCCKcUVcu\nMyeOsccPU4ZKAMBKJZfRi+/URfHDt6jqWtgTW7Xm+g0IXTWJposEQoIgmiVkMbP5x5n84/SF\nYgDANMN36sJ368F1TpFSQ6vuf1i+a7usrAQjytkmydlvAGbIbXXCCxIICYJoTpDDTp/MZwvy\nmNOnQBQBISGxLdctg09NxzKZ+5Y4Qm3PGhURHS2KormyMlQVJpo+EggJgmgORJE+d0Z2/DBd\nkIc4DqSmzrQeXHoGjqh1OC6C8AcJhARBNGnVKTAnjiFrFQBgrc7ZK51LzxSjokNdNaKFIIGQ\nIIimyDMFRqHkMnpx3TKEhDZAemoSAUUCIUEQTUidKTAEEXAkEBIEEXqI55jCk8yxw3WmwBCh\nYvY2RkHDaTSaYOy2XkggJAgidEgKDNEENFIgPHHixDPPPIMx3rx5s6tw7969a9asOX/+vE6n\ny8rKysnJcQ3S6GMVQRAtAEmBIZqOxgiEJpPpjTfe6Nmz5/79+12F+fn5r7766qhRo2bNmlVY\nWLh8+XJRFKWJNnysIgiiWbuaAnOEMlQAAFYo+W49nGk9hKQOJAWGCJWgB0KM8ZtvvpmVlaVQ\nKNwDYW5ubmJi4vTp0wEgKSmptLT0q6++ys7OlsvlPlYFu7YEQQQDSYEhmjIq2Af4/PPPeZ6f\nMGGCR3leXl6vXr1ci7169bLb7UVFRb5XEQTRjCCeZ/OPK3M/V69cIv/lB7rkvJDY1j58dNVj\nc2xjJ3ApaSQKEk1BcK8IDx069P3337/99tsed/gwxgaDITIy0lUiPa6oqPCxylVSUFCwceNG\n12J2dnbbtm2D9yqaGmkaJpZl1WqSTdCESNNDKpXKFjDZdUOJIpwuRIf2Qd5RcDoBAGJiIaM3\nzuxNqTVygMZs20EIURRFPiyED0EMhJWVlW+++ebMmTPdo1pAXLhwITc317WYlZWVnJwc2EM0\nfeE2C2NzEeYN+PhCsbDvL/HQfmwxAwDSR1IDBtN9+qHWsSGsFUKITEtE+BDEb9LTp08bDIYF\nCxZIixhjjPE999zz97//feLEiXq9vtJtGFzpcVRUFEKotlWukj59+qxZs8a1GB0dbTAYgvdC\nmhqGYdRqtd1ut9vtoa4LcY1KpZLJZGazWRCEUNelsVEVl6ljR5hjh1HlFQDACqWYnsGnZ4rt\nO1anwITuE6rT6URRDFIfuCZLr9eHugrNSRADYVpa2jvvvONa/Pnnn7/++uslS5ZIf6HU1NT9\n+/dPmzZNWrt//36FQtGxY0ffqyQajSY1NdW1aDQaw2piXqmdGWNMJoBtUkRRBABBEMLo72Kz\nsgUn2GOHak2BaTK/CcLoj9Ky/Pnnn//5z38OHDhw5syZadOmffDBB8E4ShADoUKhSEpKci1K\nDaSukrFjx86bN2/lypUjR44sKiratGnTPffcIzUr+VhFEETIIZ5nCgu8jALTtRsmn9PwRp04\nRhWdxE4nJLYTevaGBk8AWVVV1blz5/Hjx8+fPz8gNfQqZDeZUlJSnnvuubVr1/7www86nW7M\nmDETJ06scxVBECFzbRSYE4hzAhkFhrgevWkDfexQ9cLRQ9TeXfzUR3DD7s7eeuutt956KwC8\n/vrrDa9hbRovEI4ZM2bMmDHuJTfddNNNN93kdWMfqwiCaGReRoHpnsl37ynEhDIFhmhSqGOH\nr0VBAABAVy7TW7fwo8fU9pSmg6QdEgThHVVxmck7xuYdoSrJKDBENarwJP3nH15WlJd52fjI\nQdbkJU9KbNdBGHhLoKt240ggJAjieq4UmJLzgDEZBYa4jtmIik75u7HAe90YKVWBrFKDkUBI\nEASA1xSYhDYkBYbwIGb2cWb2qVlO79xG//KjRyHu2JmbOLVR6tUgJBASRHgjKTBEIIh9B1CH\nD6DLl1wlmGH5rFEhrJL/SCAkiDBFUmCIAMIMy015iNn2MyosQE6n2KadMCQLx8Q1cLc2my0/\nP196UFFRcfDgQYRQRkZGIKp8DQmEBBFeKJORyTvKHjlAUmCIAItQ87ffHdhd5ufn9+zZU3pc\nUFCwadMmmqYDPjwCCYQEER5ICgzRDGVmZjbCKPYkEBJES3YtBeZMIQgCSYEhiJr8CoRms9lk\nMiUmJkqLFy5cWLp0aUVFxZQpUwYPHhzM6hEEcUO8psB0SeO7Z4paXagrRxBNi1+B8NFHHz1x\n4sSePXsAwGq19u/fv7i4GAA+/vjj7du39+/fP7h1JAjCb7WkwGQKDU5bIIiWyq9AuGPHjgce\neEB6vH79+uLi4s8+++zmm28eOXLkG2+84T41YEioVCpprtowIc0+oVAoZDJZqOtCXCOdhFqt\nNiQT8+LKCnz4AN73J5by15VKqmcf1PMm1CmZDe8UGIQQTdMBnxWVaEn8CoRlZWWuKeB/+umn\ntLS0CRMmAMC0adOWLl0axNr5x2q1htU0TCzL6nQ6u91eVVUV6roQ16jVaoVCYTKZGnPGH2Sz\nMQV57ikwgkcKTDhN1elVdHS0KIruU5yGg1atWoW6Cs2JX4EQIeSaa3THjh133HGH9DgmJqa8\nvDxYVSMIohZeU2D4lDRnWndoYoNXEUTT51cgTEpK+u233x566KE9e/acO3du6NChUvmFCxfc\nJ44nCCK4SAoMQQSBX4Fw8uTJzz77bElJSV5eXnR09MiRI6Xyffv2JScnB7N6BEEAAFCXy9nj\nR9gjB6tTYDRakgJDEIHiVyCcO3fulStXcnNz4+PjFy1apNFoAKCiouLbb799+umng1xDgghf\nyGhgTxxjjxykKq8AAFYoyCgwBBFwKCQZboFlNBrDMFnGZrORZJkmRUqWMRgMDU+WqZECQwvt\nO5FRYG4MSZYJFLPZHPB9AoB0ZRVaZGQZgmgqSAoMQYQECYQEEWq1pcCkZ4g6fagrRxAtX62B\nUKFQ+LkLu90eoMoQRHipToE5eghVWcCVApOeIcTGh7pqBBFGag2Eo0ePdl88fvx4Xl5eYmJi\nSkoKQujEiRMXLlxITU1NS0sLfiUJokUhKTAE0aTUGgg3btzoerxz584RI0Z89NFH999/vzSO\nlCiKH3300cyZMz/44IPGqCZBNH81U2D4Tl24LqlC1zTMsKGuHUGEL7+yRgcPHtyjR49ly5Z5\nlD/66KPHjh3btm1bbU/cvn37119/feHCBYfDER0dPWjQoAkTJrBs9Wd+7969a9asOX/+vE6n\ny8rKysnJQVd/DvtYVRPJGiVCTxA0VgvLOc0KFaeKcF9TWwoMl9YDK5Whqm/4IFmjgRLuWaP7\n9u2bMmVKzfKePXt+8sknPp5I03RWVlZCQoJMJjt16tQnn3xiMplmzJgBAPn5+a+++uqoUaNm\nzZpVWFi4fPlyURQnT57sexVBNEH0xRLF/zZDxWUOQAFAd+9pH3Y7IESXXmCPHWLyjiInSYEh\niKbLr0Aok8kOHDhQs3zfvn1yn3N7DhgwwPU4JSXl7Nmzhw8flhZzc3MTExOnT58OAElJSaWl\npV999VV2drZcLvexyv8XRhCNxGZVbl6P3H4ss0cOUJfLKJPpWgpMOkmBIYimy69AOHr06JUr\nV2ZmZj744IMMwwAAz/MffPDB+++/7+eFmiiKZ86cOXjwYM+ePaWSvLy8IUOGuDbo1avX+vXr\ni4qKUlNTfaySSioqKk6dOuXaoG3btipVGPWykv4EFEW5GpmJEKIPn0A1mozo0hKsUAiZfYTu\nGWKbJECIAgijqcKaGIQQ+bA0Ux999NG6desOHz5stVqTk5Mfe+yxadOmBfwofgXCN954488/\n/5w+ffpzzz2XnJyMMT558uSVK1dSUlJef/1138/lOC47OxtjjDEePnz4ww8/DAAYY4PB4D5D\nmPS4oqLCxypXyaFDh+bOnetaXL58ed++ff16uS2IXC4nl8hNAW82C97K5Y/PRa1aN3ZtCG8Q\nQjodGZQ86AShquDkm2XlW0XBpo/s3bXLP1Wq9g3c5+rVqwcNGvTUU0/pdLovv/zyoYce4jju\n//7v/wJR32v8CoRxcXH79u1bvHhxbm6u1LbZqVOnJ554YtasWWq1uo4DMMySJUs4jjt58uTa\ntWu1Wu19993XwEp36tTp8ccfdy22bt06rNJGaJpWKBQcxzmdzlDXJYw5nSj/OHX0IDpV4GUt\nw1pZFsLptGyyVCoVxthms4W6Io0qIiKi7o0CShSdf+y43WCsvolmtuSXln5zy8hCfiMAACAA\nSURBVJA/IlQdGrLb3377zfV44MCBBw8e/OKLL0ITCAFAo9HMnz9//vz59T0AQigpKQkAOnfu\nTFHU8uXLx44dq1ar9Xq9ex6X9DgqKgohVNsqV0m7du3uv/9+16LRaAyrs5xlWYVCwfN8WL3q\npkIUPVNgoqMpsxmu/1HizOjl4HjgGm+GXqI2JBA2jjNnPnBFQQnPm48cefrmfl8E8Ch2u719\n+/YB3KGkUYdY43keYywNSZyamrp//35Xa+/+/fsVCkXHjh19ryKIUPEyCszVFBj6QrHif5so\nY/Vc8Fxad+eQ20JaWYIIlvMX1h8+MrdmOS94af8ov/Tjd9+3q1meEH9XZoZnf7w6ffTRR/v2\n7Vu6dGl9n1in+gVCURTNZrNH10O9vtZc8Pfee69Lly6xsbGiKBYUFHz++ed9+vSRth87duy8\nefNWrlw5cuTIoqKiTZs23XPPPdJNLx+rCKKRIZORzTvKHj1IVVwbBYZLSeM7dAaqOv1FSGxr\nnTYjwlgp45xmlZrTaENaZYIIIppWe73zZ7We5cSanTVprxvL5fW+fb5+/foZM2Z88sknN910\nU32fWye/OtSLorhy5cqlS5cWFRXVvC/lYw+rV6/+888/y8vLKYqKiYkZMmTInXfe6Qppe/bs\nWbt2bXFxsdRrfuLEia5e8z5W1UQ61BMB53UiJN+jwARwGiYigEiH+kDx3aH+XPHaAwcf9ShM\nTMzu0+tD37v1p0P9ihUrZs2atW7dunvuuafOjW+AX4FwwYIF8+fPT05O7t27d83kqxUrVgSj\nZv4jgZAIFCTw9Jki5thh9lR+fUeBIYGwaSKBMFB8B0KMxd1/ZZeX/+QqUSoThgz6XS6P8b3b\nOgPhggUL3njjjU2bNmVlZflf23rxq2n0/fffnzZt2nvvvUdRpCsU0RJhTJecJ6PAEMQNQ4i6\nue+Gc+fWlF/6mePN0VH9OnZ4lGUb2mtl5syZ//3vf995551WrVodPHgQAORyuatPeaD4dUUo\nk8m2b9/er1+/wB47UMgVIXHDaqTAaLjk1BsbBYZcETZN5IowUEIy1mirVq2uXLniXtKpUyf3\nAVUCwq8rwnbt2hmNxsAemCBCyJ8UGIIgQu7y5cuNcBS/AuGDDz64dOnSYcOG+chYIYimj0yE\nRBBETX4Fwi5dunz44Yc333zzpEmT2rZt6xEOg5TGQxCB0pAUGIIgWjy/AmF2djYAFBUV/fXX\nXzXX+nOXkSBCgKTAEAThB78C4RdfBHKMHIIItpopMGQiJIIgauNXIBw/fnyw60EQDeeZAiMn\nKTAEQdStfkOsmUymM2fOAED79u21WjKOFNEkkBQYgiAawt9AeOLEiSeffHLr1q2iKAIARVHD\nhg1bsmRJSkpKMKvnF4VCEVYT80rJSnK5XJqhN3zxHBSeFA/shbyjUgoMatceuvVAGb3piAhZ\no1eHpmkAUKvV5K55k4IQoiiKzEdI+OBXh/pTp0717du3srKyf//+3bt3B4CjR4/u3LkzMjLy\nr7/+6ty5c/Dr6YvZbBYEr3OjtkwMw6jVarvdbrfbQ12XUMCYulDMHD1IHTvsSoERuqYL3TOx\nPrLOZwePSqWSyWThdjY2fTqdTpotINQVaVQ+5kK4YSHpUN84/LqkePHFF61W6w8//DB8+HBX\n4Y8//njXXXfNnz//008/DVr1/CKKYliN5SFdEbomtAofdafAhPQNkRpLBEEIt79Ls0D+KIQP\nfgXCrVu3Pvroo+5REACGDx/+yCOPrFu3LjgVI4hqJAWGIIig8isQGgyG5OTkmuXJyckGgyHQ\nVSIIAJICQwQCz5vKy48hxGLchqbDKJOAqBe/AmFCQsLOnTsfeeQRj/KdO3cmJCQEoVZE+CKj\nwBCBcvbc+wUn/yUIVQAgY6NTU1+LjxsT6koRTZFfgXDs2LFvvfVWt27dZs6cqVAoAMButy9e\nvPjTTz+dNWtWkGtIhAcyCgwRUGXlW/JOPOtadHJXjhx9XKVsr9P1DGGtiKbJr6xRg8EwaNCg\no0ePqtXqzp07Y4wLCwstFkv37t1///33YKQn1QuZhqlZC+BESKFFpmFqUv7cc2dl5W6PwoT4\n8T26vxuS+jSyFjMNU+Pw64pQr9fv3r170aJFubm5J0+eRAh17Nhx3Lhxs2fPjoiICHYViRaJ\npMAQASeKziprkcl0qKqqwGg6VHMDq+1c49eKaPr8uiJs4sgVYTOC7DYm/7oUGKF9p5aRAkOu\nCBsZxqLNdtZsOWY2H7dY8kymozb7OYxFH0+JjxuT0eO9RqthCJErwnoJ76FJiMZCUmCIhuN5\nk9mSZ7HkWywnjKZDZvMxKRFGwjAajaa7Rp2i1WZERKTY7eeOHvPMYGjXblrjVploHvztUJ+b\nm3vkyBH3mQhFUUxPT7/33nvnz58ftOoRzRxJgSFuFMa8pepUVVWBFPYslnyb7RxAdQsWQrRC\n0Uat/ptOm6FWd42I6KKO6ILQdY3qDselwsI3RewEAIbRdE1ZEKnvF4JXQjR5fgXCTZs2jRgx\nwmM+Xmm40dzcXB+BcOvWrdu2bTtz5ozD4UhISLjjjjuGDRvmWrt37941a9acP39ep9NlZWXl\n5OS4DuFjFdEseB8Fpms3IbFtqKtGNFEcZ7BU5ZtMhyyWfLPlhMl0WBSvDSLIsnq9/iYp7KnV\nKVpND5quoy2hU8dZbdpMFsVTCLE01ZllQzkCX/hwigIHYgQV4DsdO3fuHDJkSJBG1PIrEJ4+\nfdprh/quXbuuWrXKxxN/+eWXbt263X333SqVaufOne+88w7P86NGjQKA/Pz8V199ddSoUbNm\nzSosLFy+fLkoipMnT/a9imjiSAoM4Sf3xBaz5YTReMDpvORaS1GsStVRHZGiVqdotRkadVel\nMukGjiKXxURHp4qiWFlZGbi6E94V2CueLv55u7mYw0KqstUriUOG6zoGZM+XL1/OyckZMWLE\n999/H5AdevArEIqiaDKZapabTCbfWSoLFy50PU5LSzt9+vSOHTukQJibm5uYmDh9+nQASEpK\nKi0t/eqrr7Kzs+VyuY9V9XptRKNBdht9qkCWd4Q+e5qMAkN45XBclFo4q6ryjaZDVVWnML42\nOrlcHtsqekhERBcp7Kk1qRRq/BlEiBtXwdvuOrmhxFmdUJNnuzz+1Jdbukz4m6ahjUCiKE6a\nNGnq1KlqtTqUgbBr165btmx5+umn3Qsxxlu2bOnSpYv/B3M6nTExMdLjvLy8IUOGuFb16tVr\n/fr1RUVFqampPlb5fyyiEZAUGKI2PG+yWk+bLSdMpkPeElvUGk26K7FFq02XsdEhrC3hP4vo\nvMzZapYvK9tT4jQDBnC7izXv/K9rO95dc+MIim3N+jvi3SuvvOJ0Ol988cXFixffUJXr5lcg\nnDx58uzZs5966qlXXnlFrVYDgMViefbZZ7dt27Zo0SI/j7R169ZTp049/PDDAIAxNhgMkZHX\nmuylxxUVFT5WuUp+/fXXuXPnuhaXL1/et29fP6vRYiiVSmWogg3G4tnT4v6/hIP7wOEAABQb\nR3XvSffui6LC/ess5ONLhATGfFXVOYPxWEXFPqPxuMF4zGjMcyW2AIBSGR8VNVSv66bTpUVF\n9dZpUz0SW4KKpulgdCcIT7kV+Y+drf2y7PpcjsPWsh5HvfRXGR+V+lGH0f4cbuvWrStWrNi/\nfz8VzHsrfgXCxx9//Lvvvnv77bdXrlyZnJyMMT516pTNZhs+fPgTTzzhzx62b9++YsWKp556\nyuu9xvqKiopyj3wqlSqs+hEihBiGEUUxBPPelV/EB/fBgb3YbAIA0GpRr76QnoGSOmAAHgDC\n6Q/hgaZpiqJ4nm8BfXPr5HRWGk3HKyv3m0x5RtPxysoDgnDtKkEm07dq1V+nTdNqUyMje0Xq\nMxnmupE3eF4AaKSzl2XZMJyzjGWDdUuiiyJqauuMmuV/mItP2is8CiMo9u/RaTU37qWK8+dY\nFy9enDx58ieffBIfH9xxpvwKhCzLbtmyZdmyZZ9++ml+fj5CqFu3bpMnT54xY4Y/k6Rv2bLl\nww8/nDNnzs033yyVIIT0er377WvpcVRUlI9VrpKMjIzly5e7Fo1Go9Fo9OeFtAxSh3qHw9Fo\nHeprpsAIHikw4fT+10bqUG+xWFred64oclXWQldii8l0yOEoc62tM7GlqooHCNkZEh0dLYpi\nWH1FQHA61EtuViferE6sWf6z6cyYk194FD7UuucrbYbU3NhPBw8eLCsru+OOO6RFjLEoigzD\nPPfccy+//PIN77YmfzvUsyz71FNPPfXUU/U9wOeff56bm/vCCy9kZFz3IyI1NXX//v3TplX3\nb92/f79CoejYsaPvVURjIikwYcvhuGi25FdV5Ut3+OpIbFF3pSiSyBbubtO2nxN/86LSa+O7\nDtK0ey7hbw3Z58CBA48cOeJaXLVq1dtvv33w4EFXrkmg1GNkGZ7nDx06VF5e3r9/fz9vhLz/\n/vvffffdww8/rNFoioqKAIBl2bZt2wLA2LFj582bt3LlypEjRxYVFW3atOmee+6R8kJ9rCIa\nQe0pMN2xkszo1gLxvNlqLZIu9aqqCoymIxx3rY2LomQREZ112oyIiBS1OkWv6y2TkftthBcv\nJgy6S9/lZ9PpKpHrG5EwQtcRQYP6f6vV6vT0dNdiXFwcALiXBIq/Y41+9tlnTz31VFlZGQDs\n2rXr5ptvLikpyczMXLx4sY8efpMmTfIYni4uLu6996rvne7Zs2ft2rXFxcVSr/mJEye6es37\nWFUTGWs0MMgoMA3TXMYaxViw289LYc9iybdU5VdVnXQfolMuj5Uu9aRrvpojtjQvUtNouPUj\nbJFjjS5atOif//xnMD5ffgXCH374YdSoUb169ZowYcLcuXOlQAgAWVlZGo1m06ZNAa9WvZBA\n2EDeJ0Iio8DUU5MNhB4jtpjNR9wTWxhGq1Z31UjDtWgztJp0mm5RU8qQQBgoIQ+EweNX0+jC\nhQszMzN3797N87x7v4X+/ft/+umnQasbEVxkFJgWSUpsuX6IzrOutQgxCkWiWp2i02ZcTWxp\n55nzThBhxq9AuG/fvgULFjAM4/FTt127dqWlpcGpGBEsJAWmhXFPbDFb8i3mPGmYaQnL6vX6\nvq4hOnXaDIpShLC2BNEE+RUIBUHwmqtSXl4evN4qRGCRFJiWgectVmuhK7HFZDrq5K641lKU\nTBXRwZXYotP1lMsCnF9HEC2PX4GwS5cuf/zxx4wZM9wLMcZff/11MBJ4iEAiKTDNXI0hOj0T\nW1q3Hu6W2JKMEB3C2hJEc+RXILz//vvnzp07fPjwnJwcqcRiscyZM+evv/5auXJlMKtH3Dgy\nEVJzxHFGS9UJt7lnjwqC1bXWfe5ZrTZDo+7GMOoQ1pYgWga/skZ5nr/rrru2bNkSExNTXl6e\nnJx89uxZp9N55513bt68OahDwPmDZI268zIKTOcuJAWmEajVarmcMRrrMbKM/4kt0tyzGnUK\nSWypL5I1GijhnjXKMMw333yzcuXK1atX2+320tLS9PT0++6777HHHgt5FAw39MUSds8uZ2UF\npdYwXdP41O6AEJAUmJDiOMPJU69dLPuK44xqdXKnjnPiYu/yuqVnYovlhCg6XGs9Elv8mXuW\nIIiG87dDfVMWPleETGGBMvdz9xKuV1++fUeSAhNCGAt/7b2nsnK3e2FGj5XxcWNrzD273+m8\n7NpGGqLzWmKLNlMuj2306rd85IowUFrwFSEJhM2HKKpXvC3d8POyUkqB6dZD1Ed63YAIkotl\nXx089JBHIUXJFYoEm+2se2KLUtlOo0lTR6Rqtd006jSVqiNJbGkEJBAGSgsOhPUYa1RSXFz8\n2WefFRcXp6WlPfDAAyGbEs8Ny7I03fK/UNDlS16joJjUURxxB46NpwDIlN6NieMMRuORkpJ1\nNVeJosPhuBQZ2Ven7abVdtdpu2m13Rgm9B/48IQQUihI70miVr4C4Zo1a958880NGza4pqHf\nsWPHHXfc4ZrQZMWKFTt27JCm6g0tHyORthiI8voaMXRNg7iElv/6Q00UOYulwGQ6ZjQdNZqO\nmkzHbLYLtW+Obh9ZwDDaxqsf4VM4fEUQN8xXINy8ebPFYnFFQQB45JFHzGbzvHnzevbs+dln\nn3311VdLlix57rnngl9PXziOC4umUWWEWqtDJo9p1ZA9vo1gs3l/CtEAHkN0mkyHRdHuWisl\ntmjUXVlWf+bsClF0uj+3VfQQjmM5jvxdQk+lUmGMbWH2GYmIaFEDxgabr0B48ODBYcOGuRYP\nHz585MiRhx566N///jcAZGdnp6enb968OeSBMFwgZBt5l+rLdeA2Mb3j5oFCazJ0SAB4JLaY\njAcdznLXWt9zz8rlsXknrn0KlMo23dLeatTaEwTRAL4CYXl5efv27V2Lu3btAoB7771XWqQo\n6q677nr33XeDWT3iOkJSh6r7/qHY/xdrqBQi1PaUNL5zSqgr1VzVGLHF59yzmlQK1XoHNqnd\nw1FRAysqvheESrk8OS42m3R7IIhmpI5kGcHt4mPfvn0A0LdvX1dJTExMuDU4hJzYKoa7Y4xK\np+NtNj6w8xG2aB5zz5rMR5xOL3PParUZEREpWk23+s49q1Gnxcf1bZrTMBEE4ZuvQNiuXTsp\n+El+++23lJQUrfba/X+DwRATQ9rliCYHY95uv+A+96zFUgBwradQjSE6m/fcs4RXPBa/MOYf\nvlJBA+rHxozWdmrghOlES+UrEI4cOXLJkiUff/zxnXfeuXbt2pMnT86ePdt9g3379nXo0CHI\nNSSIuvmee5ZldXr9TW5zz3anaTLaQAvnwMLdp7/cZ70oLa4EGKXtuKrtHRRJHyVq8NWhvrS0\ntHv37leuVE/yotfrjxw50qZNG2nRaDTGxcXNnTt3wYIFjVHT2oVLh/qrAj5DfbPjMUSnyXTI\n4ShzrUWIiYjodH1iS2PMPdtkZ6gPT/8q2/X2pT0ehW8kDH0gqntI6tPISIf6evF1RRgfH797\n9+6FCxeePHmyc+fOzz//vCsKAsD27dv/9re/3X333cGvJBHuyNyzhJ/smC/hLBe5qvWGvJpr\nt5iKwiQQhopdhLwqZBWgmxrr6z1ei3dGo3H+/PlffvlleXl5fHz8P/7xj4B3Vaijpp07d/7o\no4+8rho9evTo0aMDWxuCgHrOPavX9ZLJWoewtkTjs2O+jLOecRouclVlfNVFvqqMqzrLmS5y\nVeW8FUOtrVw2TC7Wg+jHK+jJfPqCHQBAScPcJHFOe7GuJ9XBbrcPHTqU47h///vfnTt3rqio\nCMaFaYBCNkE0gNSTwZXYQuaeJUSMy3lrCWcu460XePNFrqqUs1zgLBd5ywWnxe4tnikQk8Cq\n+0ckJLKaeFb9i/nsUfslj20ylSS5L1hOWtF9Ryjr1Q+uTYAFRVS8HCbFNygWvv322+fOnSso\nKIiKigpALWsR3EG3CwoKvvzyy8LCwvLy8mHDhj3++OPua/fu3btmzZrz58/rdLqsrKycnBzX\nMEg+VtVE7hE2L3XOPatSdXTNPavVpNN08xgjg9wjrC+nKFQI9jJeupizlPFW6f8zTkMJV8W5\ndet0kSM6jo1oL9PHMqo4Vi39n8RqY5mIWFblnhR6xmkceuozi9uIP/Gs+rdOOVFMWHTxDN49\nwrN2tN/kZe3aUuqnK57f0olyvDDZSyBso4CbtNWhx/c9wj59+nTs2DE6Onrz5s1qtXro0KGv\nvfZadHT0jb2E2gT3itBut8fHxw8YMGDdOs+BifPz81999dVRo0bNmjWrsLBw+fLloihOnjzZ\n9yqi2SFzz4Y5qRnzIm8p461nHAapGfMiX1XGVxU7zaK3Zkw9rego18Ux6iSZNpaJiGMiYtmI\nOCaig0ynpeV+Hre9TPddx+xXy3busV1kEDVIlfh87IAwiYJBta0CPXbC375GFxzo/qNe2m/G\nx+Kbunn5oVNTYWHhkSNHxowZ8/XXX1++fPnJJ5+8/fbbd+3aFdipcIMbCHv06NGjRw8AyM3N\n9ViVm5ubmJg4ffp0AEhKSiotLf3qq6+ys7PlcrmPVUGtLREQrp4MZO7Z8GEQ7NLturNOkxTk\npMUzTqNRcNTcXkbRkZSiu7J1EquVglwsEyFd6iWwEWyAmr5TFdGfJt0ZntMwBU9/PV6S4iWG\nfVFG/WHw/AkbI8PPdfByRdjB7w+9IAh6vX716tUymQwAFArFrbfeumPHjkGDBtWv3j6F7B5h\nXl7ekCFDXIu9evVav359UVFRamqqj1WhqCnhS425Zw84ndduzJC5Z1sMVzOmW2aKpYy3XuQt\nxU6zVfRyb0JqxkyRR8UxEe3lbo2ZjLotqyH9+ZqpZBVO9tYLt49WyNrP2K4PkU93wFMTG3T3\nLSEhoVWrVlIUBID09HQAOHPmTEsIhBhjg8EQGXltClnpcUVFhY9VrpJDhw6tXLnStfjoo4+m\npITRkJvS7VK5XM4wIfjz2e2lFZX7jcbjJtPxisr9ZnP+9XPPxsfF3qbVpkZG9tJp07S6bjQV\nLtfx0qSYarW6+U52bRf5UqelxGm6yFWVOEwXuaoiW0UpZyl1ms85TAL28tM+klEmKXQJMm0c\nG5Eg13aQ6+PlmnhW3VERqWeaRCcWhBBFUTqdLtQVaeG6a+C/XcXZBVQlBwAgo+DhRPEfiQ3N\nGh08ePA333zDcRzLsgBw/PhxAAj4QC7NMmu0oqLir7/+ci0+8MAD0nsUViiKCmwruVccZ6w0\nHDEajxuNx65U7KusPMTz1yYHZllNZGRPvS4tKqq3TtctKjJTLg/8LfrmJSS/TuqlkreVOMyl\nTrP0f5G90n2x5vYsoluxqkx1XLxMkyDXdFRESg/iZZr2Cn0E3Qxmg0YIheFXROMbHysOixb3\nmSgzj3trcZtA/BCaPXv22rVrH3rooTlz5ly5cuXRRx/t16/fgAEDArBrN6H50CKE9Hq9e6u9\n9DgqKsrHKlfJoEGDfvnlF9eiIAiu4W/CAcuyWq3WZrNZrda6t64PjyE6zZYT7kN0IkQrFG0i\nIwfodZlSU6fHEJ0WC1gsYfSH8BARESFljboPVR8qBsFefbuOq7rIV13kLGedJqnvgeX6qRMl\nUjNmv4gEV2ZKkkwXy6jiWU0bVk3XHIhVBLCD3W6219xXExMVFSWKosFgCHVFGlXA8yr9pGPg\n1qiGXgW6S0lJ2bp169NPP923b9+oqKgRI0a8/vrrAb8GCNmv19TU1P3790+bNk1a3L9/v0Kh\n6Nixo+9VEoZh3Mf+NhqNTeGrp9G4Wt4a3gRX19yzdQ/R2XybAYOncd4TJxZKuSopG7O614GU\nk8lXXeAsvLdmTD2tSJSp4xi3XgduiSo+jtUC/sot4CWErQEDBvzxxx9BPURwA6HT6Tx//rz0\nwGKxFBUVIYSk5t2xY8fOmzdv5cqVI0eOLCoq2rRp0z333CPlhfpYRTSE1JPhxuaeJeokYmwR\nvFxsNcQNDKGipxXdFK2k2Cb1PZA6IbSRadRUM2jGDCAM8N0V+lgZTwO+SU4P1ofRz2WiXoLb\nob6oqGjmzJnuJRRFbd68WXq8Z8+etWvXFhcXS73mJ06c6Oo172NVTWHVod5qO1Nc/IHdcVom\ni4lpNSY6erCPjd2H6PQ696xruBaNuqta3ZUKm8SWwLrEW1+6+Mc3pkKbyLWVaee07jsxMs3/\np9fseyA1Y5ZwFrO3yCpDdCStiGMjXJd01TmZjDqRVTNkPikAAOBEmJin+M1AA67umDohhnsn\nOcC/VJosMuh2vQQ3EDaO8AmElYY/9+wd594tr0vycx07VP/U8Jh71mg6wnHXzT2rUnVoyNyz\nhFccFkaf/nL/1el+JEsSs9xjoRMLFXywhlAhvHqzWPbvc54JMu8kOybEhMW4PyQQ1ktTz3Aj\nXDAWDx+Z4R4FAaDg5L/s9lKn87IfQ3SSuWeD4ivjKY8oCAD/LP1tr630IlclzYRwxW1yRBca\nUa0ZZXdl6zgmIoFRx7MR8aw6kdXEMhGJMrUCkc9mrUw88IDMPLKJ2CEis4A4EcwicghgE8Ei\nIA7DB6Ve3sCvLzNhEgiJeiEftmbDajvtPjiZy7nijwCAZSMjI/urI1K12m4adZpa3ZXMPRsQ\nJsFRKTgqBFulYK/k7ZWivYKvflDJ2ysFe5HDSzqiTeTXVBwDADmi41l1sjyyjUwTy0QksOoE\nVhPLqNqwmtaMKqyaMe0isovYLiIDDw4R2UVkF8EuggMjmwBGAdmFGosYOUSoXhTBLiKHiEwC\niPVpxpILIFLAIQAAM7lLSHhDAmGzgUXvv2TbtpnSqeMchSKhkevTrDmwUMHbDKKjgrdV8vYK\nwV4h2CoFRyVvqxQdUoST/nlNv3ShEaWQghlGgPUgqoC+AsiOAH3bcXwnuT66OQ8gZxORQ8Rm\ngeIwmHkpkoFZAB4jEw9OjKwCWATgARl55BSxVUBWEXEYDDziRKgSwSYgJ0ZGvvaJkfygoLCC\nQhpajKBwnAzLEVbSoKaBRVjLgAxhFQ0RNLCAdQyWUUhFYxWFFxfL6HPopQIx3QwiwJ+RaH4X\nKj2+2d8JIoKBBMJmQ6XqKGOj3WfmkyQmTiJR0MWOeQPvMEiDgXFVRtFhEBwGwW4Urj4QHQbe\n4XvWOgCQI1pPKzrJ9TpKrqcVelou3ajTUXI9o9DTcqm8NaM87TTekv+TwzoShHgAACQAuy8r\n5kxfVXwjvebruS68HCKyidjIU+4XXg4R7BgZuKuLGNlFMPDVF15ui6hKBK4B/cHkCCtpJKew\njhZjZaCgQI6wngUFwgr66iKDFRQoaFAgLKegepECBYXlFNYzoKBwBAXsDV02dzI5Wu+XKUQA\nABpgYAX+cp+AbwqLZAKivkggbDYoiu3WbdGBg1PdC9u2uU+v6x2qKjUaV3irDmy83Sg6pJQT\n9/B2RbD5voADAD2tiGVVSTKtFN50dHWckyKc1KkuilbIKH/HfY6hI9X2Djo1nwAAFWhJREFU\niQ7hasItpsHZtzPuVr8XGKJmQw+u6BUrE6VYpaRBTlVHLx2NlTTIUXX0um6RAh0jKikkp7CC\nwloaqFBn87TbwXicC3oOqD9puD2Q3b2JloEEwuYkNmZ03z6bz5z7r7XqpFweFxc3vk1i856d\nyjVHjyu8uV/ASVd1lYLd6S2v0p37BZw0Nop7eHNdwAUj33LjJfYK59k/78MSVSTN2UTgMDIJ\nyCmCVYAqEXEYjDxyimAVwSogrsHNhkoKyymkoUU1jeNkWEFhBQUaGliENQy4WhGZ6mZDUNEQ\nQWEGgZ7BLAURFKhozCKsYwLyvgSo4ZFHYAPgAXMAPAIewAYgIOwEEADxCNsAeIQ5jHgEPGAb\nAh6AAxAAOITtgHiEvY15gy+GOj4TTRLpPtH8NP2JeT0u4KRRvmq2T17irV6no3ORwpuekbva\nJ6ULuKuhrrq8FaMMeNYJj8HAowoOGQRUyUElT1XyUMGBgaeucFDJo+p/HNjEen+36hhgEFbT\nWEUjGcJaGjMINHR1m6GGxiwCDY3lFCgpHEGDjAItjWUUqCisokGGQMeILEIRdJP58PIIcxic\nCAmA7QgEAA6wHZCIsAMQjzCHsQMhAcCBpAiHnAgLAA4ADmEekOPq4g2jAMkBWIxpQAqML1NQ\n41sBdRHpiWHRlZB0n6gXckXY/GDAJQ6zGjf2b1uv7ZNSYJNCnRTeKgS7145x7qROcn1UcV7b\nJ/W0PI5Rx7MRsgDNS+fOyEMFT1VeH8ykOFfJoUoeVfBQyVOmunLs5QhHstBege0Yn7ZR6WYY\nXYajOHwiAn2eCE4Grezi0DE4gsYsAj0DLMIqGqsokAUsZAciCl69rpKusYAH6dIK21D1tReH\ngUfYBtXXXtzVyzWhOoABD8iK6vqDe6nxtccMRizCDAY5IC2AAgMLwEjlgBUYsQgYjJSAGQw0\nIBkAjUF5bRtgAJQAzHVviLidFn/27EeI0knaKOEFCYTNiYDFdy7ve+fyfpPgYBE9Rpe8IH5Q\nw/MSpQgnjeBVs31SinwXuSqvM6y6ky7gOsp10oWaNMRXzfbJGEYV8LnopLtrBh6MPGXgwcAj\no4AMHBh4VOZEF53IKCADjyp4VGcCiBxhPYvjVThOhmNlWEdjPYP1LFQ/YEDHiHoGYmXVv0TK\nnOj9Tcp/5rn2i2echU9GwV2tgtZfLRDRC6wAQj3+Cp5Rl6mOT8AARGFUS/SqDnJyXB29pG0U\n1dELMxjV5+St10lD/U3AxTQuuPa7g+otUD1IICS8aAlNo2azmefDopPsG2W7X7u4y71kgLrN\nVx3HeZkcwO0CziDYpQs4V6iTwptBsBt4x2XB5nWeORdX+6SeVkjXbXpGoacVOkoWL9PEMiqp\nPJpRBGpicXcGHi46kYGT4hwy8GDkkfTAwCMDB2UcKrWDo67rYyllUYpk0gMpzukZVyHWM9Ca\nxXQ9YzQuQ/YVDHX9CYg7YsXU64tc0csVpQSEnViKXsAB8CCVS4/doxd2AggIcxikyHfDrl57\nIRYBXX2NVX29xUoXVYBYqA5viuprLyRDmMZI6fZ0RT2DUuiIJynZRSXQ2Jloo5Ka/Xed/9yn\ndA2UFtw02hICocPhaISZ+ULOIjjj/3rTUaM34eSY7q1ZdQVnvcLbKnn7Fc5aKdivcNY6O8BF\ns8pIWhHNqqT/o1hlFK2MZpWt2IhIRhHNqKJYZRSjUFKBn8jNJoCBh0oOVzrhohNK7NjAQSUH\nlRw28KjSiaUHF+11nJ0KCiJlSM/gSBZde8CCnoUEBYqTQaQMIlnUir2hFHwMog1XX2w5AAuA\nbbg6jNlx9SIP/EnMFdZ4qxGgSAQ8RjwS7RgakKiIFAgxAHJADCAZIAVCNIAckAwQg5ACgEFI\njhGLgAVKiYCWbpUBYhClBGAQyDCSobAdqYZlWYxxmPxWdgnG/IskEDZpYZIsc9x+ZcjJTwHq\n+DHuNcFE6hXg0QHO63VkQ3htn5RaJqWrN6l98gqH+LpOOjnCcXIcy1ZfxtVsn4yT4Tg5liMv\nO8I2QCICJ4CUjmEHEBBwAE7AvGsRgRNAAGwDuLoxCBjbEZLaD50ADWxFUwAoMWIAWAwyABpA\nLi0CyDHQCOQiMAhYjGQADIAcA1P9ANGA5VdbF4mGiY6OFkXRfYrTcECSZeolXH8lNkM6WiaF\nQDkX197c9qKywqg8AyA8GNVjjL5LJKWIYhR6Wh7w9kkft9/c41wlj5x+3X6DTkpRR7taJqvD\nWysB6xHoRazDEAlAOa7GJwdgK0B1uELAoer2QxGBEwQOgYCxrTp6gRP8zNrwjkWIAazASIZR\nJAYWgAZQXI1eMgw0AoUINAIZBhYQA6DAuJgSf63xOVJjZrajIe2HCCBgvREIgvCJBMJmI5HV\nDJB3vG3X8H+c1rIYAOCn1vyCvv+bHdM3hrmRYUWlCOeKZO7hzf0CrsxZ69e5QgS5ADqM21A4\nE+E4AUchiMRYC9AKoLWAVRhHiEghYoUISgcg/mpyBwdgR5hHwKPqLl9u3/m4fhdjCBiMlQAK\njNSAWAx0dQ7hdRkZrtREGpDSldkBrnREJAe4oStk1F7Epyl85ron06P45nIXjSAIEgibk4f2\njR1VdO0Ld9glJn7HXcpMp3sY8biAuy7O8cjAgd2JrE5kdSBWwAoB6XisEEEhgFwEhQB6HmJE\n3E5EKhHrAFrxYoQIERiUIihFiHCCTARWwAyPaCd4a5gEt6Zbz1Bw3ebM1Qx4BUaRNxq9pCZH\nv9UWmxoUsyig7nWKvzJwnMFWQDGYGsKjVJKdSBABIIriv//971WrVhUXF0dGRg4dOvS1115r\n165dYI9C7hE2G1fMSLVYztb4c33YFSgZ4p0YORHwoBBALYAMg5oDpQhyEat5JBOxRqi+gLtx\nUoahHGMKkAIDDcACUgCmMJJX5x8iOcZ09e0uxAKWYSmzA1iMGMDyq4stkVqtVsgUBpMh3PIy\nmjhyjzBQ/LlHiK8AfwqAQ3RbTCX5tVvf9wj/85//vPjiiytWrBg0aFBxcfFjjz0mk8kOHDjg\nZ539RK4Im43KK5TO24+WtDLUv1Ja4f03jciImEFYjpECQIpMLAADSImrr7386LCMVdjPm4+o\nlsc1F1uglp+8TBC14rYj7kfAnPRRR0w6yHNwAz8Uf/zxx8CBA6dOnQoAnTt3njFjxowZMxwO\nh1weyB/UJBA2G6103nNRmLYCyhIoOQCFQSF1/AJwLdaHj0DV8mMYQRANIJwG53cAcO3Lgj8K\n1K+Iva1BjY633HLLK6+8smvXrv79+5eWlm7YsGHkyJGBjYJAAmEzoo/ERxNw15LrQlKlHDKH\nc7S62bdvEwTRLIjnEX/US7lQ4KWQ+wMw5+VXNB0PdIZf31qzZ892Op2DBw8GAJ7nR4wYsXHj\nxnpV2B8kEDYnnSZwxavYthXVJ1alHOxj+NYkChIE0VjEi5jb5m8LEbYDt81beQbQGX7tYePG\njW+88cayZcsGDBhw/vz5efPm/f3vf//2229RQIdpJMkyzQ2GylNyy2W5QsdHd7BSzXj+85ZG\nrVYrFAqDgSTLNC0kWSZQpGQZXAXY4CUIcTuB3+9ZSMWA/O9edoVUGF0dA853sky7du3GjRv3\n1ltvSYu7d+/u37//jh07BgwYUN/6+0CuCJsbBDFpYrJOZrMJTXUWJoIgWiwUASjCy+WTbAQI\n+Qhf/6Ukux2oxAZda1mtVvcRNKXHghDg7kkkEBIEQRANhbSgmAqOzVg8j6RF2SigUxra4jhm\nzJiVK1f26NFDahqdM2dOhw4devfuHYgqX9MSmkbDzblz59auXdu/f/+hQ4eGui7ENVu2bDlw\n4MBDDz0UExMT6roQ1yxatEir1T788MOhrkiz5+dYo9gK4ADk9+wXvptGrVbrq6++umHDhgsX\nLkRGRg4cOHDhwoWdO3f2d+/+If2emp9Lly7l5uYeO3Ys1BUhrnPgwIHc3FyDwRDqihDX+eab\nb7Zu3RrqWoQRpKpHFKyTSqVauHDhqVOnbDZbSUnJhg0bAh4FgQRCgiAIIsyRQEgQBEGENRII\nCYIgiLBGkmUIgiCIurXgiXnJFSFBEAQR1kggJAiCIMIaCYQEQRBEWCMjyzR1BQUFX375ZWFh\nYXl5+bBhwx5//HH3tXv37l2zZs358+d1Ol1WVlZOTk5gx6IlvNq6deu2bdvOnDnjcDgSEhLu\nuOOOYcOGudaSP0qobN++/euvv75w4YLD4YiOjh40aNCECRNYlpXWkr8LURv6pZdeCnUdCF8u\nXLhgsViGDBly5syZmJiYfv36uVbl5+e/+OL/t3f/IU11fxzAz265TdpslS5x2Zw2K6kUC7P9\nUSalGVkmLViSGAgGQWWuIrFvGikYImX0y1bKtBCrVRRYKUSJ2g/ILENI00QqGuisLNd+3eeP\n+31ua5pZ2TPbfb/+Oufs3nPOdoqP955z7v2fSqXatm1bYGCgXq+3Wq0LFixwY285QqfThYWF\nMfHvy5cvFRUVEolEqVQSDIpbvX79esaMGatXr46Li5NKpdXV1b29vVFRUQTjMhYsFsufqHbM\nXy74C3BFON4tWLCA+e9qMBhcPjIYDDKZLCMjgxAil8vfvn177do1tVo9Hv5hebaCggI2HRYW\n1tXV1dDQkJCQQDAobuX8RoLZs2d3d3c/ffqUyWJcft94WN75h2CO8C/W1tYWGRnJZiMjI81m\nc2dnpxu7xE0Wi2Xy5MlMGoMyHjgcjs7OzidPnoSH//+tdxgXGAGuCP9WNE339/dPmfL1oX5M\nuq+vz32d4qK6urqOjg7mmc4YFLezWq1qtZqmaZqm4+LiMC4wGgiEAL+uvr7+1KlTmZmZzAQh\nuN3EiROPHj1qtVrb29srKyt9fHxSU1Pd3SkY7xAI/1Y8Hk8ikTi/d5tJT5061X2d4paampqz\nZ89qtdro6GimBIPidjweTy6XE0JmzZpFUdSJEyeSk5NFIhHGBUaAOcK/2Ny5cx8/fsxmHz9+\nLBQKg4OD3dgl7qiqqiorK9u/fz8bBRkYlPHDZrPRNG2z2QjGBUaE7RPjncVi6e7uNplM9fX1\n3t7eMpmMne2QSqUGg+H9+/d+fn7Nzc16vX7dunXOKwLgDzlz5szVq1fT09MDAgJMJpPJZBoY\nGGDWy2BQ3Ki0tPTjx4+Dg4NGo7GhoeH8+fMRERHx8fEE4wIjwkO3x7vOzs6dO3c6l1AUdfXq\nVSb96NGjysrKnp4eZo/wpk2bsEf4P5CSkuLyAGJ/f//S0lImjUFxF71e/+DBA6PRSFGUVCpd\ntmxZYmIiu0EC4wLfg0AIAACchjlCAADgNARCAADgNARCAADgNARCAADgNARCAADgNARCAADg\nNARC8Ch1dXU8Hq+8vNzdHflqHHYJAJwhEIIne/HiRW5uLvtSOg9rDgDGBB66DR4lNjZ2cHDQ\ny8uLyb548SIvL2/WrFn/zbvIh23OpUsAMN7gihA8CkVRQqFwwoQJY1vt58+ff/ncP9QlABgr\nCITgUZwn5HJzcxMTEwkhmzdv5vF4PB4vJiaGOcxmsxUXF0dERHh7e4vF4piYmNu3b7OVXLp0\nicfjVVdX5+XlKZVKPp9/8OBBQsj79+9zcnIWL17s6+srEAiCg4O1Wu3AwABz1veaGzpH2N/f\nn5WVpVAoBALB9OnTU1JSOjo6XFq/fPlyYWFhaGioQCCYOXNmfn6+89MQbTbb4cOH58+fLxaL\nxWKxUqlMS0tzefwpAIwSbo2Cx0pLSxMIBNnZ2dnZ2StXriSESCQSQojdbl+7du2tW7fUanV6\nerrZbK6srFy1atX58+c1Gg17+t69e2UyWUFBgb+/P3Njs6enp7S0dMOGDRqNhs/n37t3r7i4\n+OHDh3fv3uXxeN9rzsWnT5+WLl367NmzlJQUlUrV3t5+8uTJmpqapqam2bNns4ft2bMnNDS0\npKREIpHodLqcnJxp06Zt3bqV+XTfvn1FRUWbNm3avn07RVHd3d03btz48OGDWCz+k78ogIei\nATxIbW0tIaSsrIzJXr9+nRBSUVHhfMzx48cJIefOnWNLLBZLZGTk9OnTrVYrTdMXL14khISG\nhjJZltlstlgsziX5+fmEkNra2hGac+lSXl4eIYS5wmPcunWLEBIfH89kmdYXLVrkcDiYErvd\nrlQq586dy56iUCiWL1/+cz8NAHwHbo0C5+j1eqlUqtFozP+y2+0ajebdu3ctLS3sYVu2bJk4\n8ZtbJgKBgF3zYrVazWbz+vXrCSH3798ffeuXL18WiUS7du1iS+Li4pYsWVJbW/vhwwe2kLm/\nyqQpilq0aNHLly8dDgdTIpFI2traHj169HPfHACGg0AInNPW1mY0Gr2/tXv3bkKI0WhkD1Mo\nFEPPLS8vV6lUkyZN4vP53t7eYWFhhJC+vr7Rt97Z2RkSEiIUCp0L58+f73A4Xr16xZYEBgY6\nH+Dj42OxWNhZwKKiIqvVGhUVJZfLU1JSysrKfmc5DwDHYY4QOMfhcCiVSr1eP/SjOXPmsGn2\nha6s4uLirKysxMREnU4XEBAgEAh6e3vXrFnDXqiNBk3To3kf7LDH0P+ul4mNje3q6rp58+ad\nO3fu3r174cKFAwcONDU1yWSy0fcEABgIhODJhg0noaGhra2t8+bNE4lEP1Xb2bNnFQrFtWvX\n2Grr6+t/2JyLkJCQjo4Os9nsfFHY2tpKUVRQUNDoOyMWi9VqtVqtJoRUVVVpNJqSkpLCwsLR\n1wAADNwaBU/GrKJ0uXWZmppqsVi0Wi3ttCGBEPLmzZuRa6MoiqZpu93OZO12e0FBwQ+bc5Gc\nnDwwMHDkyBG2pK6urrGxccWKFT4+Pj/+SoQMbSI6OvqH7QLA9+CKEDxZeHi4UCg8duwYn8+X\nSCRSqTQ2Nnbbtm11dXWnT59ubm5et26dn59fT09PU1NTS0uL8xzhUBs2bMjNzU1ISNi4cePH\njx+rqqpcQumwzblUotVqL126tG/fvufPn7PbJ6ZMmXL06NHRf6+AgIA1a9YsXLhQJpMZjUad\nTjdhwoTNmzePvgYA+Mqta1YBxpjLXgWapg0GQ3h4ODPht2zZMqbQbrefOnUqOjpaJBIJhcKg\noKCkpCR22wOzgeHKlSsulVut1kOHDoWEhPD5/MDAwMzMzK6uLkLIjh07RmhuaJdMJlNmZqZc\nLvfy8vLz89NoNO3t7eynw7aekZFBCDGZTEw2OztbpVL5+vp6eXnJZLKkpKTGxsbf++UAuItH\nf/snLQAAAKdgjhAAADgNgRAAADgNgRAAADgNgRAAADgNgRAAADgNgRAAADgNgRAAADgNgRAA\nADgNgRAAADgNgRAAADgNgRAAADjtH+ZzniJFX9TsAAAAAElFTkSuQmCC",
      "text/plain": [
       "plot without title"
      ]
     },
     "metadata": {},
     "output_type": "display_data"
    },
    {
     "data": {
      "image/png": "iVBORw0KGgoAAAANSUhEUgAAAlgAAADwCAIAAABT1I0hAAAACXBIWXMAABJ0AAASdAHeZh94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",
      "text/plain": [
       "plot without title"
      ]
     },
     "metadata": {},
     "output_type": "display_data"
    }
   ],
   "source": [
    "speedup_calc(iterations = seq(from = 10, 30, by = 10), cores = c(1,2,4,6, 8), wait_time = 15, evaluate = TRUE)"
   ]
  },
  {
   "cell_type": "markdown",
   "metadata": {},
   "source": [
    "## Conclusion\n",
    "The future package will offer the best performance when there are fewer iterations but each iteration is very slow. With your own code, try running one iteration to see how long it takes and then use that estimate with speedup_calc. Depending on the wait_time and number of iterations, the function should give an estimate on if parallelization is worthwhile (caveat: the code will be slower if the you have a large global environment). "
   ]
  }
 ],
 "metadata": {
  "kernelspec": {
   "display_name": "R",
   "language": "R",
   "name": "ir"
  },
  "language_info": {
   "codemirror_mode": "r",
   "file_extension": ".r",
   "mimetype": "text/x-r-source",
   "name": "R",
   "pygments_lexer": "r",
   "version": "3.6.1"
  }
 },
 "nbformat": 4,
 "nbformat_minor": 2
}
